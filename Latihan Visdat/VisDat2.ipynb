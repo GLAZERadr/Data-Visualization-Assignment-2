{
 "cells": [
  {
   "attachments": {},
   "cell_type": "markdown",
   "id": "c88bed55",
   "metadata": {},
   "source": [
    "# Assignment  Visualisasi Data 2 Pada Dataset CIA World Factbook"
   ]
  },
  {
   "attachments": {},
   "cell_type": "markdown",
   "id": "7759fae3",
   "metadata": {},
   "source": [
    "**CIA World Factbook** adalah buku referensi yang diterbitkan oleh CIA yang memberikan informasi tentang negara-negara di dunia, termasuk data statistik, geografi, populasi, pemerintahan, dan informasi lainnya. Dataset ini berisi data dari berbagai negara di dunia dan mencakup beberapa variabel seperti GDP per kapita, tingkat harapan hidup, populasi, luas wilayah, anggaran militer, dan sebagainya."
   ]
  },
  {
   "attachments": {},
   "cell_type": "markdown",
   "id": "564e060d",
   "metadata": {},
   "source": [
    "---------------------------------------------------------------------------------------------------------------------------"
   ]
  },
  {
   "attachments": {},
   "cell_type": "markdown",
   "id": "554a7553",
   "metadata": {},
   "source": [
    "## Baca Data"
   ]
  },
  {
   "cell_type": "code",
   "execution_count": 225,
   "metadata": {},
   "outputs": [],
   "source": [
    "import plotly.express as px\n",
    "import pandas as pd\n",
    "import plotly.graph_objs as go"
   ]
  },
  {
   "cell_type": "code",
   "execution_count": 226,
   "id": "4513d4b2",
   "metadata": {},
   "outputs": [
    {
     "data": {
      "text/html": [
       "<div>\n",
       "<style scoped>\n",
       "    .dataframe tbody tr th:only-of-type {\n",
       "        vertical-align: middle;\n",
       "    }\n",
       "\n",
       "    .dataframe tbody tr th {\n",
       "        vertical-align: top;\n",
       "    }\n",
       "\n",
       "    .dataframe thead th {\n",
       "        text-align: right;\n",
       "    }\n",
       "</style>\n",
       "<table border=\"1\" class=\"dataframe\">\n",
       "  <thead>\n",
       "    <tr style=\"text-align: right;\">\n",
       "      <th></th>\n",
       "      <th>country</th>\n",
       "      <th>code_2</th>\n",
       "      <th>code_3</th>\n",
       "      <th>country_code</th>\n",
       "      <th>iso_3166_2</th>\n",
       "      <th>continent</th>\n",
       "      <th>sub_region</th>\n",
       "      <th>region_code</th>\n",
       "      <th>sub_region_code</th>\n",
       "    </tr>\n",
       "  </thead>\n",
       "  <tbody>\n",
       "    <tr>\n",
       "      <th>0</th>\n",
       "      <td>Afghanistan</td>\n",
       "      <td>AF</td>\n",
       "      <td>AFG</td>\n",
       "      <td>4</td>\n",
       "      <td>ISO 3166-2:AF</td>\n",
       "      <td>Asia</td>\n",
       "      <td>Southern Asia</td>\n",
       "      <td>142.0</td>\n",
       "      <td>34.0</td>\n",
       "    </tr>\n",
       "    <tr>\n",
       "      <th>1</th>\n",
       "      <td>ï¿½land Islands</td>\n",
       "      <td>AX</td>\n",
       "      <td>ALA</td>\n",
       "      <td>248</td>\n",
       "      <td>ISO 3166-2:AX</td>\n",
       "      <td>Europe</td>\n",
       "      <td>Northern Europe</td>\n",
       "      <td>150.0</td>\n",
       "      <td>154.0</td>\n",
       "    </tr>\n",
       "    <tr>\n",
       "      <th>2</th>\n",
       "      <td>Albania</td>\n",
       "      <td>AL</td>\n",
       "      <td>ALB</td>\n",
       "      <td>8</td>\n",
       "      <td>ISO 3166-2:AL</td>\n",
       "      <td>Europe</td>\n",
       "      <td>Southern Europe</td>\n",
       "      <td>150.0</td>\n",
       "      <td>39.0</td>\n",
       "    </tr>\n",
       "    <tr>\n",
       "      <th>3</th>\n",
       "      <td>Algeria</td>\n",
       "      <td>DZ</td>\n",
       "      <td>DZA</td>\n",
       "      <td>12</td>\n",
       "      <td>ISO 3166-2:DZ</td>\n",
       "      <td>Africa</td>\n",
       "      <td>Northern Africa</td>\n",
       "      <td>2.0</td>\n",
       "      <td>15.0</td>\n",
       "    </tr>\n",
       "    <tr>\n",
       "      <th>4</th>\n",
       "      <td>American Samoa</td>\n",
       "      <td>AS</td>\n",
       "      <td>ASM</td>\n",
       "      <td>16</td>\n",
       "      <td>ISO 3166-2:AS</td>\n",
       "      <td>Oceania</td>\n",
       "      <td>Polynesia</td>\n",
       "      <td>9.0</td>\n",
       "      <td>61.0</td>\n",
       "    </tr>\n",
       "    <tr>\n",
       "      <th>...</th>\n",
       "      <td>...</td>\n",
       "      <td>...</td>\n",
       "      <td>...</td>\n",
       "      <td>...</td>\n",
       "      <td>...</td>\n",
       "      <td>...</td>\n",
       "      <td>...</td>\n",
       "      <td>...</td>\n",
       "      <td>...</td>\n",
       "    </tr>\n",
       "    <tr>\n",
       "      <th>244</th>\n",
       "      <td>Wallis and Futuna</td>\n",
       "      <td>WF</td>\n",
       "      <td>WLF</td>\n",
       "      <td>876</td>\n",
       "      <td>ISO 3166-2:WF</td>\n",
       "      <td>Oceania</td>\n",
       "      <td>Polynesia</td>\n",
       "      <td>9.0</td>\n",
       "      <td>61.0</td>\n",
       "    </tr>\n",
       "    <tr>\n",
       "      <th>245</th>\n",
       "      <td>Western Sahara</td>\n",
       "      <td>EH</td>\n",
       "      <td>ESH</td>\n",
       "      <td>732</td>\n",
       "      <td>ISO 3166-2:EH</td>\n",
       "      <td>Africa</td>\n",
       "      <td>Northern Africa</td>\n",
       "      <td>2.0</td>\n",
       "      <td>15.0</td>\n",
       "    </tr>\n",
       "    <tr>\n",
       "      <th>246</th>\n",
       "      <td>Yemen</td>\n",
       "      <td>YE</td>\n",
       "      <td>YEM</td>\n",
       "      <td>887</td>\n",
       "      <td>ISO 3166-2:YE</td>\n",
       "      <td>Asia</td>\n",
       "      <td>Western Asia</td>\n",
       "      <td>142.0</td>\n",
       "      <td>145.0</td>\n",
       "    </tr>\n",
       "    <tr>\n",
       "      <th>247</th>\n",
       "      <td>Zambia</td>\n",
       "      <td>ZM</td>\n",
       "      <td>ZMB</td>\n",
       "      <td>894</td>\n",
       "      <td>ISO 3166-2:ZM</td>\n",
       "      <td>Africa</td>\n",
       "      <td>Eastern Africa</td>\n",
       "      <td>2.0</td>\n",
       "      <td>14.0</td>\n",
       "    </tr>\n",
       "    <tr>\n",
       "      <th>248</th>\n",
       "      <td>Zimbabwe</td>\n",
       "      <td>ZW</td>\n",
       "      <td>ZWE</td>\n",
       "      <td>716</td>\n",
       "      <td>ISO 3166-2:ZW</td>\n",
       "      <td>Africa</td>\n",
       "      <td>Eastern Africa</td>\n",
       "      <td>2.0</td>\n",
       "      <td>14.0</td>\n",
       "    </tr>\n",
       "  </tbody>\n",
       "</table>\n",
       "<p>249 rows × 9 columns</p>\n",
       "</div>"
      ],
      "text/plain": [
       "               country code_2 code_3  country_code     iso_3166_2 continent  \\\n",
       "0          Afghanistan     AF    AFG             4  ISO 3166-2:AF      Asia   \n",
       "1      ï¿½land Islands     AX    ALA           248  ISO 3166-2:AX    Europe   \n",
       "2              Albania     AL    ALB             8  ISO 3166-2:AL    Europe   \n",
       "3              Algeria     DZ    DZA            12  ISO 3166-2:DZ    Africa   \n",
       "4       American Samoa     AS    ASM            16  ISO 3166-2:AS   Oceania   \n",
       "..                 ...    ...    ...           ...            ...       ...   \n",
       "244  Wallis and Futuna     WF    WLF           876  ISO 3166-2:WF   Oceania   \n",
       "245     Western Sahara     EH    ESH           732  ISO 3166-2:EH    Africa   \n",
       "246              Yemen     YE    YEM           887  ISO 3166-2:YE      Asia   \n",
       "247             Zambia     ZM    ZMB           894  ISO 3166-2:ZM    Africa   \n",
       "248           Zimbabwe     ZW    ZWE           716  ISO 3166-2:ZW    Africa   \n",
       "\n",
       "          sub_region  region_code  sub_region_code  \n",
       "0      Southern Asia        142.0             34.0  \n",
       "1    Northern Europe        150.0            154.0  \n",
       "2    Southern Europe        150.0             39.0  \n",
       "3    Northern Africa          2.0             15.0  \n",
       "4          Polynesia          9.0             61.0  \n",
       "..               ...          ...              ...  \n",
       "244        Polynesia          9.0             61.0  \n",
       "245  Northern Africa          2.0             15.0  \n",
       "246     Western Asia        142.0            145.0  \n",
       "247   Eastern Africa          2.0             14.0  \n",
       "248   Eastern Africa          2.0             14.0  \n",
       "\n",
       "[249 rows x 9 columns]"
      ]
     },
     "execution_count": 226,
     "metadata": {},
     "output_type": "execute_result"
    }
   ],
   "source": [
    "df = pd.read_csv('countryContinent.csv', encoding='ISO-8859-1')\n",
    "df"
   ]
  },
  {
   "cell_type": "code",
   "execution_count": 227,
   "id": "8647e4a4",
   "metadata": {},
   "outputs": [],
   "source": [
    "df.drop(columns=['code_2', 'code_3', 'country_code', 'iso_3166_2', 'sub_region', 'region_code', 'sub_region_code'], inplace=True)"
   ]
  },
  {
   "cell_type": "code",
   "execution_count": 228,
   "id": "383360f9",
   "metadata": {},
   "outputs": [
    {
     "data": {
      "text/html": [
       "<div>\n",
       "<style scoped>\n",
       "    .dataframe tbody tr th:only-of-type {\n",
       "        vertical-align: middle;\n",
       "    }\n",
       "\n",
       "    .dataframe tbody tr th {\n",
       "        vertical-align: top;\n",
       "    }\n",
       "\n",
       "    .dataframe thead th {\n",
       "        text-align: right;\n",
       "    }\n",
       "</style>\n",
       "<table border=\"1\" class=\"dataframe\">\n",
       "  <thead>\n",
       "    <tr style=\"text-align: right;\">\n",
       "      <th></th>\n",
       "      <th>Country</th>\n",
       "      <th>continent</th>\n",
       "    </tr>\n",
       "  </thead>\n",
       "  <tbody>\n",
       "    <tr>\n",
       "      <th>0</th>\n",
       "      <td>Afghanistan</td>\n",
       "      <td>Asia</td>\n",
       "    </tr>\n",
       "    <tr>\n",
       "      <th>1</th>\n",
       "      <td>ï¿½land Islands</td>\n",
       "      <td>Europe</td>\n",
       "    </tr>\n",
       "    <tr>\n",
       "      <th>2</th>\n",
       "      <td>Albania</td>\n",
       "      <td>Europe</td>\n",
       "    </tr>\n",
       "    <tr>\n",
       "      <th>3</th>\n",
       "      <td>Algeria</td>\n",
       "      <td>Africa</td>\n",
       "    </tr>\n",
       "    <tr>\n",
       "      <th>4</th>\n",
       "      <td>American Samoa</td>\n",
       "      <td>Oceania</td>\n",
       "    </tr>\n",
       "    <tr>\n",
       "      <th>...</th>\n",
       "      <td>...</td>\n",
       "      <td>...</td>\n",
       "    </tr>\n",
       "    <tr>\n",
       "      <th>244</th>\n",
       "      <td>Wallis and Futuna</td>\n",
       "      <td>Oceania</td>\n",
       "    </tr>\n",
       "    <tr>\n",
       "      <th>245</th>\n",
       "      <td>Western Sahara</td>\n",
       "      <td>Africa</td>\n",
       "    </tr>\n",
       "    <tr>\n",
       "      <th>246</th>\n",
       "      <td>Yemen</td>\n",
       "      <td>Asia</td>\n",
       "    </tr>\n",
       "    <tr>\n",
       "      <th>247</th>\n",
       "      <td>Zambia</td>\n",
       "      <td>Africa</td>\n",
       "    </tr>\n",
       "    <tr>\n",
       "      <th>248</th>\n",
       "      <td>Zimbabwe</td>\n",
       "      <td>Africa</td>\n",
       "    </tr>\n",
       "  </tbody>\n",
       "</table>\n",
       "<p>249 rows × 2 columns</p>\n",
       "</div>"
      ],
      "text/plain": [
       "               Country continent\n",
       "0          Afghanistan      Asia\n",
       "1      ï¿½land Islands    Europe\n",
       "2              Albania    Europe\n",
       "3              Algeria    Africa\n",
       "4       American Samoa   Oceania\n",
       "..                 ...       ...\n",
       "244  Wallis and Futuna   Oceania\n",
       "245     Western Sahara    Africa\n",
       "246              Yemen      Asia\n",
       "247             Zambia    Africa\n",
       "248           Zimbabwe    Africa\n",
       "\n",
       "[249 rows x 2 columns]"
      ]
     },
     "execution_count": 228,
     "metadata": {},
     "output_type": "execute_result"
    }
   ],
   "source": [
    "df = df.rename(columns={'country': 'Country'})\n",
    "df"
   ]
  },
  {
   "cell_type": "code",
   "execution_count": 229,
   "id": "8db8d98e",
   "metadata": {},
   "outputs": [
    {
     "data": {
      "text/html": [
       "<div>\n",
       "<style scoped>\n",
       "    .dataframe tbody tr th:only-of-type {\n",
       "        vertical-align: middle;\n",
       "    }\n",
       "\n",
       "    .dataframe tbody tr th {\n",
       "        vertical-align: top;\n",
       "    }\n",
       "\n",
       "    .dataframe thead th {\n",
       "        text-align: right;\n",
       "    }\n",
       "</style>\n",
       "<table border=\"1\" class=\"dataframe\">\n",
       "  <thead>\n",
       "    <tr style=\"text-align: right;\">\n",
       "      <th></th>\n",
       "      <th>Country</th>\n",
       "      <th>Area</th>\n",
       "      <th>Birth rate</th>\n",
       "      <th>Current account balance</th>\n",
       "      <th>Death rate</th>\n",
       "      <th>Electricity consumption</th>\n",
       "      <th>Electricity production</th>\n",
       "      <th>Exports</th>\n",
       "      <th>GDP</th>\n",
       "      <th>GDP per capita</th>\n",
       "      <th>...</th>\n",
       "      <th>Life expectancy at birth</th>\n",
       "      <th>Military expenditures</th>\n",
       "      <th>Natural gas consumption</th>\n",
       "      <th>Oil consumption</th>\n",
       "      <th>Population</th>\n",
       "      <th>Public debt</th>\n",
       "      <th>Railways</th>\n",
       "      <th>Reserves of foreign exchange &amp; gold</th>\n",
       "      <th>Total fertility rate</th>\n",
       "      <th>Unemployment rate</th>\n",
       "    </tr>\n",
       "  </thead>\n",
       "  <tbody>\n",
       "    <tr>\n",
       "      <th>0</th>\n",
       "      <td>Japan</td>\n",
       "      <td>377,835</td>\n",
       "      <td>9.47</td>\n",
       "      <td>$170,200,000,000.00</td>\n",
       "      <td>8.95</td>\n",
       "      <td>971,000,000,000</td>\n",
       "      <td>1,044,000,000,000.00</td>\n",
       "      <td>$538,800,000,000.00</td>\n",
       "      <td>$3,745,000,000,000.00</td>\n",
       "      <td>$29,400.00</td>\n",
       "      <td>...</td>\n",
       "      <td>81.15</td>\n",
       "      <td>1.00</td>\n",
       "      <td>80,420,000,000.00</td>\n",
       "      <td>5,290,000</td>\n",
       "      <td>127,417,244</td>\n",
       "      <td>164.3</td>\n",
       "      <td>23705</td>\n",
       "      <td>664,600,000,000.00</td>\n",
       "      <td>1.39</td>\n",
       "      <td>4.7</td>\n",
       "    </tr>\n",
       "    <tr>\n",
       "      <th>1</th>\n",
       "      <td>Germany</td>\n",
       "      <td>357,021</td>\n",
       "      <td>8.33</td>\n",
       "      <td>$73,590,000,000.00</td>\n",
       "      <td>10.55</td>\n",
       "      <td>519,500,000,000</td>\n",
       "      <td>560,000,000,000.00</td>\n",
       "      <td>$893,300,000,000.00</td>\n",
       "      <td>$2,362,000,000,000.00</td>\n",
       "      <td>$28,700.00</td>\n",
       "      <td>...</td>\n",
       "      <td>78.65</td>\n",
       "      <td>1.50</td>\n",
       "      <td>99,550,000,000.00</td>\n",
       "      <td>2,891,000</td>\n",
       "      <td>82,431,390</td>\n",
       "      <td>65.8</td>\n",
       "      <td>46039</td>\n",
       "      <td>96,840,000,000.00</td>\n",
       "      <td>1.39</td>\n",
       "      <td>10.6</td>\n",
       "    </tr>\n",
       "    <tr>\n",
       "      <th>2</th>\n",
       "      <td>Saudi Arabia</td>\n",
       "      <td>1,960,582</td>\n",
       "      <td>29.56</td>\n",
       "      <td>$51,500,000,000.00</td>\n",
       "      <td>2.62</td>\n",
       "      <td>128,500,000,000</td>\n",
       "      <td>138,200,000,000.00</td>\n",
       "      <td>$113,000,000,000.00</td>\n",
       "      <td>$310,200,000,000.00</td>\n",
       "      <td>$12,000.00</td>\n",
       "      <td>...</td>\n",
       "      <td>75.46</td>\n",
       "      <td>10.00</td>\n",
       "      <td>56,400,000,000.00</td>\n",
       "      <td>1,550,000</td>\n",
       "      <td>26,417,599</td>\n",
       "      <td>75</td>\n",
       "      <td>1392</td>\n",
       "      <td>23,620,000,000.00</td>\n",
       "      <td>4.05</td>\n",
       "      <td>25</td>\n",
       "    </tr>\n",
       "    <tr>\n",
       "      <th>3</th>\n",
       "      <td>Russia</td>\n",
       "      <td>17,075,200</td>\n",
       "      <td>9.80</td>\n",
       "      <td>$46,040,000,000.00</td>\n",
       "      <td>14.52</td>\n",
       "      <td>894,300,000,000</td>\n",
       "      <td>915,000,000,000.00</td>\n",
       "      <td>$162,500,000,000.00</td>\n",
       "      <td>$1,408,000,000,000.00</td>\n",
       "      <td>$9,800.00</td>\n",
       "      <td>...</td>\n",
       "      <td>67.10</td>\n",
       "      <td></td>\n",
       "      <td>405,800,000,000.00</td>\n",
       "      <td>2,310,000</td>\n",
       "      <td>143,420,309</td>\n",
       "      <td>28.2</td>\n",
       "      <td>87157</td>\n",
       "      <td>124,500,000,000.00</td>\n",
       "      <td>1.27</td>\n",
       "      <td>8.3</td>\n",
       "    </tr>\n",
       "    <tr>\n",
       "      <th>4</th>\n",
       "      <td>Switzerland</td>\n",
       "      <td>41,290</td>\n",
       "      <td>9.77</td>\n",
       "      <td>$40,950,000,000.00</td>\n",
       "      <td>8.48</td>\n",
       "      <td>54,530,000,000</td>\n",
       "      <td>63,470,000,000.00</td>\n",
       "      <td>$130,700,000,000.00</td>\n",
       "      <td>$251,900,000,000.00</td>\n",
       "      <td>$33,800.00</td>\n",
       "      <td>...</td>\n",
       "      <td>80.39</td>\n",
       "      <td>1.00</td>\n",
       "      <td>3,093,000,000.00</td>\n",
       "      <td>290,400</td>\n",
       "      <td>7,489,370</td>\n",
       "      <td>57.2</td>\n",
       "      <td>4533</td>\n",
       "      <td>69,580,000,000.00</td>\n",
       "      <td>1.42</td>\n",
       "      <td>3.4</td>\n",
       "    </tr>\n",
       "    <tr>\n",
       "      <th>...</th>\n",
       "      <td>...</td>\n",
       "      <td>...</td>\n",
       "      <td>...</td>\n",
       "      <td>...</td>\n",
       "      <td>...</td>\n",
       "      <td>...</td>\n",
       "      <td>...</td>\n",
       "      <td>...</td>\n",
       "      <td>...</td>\n",
       "      <td>...</td>\n",
       "      <td>...</td>\n",
       "      <td>...</td>\n",
       "      <td>...</td>\n",
       "      <td>...</td>\n",
       "      <td>...</td>\n",
       "      <td>...</td>\n",
       "      <td>...</td>\n",
       "      <td>...</td>\n",
       "      <td>...</td>\n",
       "      <td>...</td>\n",
       "      <td>...</td>\n",
       "    </tr>\n",
       "    <tr>\n",
       "      <th>144</th>\n",
       "      <td>Italy</td>\n",
       "      <td>301,230</td>\n",
       "      <td>8.89</td>\n",
       "      <td>$(21,100,000,000.00)</td>\n",
       "      <td>10.30</td>\n",
       "      <td>293,900,000,000</td>\n",
       "      <td>261,600,000,000.00</td>\n",
       "      <td>$336,400,000,000.00</td>\n",
       "      <td>$1,609,000,000,000.00</td>\n",
       "      <td>$27,700.00</td>\n",
       "      <td>...</td>\n",
       "      <td>79.68</td>\n",
       "      <td>1.80</td>\n",
       "      <td>71,180,000,000.00</td>\n",
       "      <td>1,866,000</td>\n",
       "      <td>58,103,033</td>\n",
       "      <td>105.6</td>\n",
       "      <td>19507</td>\n",
       "      <td>61,500,000,000.00</td>\n",
       "      <td>1.28</td>\n",
       "      <td>8.6</td>\n",
       "    </tr>\n",
       "    <tr>\n",
       "      <th>145</th>\n",
       "      <td>Spain</td>\n",
       "      <td>504,782</td>\n",
       "      <td>10.10</td>\n",
       "      <td>$(30,890,000,000.00)</td>\n",
       "      <td>9.63</td>\n",
       "      <td>218,400,000,000</td>\n",
       "      <td>229,000,000,000.00</td>\n",
       "      <td>$172,500,000,000.00</td>\n",
       "      <td>$937,600,000,000.00</td>\n",
       "      <td>$23,300.00</td>\n",
       "      <td>...</td>\n",
       "      <td>79.52</td>\n",
       "      <td>1.20</td>\n",
       "      <td>17,960,000,000.00</td>\n",
       "      <td>1,497,000</td>\n",
       "      <td>40,341,462</td>\n",
       "      <td>53.2</td>\n",
       "      <td>14268</td>\n",
       "      <td>19,700,000,000.00</td>\n",
       "      <td>1.28</td>\n",
       "      <td>10.4</td>\n",
       "    </tr>\n",
       "    <tr>\n",
       "      <th>146</th>\n",
       "      <td>United Kingdom</td>\n",
       "      <td>244,820</td>\n",
       "      <td>10.78</td>\n",
       "      <td>$(33,460,000,000.00)</td>\n",
       "      <td>10.18</td>\n",
       "      <td>337,400,000,000</td>\n",
       "      <td>395,900,000,000.00</td>\n",
       "      <td>$347,200,000,000.00</td>\n",
       "      <td>$1,782,000,000,000.00</td>\n",
       "      <td>$29,600.00</td>\n",
       "      <td>...</td>\n",
       "      <td>78.38</td>\n",
       "      <td>2.40</td>\n",
       "      <td>92,850,000,000.00</td>\n",
       "      <td>1,692,000</td>\n",
       "      <td>60,441,457</td>\n",
       "      <td>39.6</td>\n",
       "      <td>17186</td>\n",
       "      <td>48,730,000,000.00</td>\n",
       "      <td>1.66</td>\n",
       "      <td>4.8</td>\n",
       "    </tr>\n",
       "    <tr>\n",
       "      <th>147</th>\n",
       "      <td>Australia</td>\n",
       "      <td>7,686,850</td>\n",
       "      <td>12.26</td>\n",
       "      <td>$(38,300,000,000.00)</td>\n",
       "      <td>7.44</td>\n",
       "      <td>195,600,000,000</td>\n",
       "      <td>210,300,000,000.00</td>\n",
       "      <td>$86,890,000,000.00</td>\n",
       "      <td>$611,700,000,000.00</td>\n",
       "      <td>$30,700.00</td>\n",
       "      <td>...</td>\n",
       "      <td>80.39</td>\n",
       "      <td>2.70</td>\n",
       "      <td>23,330,000,000.00</td>\n",
       "      <td>796,500</td>\n",
       "      <td>20,090,437</td>\n",
       "      <td>17.4</td>\n",
       "      <td>43802</td>\n",
       "      <td>35,140,000,000.00</td>\n",
       "      <td>1.76</td>\n",
       "      <td>5.1</td>\n",
       "    </tr>\n",
       "    <tr>\n",
       "      <th>148</th>\n",
       "      <td>United States</td>\n",
       "      <td>9,631,418</td>\n",
       "      <td>14.14</td>\n",
       "      <td>$(646,500,000,000.00)</td>\n",
       "      <td>8.25</td>\n",
       "      <td>3,660,000,000,000</td>\n",
       "      <td>3,839,000,000,000.00</td>\n",
       "      <td>$795,000,000,000.00</td>\n",
       "      <td>$11,750,000,000,000.00</td>\n",
       "      <td>$40,100.00</td>\n",
       "      <td>...</td>\n",
       "      <td>77.71</td>\n",
       "      <td>3.30</td>\n",
       "      <td>640,900,000,000.00</td>\n",
       "      <td>19,650,000</td>\n",
       "      <td>295,734,134</td>\n",
       "      <td>65</td>\n",
       "      <td>228464</td>\n",
       "      <td>85,940,000,000.00</td>\n",
       "      <td>2.08</td>\n",
       "      <td>5.5</td>\n",
       "    </tr>\n",
       "  </tbody>\n",
       "</table>\n",
       "<p>149 rows × 29 columns</p>\n",
       "</div>"
      ],
      "text/plain": [
       "            Country        Area   Birth rate   Current account balance   \\\n",
       "0             Japan     377,835         9.47       $170,200,000,000.00    \n",
       "1           Germany     357,021         8.33        $73,590,000,000.00    \n",
       "2      Saudi Arabia   1,960,582        29.56        $51,500,000,000.00    \n",
       "3            Russia  17,075,200         9.80        $46,040,000,000.00    \n",
       "4       Switzerland      41,290         9.77        $40,950,000,000.00    \n",
       "..              ...         ...          ...                        ...   \n",
       "144           Italy     301,230         8.89       $(21,100,000,000.00)   \n",
       "145           Spain     504,782        10.10       $(30,890,000,000.00)   \n",
       "146  United Kingdom     244,820        10.78       $(33,460,000,000.00)   \n",
       "147       Australia   7,686,850        12.26       $(38,300,000,000.00)   \n",
       "148   United States   9,631,418        14.14      $(646,500,000,000.00)   \n",
       "\n",
       "      Death rate  Electricity consumption   Electricity production   \\\n",
       "0           8.95          971,000,000,000     1,044,000,000,000.00    \n",
       "1          10.55          519,500,000,000       560,000,000,000.00    \n",
       "2           2.62          128,500,000,000       138,200,000,000.00    \n",
       "3          14.52          894,300,000,000       915,000,000,000.00    \n",
       "4           8.48           54,530,000,000        63,470,000,000.00    \n",
       "..           ...                      ...                       ...   \n",
       "144        10.30          293,900,000,000       261,600,000,000.00    \n",
       "145         9.63          218,400,000,000       229,000,000,000.00    \n",
       "146        10.18          337,400,000,000       395,900,000,000.00    \n",
       "147         7.44          195,600,000,000       210,300,000,000.00    \n",
       "148         8.25        3,660,000,000,000     3,839,000,000,000.00    \n",
       "\n",
       "                  Exports                       GDP    GDP per capita   ...  \\\n",
       "0     $538,800,000,000.00     $3,745,000,000,000.00        $29,400.00   ...   \n",
       "1     $893,300,000,000.00     $2,362,000,000,000.00        $28,700.00   ...   \n",
       "2     $113,000,000,000.00       $310,200,000,000.00        $12,000.00   ...   \n",
       "3     $162,500,000,000.00     $1,408,000,000,000.00         $9,800.00   ...   \n",
       "4     $130,700,000,000.00       $251,900,000,000.00        $33,800.00   ...   \n",
       "..                     ...                       ...               ...  ...   \n",
       "144   $336,400,000,000.00     $1,609,000,000,000.00        $27,700.00   ...   \n",
       "145   $172,500,000,000.00       $937,600,000,000.00        $23,300.00   ...   \n",
       "146   $347,200,000,000.00     $1,782,000,000,000.00        $29,600.00   ...   \n",
       "147    $86,890,000,000.00       $611,700,000,000.00        $30,700.00   ...   \n",
       "148   $795,000,000,000.00    $11,750,000,000,000.00        $40,100.00   ...   \n",
       "\n",
       "      Life expectancy at birth  Military expenditures  \\\n",
       "0                        81.15                   1.00   \n",
       "1                        78.65                   1.50   \n",
       "2                        75.46                  10.00   \n",
       "3                        67.10                          \n",
       "4                        80.39                   1.00   \n",
       "..                         ...                    ...   \n",
       "144                      79.68                   1.80   \n",
       "145                      79.52                   1.20   \n",
       "146                      78.38                   2.40   \n",
       "147                      80.39                   2.70   \n",
       "148                      77.71                   3.30   \n",
       "\n",
       "      Natural gas consumption    Oil consumption     Population   \\\n",
       "0           80,420,000,000.00          5,290,000    127,417,244    \n",
       "1           99,550,000,000.00          2,891,000     82,431,390    \n",
       "2           56,400,000,000.00          1,550,000     26,417,599    \n",
       "3          405,800,000,000.00          2,310,000    143,420,309    \n",
       "4            3,093,000,000.00            290,400      7,489,370    \n",
       "..                         ...                ...            ...   \n",
       "144         71,180,000,000.00          1,866,000     58,103,033    \n",
       "145         17,960,000,000.00          1,497,000     40,341,462    \n",
       "146         92,850,000,000.00          1,692,000     60,441,457    \n",
       "147         23,330,000,000.00            796,500     20,090,437    \n",
       "148        640,900,000,000.00         19,650,000    295,734,134    \n",
       "\n",
       "      Public debt  Railways   Reserves of foreign exchange & gold   \\\n",
       "0           164.3     23705                    664,600,000,000.00    \n",
       "1            65.8     46039                     96,840,000,000.00    \n",
       "2              75      1392                     23,620,000,000.00    \n",
       "3            28.2     87157                    124,500,000,000.00    \n",
       "4            57.2      4533                     69,580,000,000.00    \n",
       "..            ...       ...                                    ...   \n",
       "144         105.6     19507                     61,500,000,000.00    \n",
       "145          53.2     14268                     19,700,000,000.00    \n",
       "146          39.6     17186                     48,730,000,000.00    \n",
       "147          17.4     43802                     35,140,000,000.00    \n",
       "148            65    228464                     85,940,000,000.00    \n",
       "\n",
       "     Total fertility rate   Unemployment rate  \n",
       "0                    1.39                 4.7  \n",
       "1                    1.39                10.6  \n",
       "2                    4.05                  25  \n",
       "3                    1.27                 8.3  \n",
       "4                    1.42                 3.4  \n",
       "..                    ...                 ...  \n",
       "144                  1.28                 8.6  \n",
       "145                  1.28                10.4  \n",
       "146                  1.66                 4.8  \n",
       "147                  1.76                 5.1  \n",
       "148                  2.08                 5.5  \n",
       "\n",
       "[149 rows x 29 columns]"
      ]
     },
     "execution_count": 229,
     "metadata": {},
     "output_type": "execute_result"
    }
   ],
   "source": [
    "# load data\n",
    "CIA = pd.read_csv('https://www.cs.purdue.edu/CS49000-VIZ/projects/data/project2/factbook.csv')\n",
    "CIA\n"
   ]
  },
  {
   "cell_type": "code",
   "execution_count": 230,
   "id": "2cf730db",
   "metadata": {},
   "outputs": [],
   "source": [
    "df = CIA.merge(df, how='inner', on='Country')"
   ]
  },
  {
   "attachments": {},
   "cell_type": "markdown",
   "id": "09b1788b",
   "metadata": {},
   "source": [
    "---------------------------------------------------------------------------------------------------------------------------"
   ]
  },
  {
   "attachments": {},
   "cell_type": "markdown",
   "id": "f11718c8",
   "metadata": {},
   "source": [
    "## Pre-Processing"
   ]
  },
  {
   "cell_type": "code",
   "execution_count": 231,
   "id": "598f6710",
   "metadata": {},
   "outputs": [],
   "source": [
    "import numpy as np\n",
    "\n",
    "# Replace any empty strings or spaces with NaN\n",
    "df.replace(' ', np.nan, inplace=True)"
   ]
  },
  {
   "cell_type": "code",
   "execution_count": 232,
   "id": "5acb2c5a",
   "metadata": {},
   "outputs": [
    {
     "data": {
      "text/plain": [
       "Country                                    0\n",
       " Area                                      0\n",
       " Birth rate                                0\n",
       "  Current account balance                  0\n",
       " Death rate                                0\n",
       " Electricity consumption                   0\n",
       "  Electricity production                   0\n",
       "  Exports                                  0\n",
       "  GDP                                      0\n",
       "  GDP per capita                           0\n",
       " GDP real growth rate                      0\n",
       "  Highways                                 0\n",
       "  Imports                                  0\n",
       " Industrial production growth rate        12\n",
       " Infant mortality rate                     0\n",
       " Inflation rate                            0\n",
       "  Internet users                           0\n",
       " Investment                                5\n",
       "  Labor force                              0\n",
       " Life expectancy at birth                  0\n",
       " Military expenditures                     4\n",
       "  Natural gas consumption                  0\n",
       "  Oil consumption                          0\n",
       "  Population                               0\n",
       " Public debt                              37\n",
       " Railways                                 25\n",
       "  Reserves of foreign exchange & gold      0\n",
       " Total fertility rate                      0\n",
       " Unemployment rate                        19\n",
       "continent                                  0\n",
       "dtype: int64"
      ]
     },
     "execution_count": 232,
     "metadata": {},
     "output_type": "execute_result"
    }
   ],
   "source": [
    "df.isnull().sum()"
   ]
  },
  {
   "cell_type": "code",
   "execution_count": 233,
   "id": "8ac9351d",
   "metadata": {},
   "outputs": [
    {
     "data": {
      "text/html": [
       "<div>\n",
       "<style scoped>\n",
       "    .dataframe tbody tr th:only-of-type {\n",
       "        vertical-align: middle;\n",
       "    }\n",
       "\n",
       "    .dataframe tbody tr th {\n",
       "        vertical-align: top;\n",
       "    }\n",
       "\n",
       "    .dataframe thead th {\n",
       "        text-align: right;\n",
       "    }\n",
       "</style>\n",
       "<table border=\"1\" class=\"dataframe\">\n",
       "  <thead>\n",
       "    <tr style=\"text-align: right;\">\n",
       "      <th></th>\n",
       "      <th>count</th>\n",
       "      <th>mean</th>\n",
       "      <th>std</th>\n",
       "      <th>min</th>\n",
       "      <th>25%</th>\n",
       "      <th>50%</th>\n",
       "      <th>75%</th>\n",
       "      <th>max</th>\n",
       "    </tr>\n",
       "  </thead>\n",
       "  <tbody>\n",
       "    <tr>\n",
       "      <th>Birth rate</th>\n",
       "      <td>139.0</td>\n",
       "      <td>21.774245</td>\n",
       "      <td>11.006238</td>\n",
       "      <td>7.23</td>\n",
       "      <td>11.880</td>\n",
       "      <td>18.78</td>\n",
       "      <td>29.650</td>\n",
       "      <td>47.39</td>\n",
       "    </tr>\n",
       "    <tr>\n",
       "      <th>Death rate</th>\n",
       "      <td>139.0</td>\n",
       "      <td>9.758561</td>\n",
       "      <td>5.166580</td>\n",
       "      <td>2.42</td>\n",
       "      <td>6.220</td>\n",
       "      <td>8.48</td>\n",
       "      <td>11.550</td>\n",
       "      <td>29.36</td>\n",
       "    </tr>\n",
       "    <tr>\n",
       "      <th>GDP real growth rate</th>\n",
       "      <td>139.0</td>\n",
       "      <td>5.379137</td>\n",
       "      <td>5.851724</td>\n",
       "      <td>-8.20</td>\n",
       "      <td>2.950</td>\n",
       "      <td>4.80</td>\n",
       "      <td>6.100</td>\n",
       "      <td>52.30</td>\n",
       "    </tr>\n",
       "    <tr>\n",
       "      <th>Infant mortality rate</th>\n",
       "      <td>139.0</td>\n",
       "      <td>35.228561</td>\n",
       "      <td>32.826775</td>\n",
       "      <td>2.29</td>\n",
       "      <td>8.540</td>\n",
       "      <td>24.18</td>\n",
       "      <td>55.900</td>\n",
       "      <td>191.19</td>\n",
       "    </tr>\n",
       "    <tr>\n",
       "      <th>Inflation rate</th>\n",
       "      <td>139.0</td>\n",
       "      <td>7.058993</td>\n",
       "      <td>12.913328</td>\n",
       "      <td>-0.30</td>\n",
       "      <td>2.300</td>\n",
       "      <td>4.10</td>\n",
       "      <td>7.600</td>\n",
       "      <td>133.00</td>\n",
       "    </tr>\n",
       "    <tr>\n",
       "      <th>Life expectancy at birth</th>\n",
       "      <td>139.0</td>\n",
       "      <td>67.303022</td>\n",
       "      <td>12.282901</td>\n",
       "      <td>33.87</td>\n",
       "      <td>62.540</td>\n",
       "      <td>71.69</td>\n",
       "      <td>76.250</td>\n",
       "      <td>81.62</td>\n",
       "    </tr>\n",
       "    <tr>\n",
       "      <th>Total fertility rate</th>\n",
       "      <td>139.0</td>\n",
       "      <td>2.871367</td>\n",
       "      <td>1.523232</td>\n",
       "      <td>0.91</td>\n",
       "      <td>1.715</td>\n",
       "      <td>2.44</td>\n",
       "      <td>3.785</td>\n",
       "      <td>6.74</td>\n",
       "    </tr>\n",
       "  </tbody>\n",
       "</table>\n",
       "</div>"
      ],
      "text/plain": [
       "                           count       mean        std    min     25%    50%  \\\n",
       " Birth rate                139.0  21.774245  11.006238   7.23  11.880  18.78   \n",
       " Death rate                139.0   9.758561   5.166580   2.42   6.220   8.48   \n",
       " GDP real growth rate      139.0   5.379137   5.851724  -8.20   2.950   4.80   \n",
       " Infant mortality rate     139.0  35.228561  32.826775   2.29   8.540  24.18   \n",
       " Inflation rate            139.0   7.058993  12.913328  -0.30   2.300   4.10   \n",
       " Life expectancy at birth  139.0  67.303022  12.282901  33.87  62.540  71.69   \n",
       " Total fertility rate      139.0   2.871367   1.523232   0.91   1.715   2.44   \n",
       "\n",
       "                              75%     max  \n",
       " Birth rate                29.650   47.39  \n",
       " Death rate                11.550   29.36  \n",
       " GDP real growth rate       6.100   52.30  \n",
       " Infant mortality rate     55.900  191.19  \n",
       " Inflation rate             7.600  133.00  \n",
       " Life expectancy at birth  76.250   81.62  \n",
       " Total fertility rate       3.785    6.74  "
      ]
     },
     "execution_count": 233,
     "metadata": {},
     "output_type": "execute_result"
    }
   ],
   "source": [
    "df.describe().T"
   ]
  },
  {
   "cell_type": "code",
   "execution_count": 234,
   "id": "e0492c74",
   "metadata": {},
   "outputs": [
    {
     "data": {
      "text/html": [
       "<div>\n",
       "<style scoped>\n",
       "    .dataframe tbody tr th:only-of-type {\n",
       "        vertical-align: middle;\n",
       "    }\n",
       "\n",
       "    .dataframe tbody tr th {\n",
       "        vertical-align: top;\n",
       "    }\n",
       "\n",
       "    .dataframe thead th {\n",
       "        text-align: right;\n",
       "    }\n",
       "</style>\n",
       "<table border=\"1\" class=\"dataframe\">\n",
       "  <thead>\n",
       "    <tr style=\"text-align: right;\">\n",
       "      <th></th>\n",
       "      <th>count</th>\n",
       "      <th>unique</th>\n",
       "      <th>top</th>\n",
       "      <th>freq</th>\n",
       "    </tr>\n",
       "  </thead>\n",
       "  <tbody>\n",
       "    <tr>\n",
       "      <th>Country</th>\n",
       "      <td>139</td>\n",
       "      <td>139</td>\n",
       "      <td>Japan</td>\n",
       "      <td>1</td>\n",
       "    </tr>\n",
       "    <tr>\n",
       "      <th>Area</th>\n",
       "      <td>139</td>\n",
       "      <td>139</td>\n",
       "      <td>377,835</td>\n",
       "      <td>1</td>\n",
       "    </tr>\n",
       "    <tr>\n",
       "      <th>Current account balance</th>\n",
       "      <td>139</td>\n",
       "      <td>139</td>\n",
       "      <td>$170,200,000,000.00</td>\n",
       "      <td>1</td>\n",
       "    </tr>\n",
       "    <tr>\n",
       "      <th>Electricity consumption</th>\n",
       "      <td>139</td>\n",
       "      <td>138</td>\n",
       "      <td>75,580,000,000</td>\n",
       "      <td>2</td>\n",
       "    </tr>\n",
       "    <tr>\n",
       "      <th>Electricity production</th>\n",
       "      <td>139</td>\n",
       "      <td>137</td>\n",
       "      <td>22,880,000,000.00</td>\n",
       "      <td>2</td>\n",
       "    </tr>\n",
       "    <tr>\n",
       "      <th>Exports</th>\n",
       "      <td>139</td>\n",
       "      <td>138</td>\n",
       "      <td>$15,500,000,000.00</td>\n",
       "      <td>2</td>\n",
       "    </tr>\n",
       "    <tr>\n",
       "      <th>GDP</th>\n",
       "      <td>139</td>\n",
       "      <td>139</td>\n",
       "      <td>$3,745,000,000,000.00</td>\n",
       "      <td>1</td>\n",
       "    </tr>\n",
       "    <tr>\n",
       "      <th>GDP per capita</th>\n",
       "      <td>139</td>\n",
       "      <td>98</td>\n",
       "      <td>$1,900.00</td>\n",
       "      <td>4</td>\n",
       "    </tr>\n",
       "    <tr>\n",
       "      <th>Highways</th>\n",
       "      <td>139</td>\n",
       "      <td>139</td>\n",
       "      <td>1,171,647</td>\n",
       "      <td>1</td>\n",
       "    </tr>\n",
       "    <tr>\n",
       "      <th>Imports</th>\n",
       "      <td>139</td>\n",
       "      <td>138</td>\n",
       "      <td>$1,300,000,000.00</td>\n",
       "      <td>2</td>\n",
       "    </tr>\n",
       "    <tr>\n",
       "      <th>Industrial production growth rate</th>\n",
       "      <td>127</td>\n",
       "      <td>83</td>\n",
       "      <td>4</td>\n",
       "      <td>5</td>\n",
       "    </tr>\n",
       "    <tr>\n",
       "      <th>Internet users</th>\n",
       "      <td>139</td>\n",
       "      <td>112</td>\n",
       "      <td>120,000.00</td>\n",
       "      <td>4</td>\n",
       "    </tr>\n",
       "    <tr>\n",
       "      <th>Investment</th>\n",
       "      <td>134</td>\n",
       "      <td>102</td>\n",
       "      <td>22.4</td>\n",
       "      <td>4</td>\n",
       "    </tr>\n",
       "    <tr>\n",
       "      <th>Labor force</th>\n",
       "      <td>139</td>\n",
       "      <td>130</td>\n",
       "      <td></td>\n",
       "      <td>7</td>\n",
       "    </tr>\n",
       "    <tr>\n",
       "      <th>Military expenditures</th>\n",
       "      <td>135</td>\n",
       "      <td>58</td>\n",
       "      <td>0.90</td>\n",
       "      <td>7</td>\n",
       "    </tr>\n",
       "    <tr>\n",
       "      <th>Natural gas consumption</th>\n",
       "      <td>139</td>\n",
       "      <td>93</td>\n",
       "      <td></td>\n",
       "      <td>44</td>\n",
       "    </tr>\n",
       "    <tr>\n",
       "      <th>Oil consumption</th>\n",
       "      <td>139</td>\n",
       "      <td>122</td>\n",
       "      <td>20,000</td>\n",
       "      <td>4</td>\n",
       "    </tr>\n",
       "    <tr>\n",
       "      <th>Population</th>\n",
       "      <td>139</td>\n",
       "      <td>139</td>\n",
       "      <td>127,417,244</td>\n",
       "      <td>1</td>\n",
       "    </tr>\n",
       "    <tr>\n",
       "      <th>Public debt</th>\n",
       "      <td>102</td>\n",
       "      <td>98</td>\n",
       "      <td>74.3</td>\n",
       "      <td>2</td>\n",
       "    </tr>\n",
       "    <tr>\n",
       "      <th>Railways</th>\n",
       "      <td>114</td>\n",
       "      <td>113</td>\n",
       "      <td>699</td>\n",
       "      <td>2</td>\n",
       "    </tr>\n",
       "    <tr>\n",
       "      <th>Reserves of foreign exchange &amp; gold</th>\n",
       "      <td>139</td>\n",
       "      <td>137</td>\n",
       "      <td>1,206,000,000.00</td>\n",
       "      <td>2</td>\n",
       "    </tr>\n",
       "    <tr>\n",
       "      <th>Unemployment rate</th>\n",
       "      <td>120</td>\n",
       "      <td>90</td>\n",
       "      <td>15</td>\n",
       "      <td>4</td>\n",
       "    </tr>\n",
       "    <tr>\n",
       "      <th>continent</th>\n",
       "      <td>139</td>\n",
       "      <td>5</td>\n",
       "      <td>Asia</td>\n",
       "      <td>38</td>\n",
       "    </tr>\n",
       "  </tbody>\n",
       "</table>\n",
       "</div>"
      ],
      "text/plain": [
       "                                       count unique                      top  \\\n",
       "Country                                  139    139                    Japan   \n",
       " Area                                    139    139                  377,835   \n",
       "  Current account balance                139    139     $170,200,000,000.00    \n",
       " Electricity consumption                 139    138           75,580,000,000   \n",
       "  Electricity production                 139    137       22,880,000,000.00    \n",
       "  Exports                                139    138      $15,500,000,000.00    \n",
       "  GDP                                    139    139   $3,745,000,000,000.00    \n",
       "  GDP per capita                         139     98               $1,900.00    \n",
       "  Highways                               139    139               1,171,647    \n",
       "  Imports                                139    138       $1,300,000,000.00    \n",
       " Industrial production growth rate       127     83                        4   \n",
       "  Internet users                         139    112              120,000.00    \n",
       " Investment                              134    102                     22.4   \n",
       "  Labor force                            139    130                            \n",
       " Military expenditures                   135     58                     0.90   \n",
       "  Natural gas consumption                139     93                            \n",
       "  Oil consumption                        139    122                  20,000    \n",
       "  Population                             139    139             127,417,244    \n",
       " Public debt                             102     98                     74.3   \n",
       " Railways                                114    113                      699   \n",
       "  Reserves of foreign exchange & gold    139    137        1,206,000,000.00    \n",
       " Unemployment rate                       120     90                       15   \n",
       "continent                                139      5                     Asia   \n",
       "\n",
       "                                       freq  \n",
       "Country                                   1  \n",
       " Area                                     1  \n",
       "  Current account balance                 1  \n",
       " Electricity consumption                  2  \n",
       "  Electricity production                  2  \n",
       "  Exports                                 2  \n",
       "  GDP                                     1  \n",
       "  GDP per capita                          4  \n",
       "  Highways                                1  \n",
       "  Imports                                 2  \n",
       " Industrial production growth rate        5  \n",
       "  Internet users                          4  \n",
       " Investment                               4  \n",
       "  Labor force                             7  \n",
       " Military expenditures                    7  \n",
       "  Natural gas consumption                44  \n",
       "  Oil consumption                         4  \n",
       "  Population                              1  \n",
       " Public debt                              2  \n",
       " Railways                                 2  \n",
       "  Reserves of foreign exchange & gold     2  \n",
       " Unemployment rate                        4  \n",
       "continent                                38  "
      ]
     },
     "execution_count": 234,
     "metadata": {},
     "output_type": "execute_result"
    }
   ],
   "source": [
    "df.describe(include=['O']).T"
   ]
  },
  {
   "cell_type": "code",
   "execution_count": 235,
   "id": "182f9ddb",
   "metadata": {},
   "outputs": [],
   "source": [
    "df[' Unemployment rate'] = df[' Unemployment rate'].astype(float)"
   ]
  },
  {
   "cell_type": "code",
   "execution_count": 236,
   "id": "772e074a",
   "metadata": {},
   "outputs": [],
   "source": [
    "df[' Public debt'] = df[' Public debt'].astype(float)\n",
    "df[' Public debt'].fillna(df[' Public debt'].mean(), inplace=True)"
   ]
  },
  {
   "cell_type": "code",
   "execution_count": 237,
   "id": "7c62cbce",
   "metadata": {},
   "outputs": [],
   "source": [
    "df['  Population '] = pd.to_numeric(df['  Population '].str.replace(',', ''))\n",
    "df['  Population '] = df['  Population '].apply(lambda x: '{:,}'.format(round(x)))\n",
    "df['  Population '] = df['  Population '] .str.replace(',', '').astype(float)\n",
    "df['  Population '] = df['  Population ']"
   ]
  },
  {
   "cell_type": "code",
   "execution_count": 238,
   "id": "47e430c5",
   "metadata": {},
   "outputs": [],
   "source": [
    "df[' Electricity consumption'] = pd.to_numeric(df[' Electricity consumption'].str.replace(',', '')).astype(float)\n",
    "df['  Electricity production '] = pd.to_numeric(df['  Electricity production '].str.replace(',', '')).astype(float)"
   ]
  },
  {
   "cell_type": "code",
   "execution_count": 239,
   "id": "3f0edd77",
   "metadata": {},
   "outputs": [
    {
     "name": "stderr",
     "output_type": "stream",
     "text": [
      "C:\\Users\\xdead\\AppData\\Local\\Temp\\ipykernel_7040\\728185837.py:1: FutureWarning:\n",
      "\n",
      "The default value of regex will change from True to False in a future version. In addition, single character regular expressions will *not* be treated as literal strings when regex=True.\n",
      "\n",
      "C:\\Users\\xdead\\AppData\\Local\\Temp\\ipykernel_7040\\728185837.py:2: FutureWarning:\n",
      "\n",
      "The default value of regex will change from True to False in a future version. In addition, single character regular expressions will *not* be treated as literal strings when regex=True.\n",
      "\n"
     ]
    }
   ],
   "source": [
    "df['  Imports '] = df['  Imports '].str.replace(',', '').str.replace('$', '').astype(float).apply(lambda x: '{:.0f}'.format(x))\n",
    "df['  Exports '] = df['  Exports '].str.replace(',', '').str.replace('$', '').astype(float).apply(lambda x: '{:.0f}'.format(x))"
   ]
  },
  {
   "cell_type": "code",
   "execution_count": 240,
   "id": "6194204b",
   "metadata": {},
   "outputs": [],
   "source": [
    "df[' Life expectancy at birth'] = df[' Life expectancy at birth'].astype(float)"
   ]
  },
  {
   "cell_type": "code",
   "execution_count": 241,
   "id": "ddb81773",
   "metadata": {},
   "outputs": [
    {
     "name": "stderr",
     "output_type": "stream",
     "text": [
      "C:\\Users\\xdead\\AppData\\Local\\Temp\\ipykernel_7040\\1500577035.py:1: FutureWarning:\n",
      "\n",
      "The default value of regex will change from True to False in a future version. In addition, single character regular expressions will *not* be treated as literal strings when regex=True.\n",
      "\n",
      "C:\\Users\\xdead\\AppData\\Local\\Temp\\ipykernel_7040\\1500577035.py:2: FutureWarning:\n",
      "\n",
      "The default value of regex will change from True to False in a future version. In addition, single character regular expressions will *not* be treated as literal strings when regex=True.\n",
      "\n"
     ]
    }
   ],
   "source": [
    "df['  GDP per capita '] = df['  GDP per capita '].str.replace(',', '').str.replace('$', '').astype(float).apply(lambda x: '{:.0f}'.format(x))\n",
    "df['  GDP per capita '] = df['  GDP per capita '].str.replace(',', '').str.replace('$', '').astype(float).apply(lambda x: '{:.0f}'.format(x))"
   ]
  },
  {
   "cell_type": "code",
   "execution_count": 242,
   "id": "f2250b0a",
   "metadata": {},
   "outputs": [],
   "source": [
    "df['  Internet users '] = df['  Internet users '].str.replace(',','').astype(float).apply(lambda x: '{:.0f}'.format(x))\n",
    "df['  Internet users '] = df['  Internet users '].astype(float)"
   ]
  },
  {
   "cell_type": "code",
   "execution_count": 243,
   "id": "54fb665d",
   "metadata": {},
   "outputs": [
    {
     "name": "stderr",
     "output_type": "stream",
     "text": [
      "C:\\Users\\xdead\\AppData\\Local\\Temp\\ipykernel_7040\\3743496850.py:1: FutureWarning:\n",
      "\n",
      "Indexing with multiple keys (implicitly converted to a tuple of keys) will be deprecated, use a list instead.\n",
      "\n"
     ]
    }
   ],
   "source": [
    "grouped = df.groupby('continent')['  Population ', 'Country'].agg({'  Population ': 'sum', 'Country': 'first'}).reset_index()\n",
    "def format_millions(number):\n",
    "    return f'${number/1e6:.2f} M'\n",
    "\n",
    "grouped['jumlah_populasi'] = grouped['  Population '].apply(format_millions)\n",
    "grouped.drop(columns=['Country', '  Population '], inplace=True)"
   ]
  },
  {
   "cell_type": "code",
   "execution_count": 244,
   "id": "2b34cc6a",
   "metadata": {},
   "outputs": [],
   "source": [
    "df = df.merge(grouped, how='inner', on='continent')"
   ]
  },
  {
   "attachments": {},
   "cell_type": "markdown",
   "id": "48a121bc",
   "metadata": {},
   "source": [
    "---------------------------------------------------------------------------------------------------------------------------"
   ]
  },
  {
   "attachments": {},
   "cell_type": "markdown",
   "id": "f3a26be8",
   "metadata": {},
   "source": [
    "## Visualisasi"
   ]
  },
  {
   "attachments": {},
   "cell_type": "markdown",
   "id": "e7132c9e",
   "metadata": {},
   "source": [
    "Dibuat visualisasi yang diperlukan berdasarkan dataset yang disajikan dari purdue university. Dibuat bermacam-macam visualisasi berdasarkan data tersebut termasuk bubble chart, bar chart, map plot, dan pie chart."
   ]
  },
  {
   "attachments": {},
   "cell_type": "markdown",
   "id": "c8947421",
   "metadata": {},
   "source": [
    "* Visualisasi Bubble Chart"
   ]
  },
  {
   "attachments": {},
   "cell_type": "markdown",
   "id": "d992023b",
   "metadata": {},
   "source": [
    "1. Perbandingan Birth Rate dan Death Ratio"
   ]
  },
  {
   "cell_type": "code",
   "execution_count": 245,
   "id": "37d6454d",
   "metadata": {},
   "outputs": [
    {
     "data": {
      "application/vnd.plotly.v1+json": {
       "config": {
        "plotlyServerURL": "https://plot.ly"
       },
       "data": [
        {
         "hovertemplate": "<b>%{hovertext}</b><br><br>continent=Asia<br> Birth rate=%{x}<br> Infant mortality rate=%{y}<br>  Population =%{marker.size}<extra></extra>",
         "hovertext": [
          "Japan",
          "Saudi Arabia",
          "China",
          "Hong Kong",
          "Kuwait",
          "Malaysia",
          "Singapore",
          "Indonesia",
          "Thailand",
          "United Arab Emirates",
          "Qatar",
          "India",
          "Philippines",
          "Oman",
          "Iran",
          "Pakistan",
          "Syria",
          "Bahrain",
          "Uzbekistan",
          "Yemen",
          "Bangladesh",
          "Israel",
          "Jordan",
          "Turkmenistan",
          "Kazakhstan",
          "Tajikistan",
          "Laos",
          "Kyrgyzstan",
          "Armenia",
          "Cambodia",
          "Iraq",
          "Sri Lanka",
          "Cyprus",
          "Georgia",
          "Vietnam",
          "Lebanon",
          "Azerbaijan",
          "Turkey"
         ],
         "legendgroup": "Asia",
         "marker": {
          "color": "#636efa",
          "size": [
           127417244,
           26417599,
           1306313812,
           6898686,
           2335648,
           23953136,
           4425720,
           241973879,
           65444371,
           2563212,
           863051,
           1080264388,
           87857473,
           3001583,
           68017860,
           162419946,
           18448752,
           688345,
           26851195,
           20727063,
           144319628,
           6276883,
           5759732,
           4952081,
           15185844,
           7163506,
           6217141,
           5146281,
           2982904,
           13607069,
           26074906,
           20064776,
           780133,
           4677401,
           83535576,
           3826018,
           7911974,
           69660559
          ],
          "sizemode": "area",
          "sizeref": 522525.5248,
          "symbol": "circle"
         },
         "mode": "markers",
         "name": "Asia (3705.03M)",
         "orientation": "v",
         "showlegend": true,
         "type": "scatter",
         "x": [
          9.47,
          29.56,
          13.14,
          7.23,
          21.88,
          23.07,
          9.49,
          20.71,
          15.7,
          18.78,
          15.54,
          22.32,
          25.31,
          36.73,
          16.83,
          30.42,
          28.29,
          18.1,
          26.22,
          43.07,
          30.01,
          18.21,
          21.76,
          27.68,
          15.78,
          32.58,
          35.99,
          22.48,
          11.76,
          27.08,
          32.5,
          15.63,
          12.57,
          10.25,
          17.07,
          18.88,
          20.4,
          16.83
         ],
         "xaxis": "x",
         "y": [
          3.26,
          13.24,
          24.18,
          2.97,
          9.95,
          17.7,
          2.29,
          35.6,
          20.48,
          14.51,
          18.61,
          56.29,
          23.51,
          19.51,
          41.58,
          72.44,
          29.53,
          17.27,
          71.1,
          61.5,
          62.6,
          7.03,
          17.35,
          73.08,
          29.21,
          110.76,
          85.22,
          35.64,
          23.28,
          71.48,
          50.25,
          14.35,
          7.18,
          18.59,
          25.95,
          24.52,
          81.74,
          41.04
         ],
         "yaxis": "y"
        },
        {
         "hovertemplate": "<b>%{hovertext}</b><br><br>continent=Europe<br> Birth rate=%{x}<br> Infant mortality rate=%{y}<br>  Population =%{marker.size}<extra></extra>",
         "hovertext": [
          "Germany",
          "Russia",
          "Switzerland",
          "Norway",
          "Sweden",
          "Netherlands",
          "Belgium",
          "Finland",
          "Denmark",
          "Ukraine",
          "Bulgaria",
          "Slovenia",
          "Malta",
          "France",
          "Macedonia",
          "Albania",
          "Iceland",
          "Belarus",
          "Estonia",
          "Latvia",
          "Slovakia",
          "Lithuania",
          "Croatia",
          "Bosnia and Herzegovina",
          "Ireland",
          "Austria",
          "Romania",
          "Poland",
          "Czech Republic",
          "Hungary",
          "Greece",
          "Portugal",
          "Italy",
          "Spain",
          "United Kingdom"
         ],
         "legendgroup": "Europe",
         "marker": {
          "color": "#EF553B",
          "size": [
           82431390,
           143420309,
           7489370,
           4593041,
           9001774,
           16407491,
           10364388,
           5223442,
           5432335,
           47425336,
           7450349,
           2011070,
           398534,
           60656178,
           2045262,
           3563112,
           296737,
           10300483,
           1332893,
           2290237,
           5431363,
           3596617,
           4495904,
           4025476,
           4015676,
           8184691,
           22329977,
           38635144,
           10241138,
           10006835,
           10668354,
           10566212,
           58103033,
           40341462,
           60441457
          ],
          "sizemode": "area",
          "sizeref": 522525.5248,
          "symbol": "circle"
         },
         "mode": "markers",
         "name": "Europe (713.22M)",
         "orientation": "v",
         "showlegend": true,
         "type": "scatter",
         "x": [
          8.33,
          9.8,
          9.77,
          11.67,
          10.36,
          11.14,
          10.48,
          10.5,
          11.36,
          10.49,
          9.66,
          8.95,
          10.17,
          12.15,
          12,
          15.08,
          13.73,
          10.83,
          9.91,
          9.04,
          10.62,
          8.62,
          9.57,
          12.49,
          14.47,
          8.81,
          10.7,
          10.78,
          9.07,
          9.76,
          9.72,
          10.82,
          8.89,
          10.1,
          10.78
         ],
         "xaxis": "x",
         "y": [
          4.16,
          15.39,
          4.39,
          3.7,
          2.77,
          5.04,
          4.68,
          3.57,
          4.56,
          20.34,
          20.55,
          4.45,
          3.89,
          4.26,
          10.09,
          21.52,
          3.31,
          13.37,
          7.87,
          9.55,
          7.41,
          6.89,
          6.84,
          21.05,
          5.39,
          4.66,
          26.43,
          8.51,
          3.93,
          8.57,
          5.53,
          5.05,
          5.94,
          4.42,
          5.16
         ],
         "yaxis": "y"
        },
        {
         "hovertemplate": "<b>%{hovertext}</b><br><br>continent=Americas<br> Birth rate=%{x}<br> Infant mortality rate=%{y}<br>  Population =%{marker.size}<extra></extra>",
         "hovertext": [
          "Canada",
          "Venezuela",
          "Brazil",
          "Argentina",
          "Chile",
          "Trinidad and Tobago",
          "Dominican Republic",
          "Bolivia",
          "Ecuador",
          "Honduras",
          "Uruguay",
          "Haiti",
          "Peru",
          "Paraguay",
          "Belize",
          "Guyana",
          "Cuba",
          "Panama",
          "Jamaica",
          "Nicaragua",
          "El Salvador",
          "Costa Rica",
          "Guatemala",
          "Colombia",
          "Mexico",
          "United States"
         ],
         "legendgroup": "Americas",
         "marker": {
          "color": "#00cc96",
          "size": [
           32805041,
           25375281,
           186112794,
           39537943,
           15980912,
           1088644,
           8950034,
           8857870,
           13363593,
           6975204,
           3415920,
           8121622,
           27925628,
           6347884,
           279457,
           765283,
           11346670,
           3039150,
           2731832,
           5465100,
           6704932,
           4016173,
           14655189,
           42954279,
           106202903,
           295734134
          ],
          "sizemode": "area",
          "sizeref": 522525.5248,
          "symbol": "circle"
         },
         "mode": "markers",
         "name": "Americas (878.75M)",
         "orientation": "v",
         "showlegend": true,
         "type": "scatter",
         "x": [
          10.84,
          18.91,
          16.83,
          16.9,
          15.44,
          12.81,
          23.28,
          23.76,
          22.67,
          30.38,
          14.09,
          36.59,
          20.87,
          29.43,
          29.34,
          18.45,
          12.03,
          19.96,
          16.56,
          24.88,
          27.04,
          18.6,
          34.11,
          20.82,
          21.01,
          14.14
         ],
         "xaxis": "x",
         "y": [
          4.75,
          22.2,
          29.61,
          15.18,
          8.8,
          24.31,
          32.38,
          53.11,
          23.66,
          29.32,
          11.95,
          73.45,
          31.94,
          25.63,
          25.69,
          33.26,
          6.33,
          20.47,
          12.36,
          29.11,
          25.1,
          9.95,
          35.93,
          20.97,
          20.91,
          6.5
         ],
         "yaxis": "y"
        },
        {
         "hovertemplate": "<b>%{hovertext}</b><br><br>continent=Africa<br> Birth rate=%{x}<br> Infant mortality rate=%{y}<br>  Population =%{marker.size}<extra></extra>",
         "hovertext": [
          "Algeria",
          "Libya",
          "Nigeria",
          "Egypt",
          "Morocco",
          "Botswana",
          "Chad",
          "Mauritius",
          "Namibia",
          "Gabon",
          "Ghana",
          "Tunisia",
          "Sao Tome and Principe",
          "Angola",
          "Malawi",
          "Burundi",
          "Swaziland",
          "Seychelles",
          "Mozambique",
          "Lesotho",
          "Togo",
          "Eritrea",
          "Cameroon",
          "Benin",
          "Zambia",
          "Rwanda",
          "Zimbabwe",
          "Madagascar",
          "Guinea",
          "Kenya",
          "Ethiopia",
          "Burkina Faso",
          "Senegal",
          "Equatorial Guinea",
          "Uganda",
          "Sudan",
          "South Africa"
         ],
         "legendgroup": "Africa",
         "marker": {
          "color": "#ab63fa",
          "size": [
           32531853,
           5765563,
           128771988,
           77505756,
           32725847,
           1640115,
           9826419,
           1230602,
           2030692,
           1389201,
           21029853,
           10074951,
           187410,
           11190786,
           12158924,
           6370609,
           1173900,
           81188,
           19406703,
           1867035,
           5681519,
           4561599,
           16380005,
           7460025,
           11261795,
           8440820,
           12746990,
           18040341,
           9467866,
           33829590,
           73053286,
           13925313,
           11126832,
           535881,
           27269482,
           40187486,
           44344136
          ],
          "sizemode": "area",
          "sizeref": 522525.5248,
          "symbol": "circle"
         },
         "mode": "markers",
         "name": "Africa (715.27M)",
         "orientation": "v",
         "showlegend": true,
         "type": "scatter",
         "x": [
          17.13,
          26.82,
          40.65,
          23.32,
          22.29,
          23.33,
          45.98,
          15.62,
          25.16,
          36.24,
          23.97,
          15.5,
          40.8,
          44.64,
          43.95,
          39.66,
          27.72,
          16.22,
          35.79,
          26.53,
          33.48,
          38.62,
          34.67,
          41.99,
          41.38,
          40.6,
          29.74,
          41.66,
          42.03,
          40.13,
          38.61,
          44.17,
          35.21,
          36.18,
          47.39,
          35.17,
          18.48
         ],
         "xaxis": "x",
         "y": [
          31,
          24.6,
          98.8,
          32.59,
          41.62,
          54.58,
          93.82,
          15.03,
          48.98,
          53.64,
          51.43,
          24.77,
          43.11,
          191.19,
          103.32,
          69.29,
          69.27,
          15.53,
          130.79,
          84.23,
          66.61,
          74.87,
          68.26,
          85,
          88.29,
          91.23,
          67.69,
          76.83,
          90.37,
          61.47,
          95.32,
          97.57,
          55.51,
          85.13,
          67.83,
          62.5,
          61.81
         ],
         "yaxis": "y"
        },
        {
         "hovertemplate": "<b>%{hovertext}</b><br><br>continent=Oceania<br> Birth rate=%{x}<br> Infant mortality rate=%{y}<br>  Population =%{marker.size}<extra></extra>",
         "hovertext": [
          "Papua New Guinea",
          "New Zealand",
          "Australia"
         ],
         "legendgroup": "Oceania",
         "marker": {
          "color": "#FFA15A",
          "size": [
           5545268,
           4035461,
           20090437
          ],
          "sizemode": "area",
          "sizeref": 522525.5248,
          "symbol": "circle"
         },
         "mode": "markers",
         "name": "Oceania (29.67M)",
         "orientation": "v",
         "showlegend": true,
         "type": "scatter",
         "x": [
          29.95,
          13.9,
          12.26
         ],
         "xaxis": "x",
         "y": [
          51.45,
          5.85,
          4.69
         ],
         "yaxis": "y"
        }
       ],
       "layout": {
        "legend": {
         "itemsizing": "constant",
         "title": {
          "text": "continent"
         },
         "tracegroupgap": 0
        },
        "margin": {
         "t": 60
        },
        "template": {
         "data": {
          "bar": [
           {
            "error_x": {
             "color": "#2a3f5f"
            },
            "error_y": {
             "color": "#2a3f5f"
            },
            "marker": {
             "line": {
              "color": "#E5ECF6",
              "width": 0.5
             },
             "pattern": {
              "fillmode": "overlay",
              "size": 10,
              "solidity": 0.2
             }
            },
            "type": "bar"
           }
          ],
          "barpolar": [
           {
            "marker": {
             "line": {
              "color": "#E5ECF6",
              "width": 0.5
             },
             "pattern": {
              "fillmode": "overlay",
              "size": 10,
              "solidity": 0.2
             }
            },
            "type": "barpolar"
           }
          ],
          "carpet": [
           {
            "aaxis": {
             "endlinecolor": "#2a3f5f",
             "gridcolor": "white",
             "linecolor": "white",
             "minorgridcolor": "white",
             "startlinecolor": "#2a3f5f"
            },
            "baxis": {
             "endlinecolor": "#2a3f5f",
             "gridcolor": "white",
             "linecolor": "white",
             "minorgridcolor": "white",
             "startlinecolor": "#2a3f5f"
            },
            "type": "carpet"
           }
          ],
          "choropleth": [
           {
            "colorbar": {
             "outlinewidth": 0,
             "ticks": ""
            },
            "type": "choropleth"
           }
          ],
          "contour": [
           {
            "colorbar": {
             "outlinewidth": 0,
             "ticks": ""
            },
            "colorscale": [
             [
              0,
              "#0d0887"
             ],
             [
              0.1111111111111111,
              "#46039f"
             ],
             [
              0.2222222222222222,
              "#7201a8"
             ],
             [
              0.3333333333333333,
              "#9c179e"
             ],
             [
              0.4444444444444444,
              "#bd3786"
             ],
             [
              0.5555555555555556,
              "#d8576b"
             ],
             [
              0.6666666666666666,
              "#ed7953"
             ],
             [
              0.7777777777777778,
              "#fb9f3a"
             ],
             [
              0.8888888888888888,
              "#fdca26"
             ],
             [
              1,
              "#f0f921"
             ]
            ],
            "type": "contour"
           }
          ],
          "contourcarpet": [
           {
            "colorbar": {
             "outlinewidth": 0,
             "ticks": ""
            },
            "type": "contourcarpet"
           }
          ],
          "heatmap": [
           {
            "colorbar": {
             "outlinewidth": 0,
             "ticks": ""
            },
            "colorscale": [
             [
              0,
              "#0d0887"
             ],
             [
              0.1111111111111111,
              "#46039f"
             ],
             [
              0.2222222222222222,
              "#7201a8"
             ],
             [
              0.3333333333333333,
              "#9c179e"
             ],
             [
              0.4444444444444444,
              "#bd3786"
             ],
             [
              0.5555555555555556,
              "#d8576b"
             ],
             [
              0.6666666666666666,
              "#ed7953"
             ],
             [
              0.7777777777777778,
              "#fb9f3a"
             ],
             [
              0.8888888888888888,
              "#fdca26"
             ],
             [
              1,
              "#f0f921"
             ]
            ],
            "type": "heatmap"
           }
          ],
          "heatmapgl": [
           {
            "colorbar": {
             "outlinewidth": 0,
             "ticks": ""
            },
            "colorscale": [
             [
              0,
              "#0d0887"
             ],
             [
              0.1111111111111111,
              "#46039f"
             ],
             [
              0.2222222222222222,
              "#7201a8"
             ],
             [
              0.3333333333333333,
              "#9c179e"
             ],
             [
              0.4444444444444444,
              "#bd3786"
             ],
             [
              0.5555555555555556,
              "#d8576b"
             ],
             [
              0.6666666666666666,
              "#ed7953"
             ],
             [
              0.7777777777777778,
              "#fb9f3a"
             ],
             [
              0.8888888888888888,
              "#fdca26"
             ],
             [
              1,
              "#f0f921"
             ]
            ],
            "type": "heatmapgl"
           }
          ],
          "histogram": [
           {
            "marker": {
             "pattern": {
              "fillmode": "overlay",
              "size": 10,
              "solidity": 0.2
             }
            },
            "type": "histogram"
           }
          ],
          "histogram2d": [
           {
            "colorbar": {
             "outlinewidth": 0,
             "ticks": ""
            },
            "colorscale": [
             [
              0,
              "#0d0887"
             ],
             [
              0.1111111111111111,
              "#46039f"
             ],
             [
              0.2222222222222222,
              "#7201a8"
             ],
             [
              0.3333333333333333,
              "#9c179e"
             ],
             [
              0.4444444444444444,
              "#bd3786"
             ],
             [
              0.5555555555555556,
              "#d8576b"
             ],
             [
              0.6666666666666666,
              "#ed7953"
             ],
             [
              0.7777777777777778,
              "#fb9f3a"
             ],
             [
              0.8888888888888888,
              "#fdca26"
             ],
             [
              1,
              "#f0f921"
             ]
            ],
            "type": "histogram2d"
           }
          ],
          "histogram2dcontour": [
           {
            "colorbar": {
             "outlinewidth": 0,
             "ticks": ""
            },
            "colorscale": [
             [
              0,
              "#0d0887"
             ],
             [
              0.1111111111111111,
              "#46039f"
             ],
             [
              0.2222222222222222,
              "#7201a8"
             ],
             [
              0.3333333333333333,
              "#9c179e"
             ],
             [
              0.4444444444444444,
              "#bd3786"
             ],
             [
              0.5555555555555556,
              "#d8576b"
             ],
             [
              0.6666666666666666,
              "#ed7953"
             ],
             [
              0.7777777777777778,
              "#fb9f3a"
             ],
             [
              0.8888888888888888,
              "#fdca26"
             ],
             [
              1,
              "#f0f921"
             ]
            ],
            "type": "histogram2dcontour"
           }
          ],
          "mesh3d": [
           {
            "colorbar": {
             "outlinewidth": 0,
             "ticks": ""
            },
            "type": "mesh3d"
           }
          ],
          "parcoords": [
           {
            "line": {
             "colorbar": {
              "outlinewidth": 0,
              "ticks": ""
             }
            },
            "type": "parcoords"
           }
          ],
          "pie": [
           {
            "automargin": true,
            "type": "pie"
           }
          ],
          "scatter": [
           {
            "fillpattern": {
             "fillmode": "overlay",
             "size": 10,
             "solidity": 0.2
            },
            "type": "scatter"
           }
          ],
          "scatter3d": [
           {
            "line": {
             "colorbar": {
              "outlinewidth": 0,
              "ticks": ""
             }
            },
            "marker": {
             "colorbar": {
              "outlinewidth": 0,
              "ticks": ""
             }
            },
            "type": "scatter3d"
           }
          ],
          "scattercarpet": [
           {
            "marker": {
             "colorbar": {
              "outlinewidth": 0,
              "ticks": ""
             }
            },
            "type": "scattercarpet"
           }
          ],
          "scattergeo": [
           {
            "marker": {
             "colorbar": {
              "outlinewidth": 0,
              "ticks": ""
             }
            },
            "type": "scattergeo"
           }
          ],
          "scattergl": [
           {
            "marker": {
             "colorbar": {
              "outlinewidth": 0,
              "ticks": ""
             }
            },
            "type": "scattergl"
           }
          ],
          "scattermapbox": [
           {
            "marker": {
             "colorbar": {
              "outlinewidth": 0,
              "ticks": ""
             }
            },
            "type": "scattermapbox"
           }
          ],
          "scatterpolar": [
           {
            "marker": {
             "colorbar": {
              "outlinewidth": 0,
              "ticks": ""
             }
            },
            "type": "scatterpolar"
           }
          ],
          "scatterpolargl": [
           {
            "marker": {
             "colorbar": {
              "outlinewidth": 0,
              "ticks": ""
             }
            },
            "type": "scatterpolargl"
           }
          ],
          "scatterternary": [
           {
            "marker": {
             "colorbar": {
              "outlinewidth": 0,
              "ticks": ""
             }
            },
            "type": "scatterternary"
           }
          ],
          "surface": [
           {
            "colorbar": {
             "outlinewidth": 0,
             "ticks": ""
            },
            "colorscale": [
             [
              0,
              "#0d0887"
             ],
             [
              0.1111111111111111,
              "#46039f"
             ],
             [
              0.2222222222222222,
              "#7201a8"
             ],
             [
              0.3333333333333333,
              "#9c179e"
             ],
             [
              0.4444444444444444,
              "#bd3786"
             ],
             [
              0.5555555555555556,
              "#d8576b"
             ],
             [
              0.6666666666666666,
              "#ed7953"
             ],
             [
              0.7777777777777778,
              "#fb9f3a"
             ],
             [
              0.8888888888888888,
              "#fdca26"
             ],
             [
              1,
              "#f0f921"
             ]
            ],
            "type": "surface"
           }
          ],
          "table": [
           {
            "cells": {
             "fill": {
              "color": "#EBF0F8"
             },
             "line": {
              "color": "white"
             }
            },
            "header": {
             "fill": {
              "color": "#C8D4E3"
             },
             "line": {
              "color": "white"
             }
            },
            "type": "table"
           }
          ]
         },
         "layout": {
          "annotationdefaults": {
           "arrowcolor": "#2a3f5f",
           "arrowhead": 0,
           "arrowwidth": 1
          },
          "autotypenumbers": "strict",
          "coloraxis": {
           "colorbar": {
            "outlinewidth": 0,
            "ticks": ""
           }
          },
          "colorscale": {
           "diverging": [
            [
             0,
             "#8e0152"
            ],
            [
             0.1,
             "#c51b7d"
            ],
            [
             0.2,
             "#de77ae"
            ],
            [
             0.3,
             "#f1b6da"
            ],
            [
             0.4,
             "#fde0ef"
            ],
            [
             0.5,
             "#f7f7f7"
            ],
            [
             0.6,
             "#e6f5d0"
            ],
            [
             0.7,
             "#b8e186"
            ],
            [
             0.8,
             "#7fbc41"
            ],
            [
             0.9,
             "#4d9221"
            ],
            [
             1,
             "#276419"
            ]
           ],
           "sequential": [
            [
             0,
             "#0d0887"
            ],
            [
             0.1111111111111111,
             "#46039f"
            ],
            [
             0.2222222222222222,
             "#7201a8"
            ],
            [
             0.3333333333333333,
             "#9c179e"
            ],
            [
             0.4444444444444444,
             "#bd3786"
            ],
            [
             0.5555555555555556,
             "#d8576b"
            ],
            [
             0.6666666666666666,
             "#ed7953"
            ],
            [
             0.7777777777777778,
             "#fb9f3a"
            ],
            [
             0.8888888888888888,
             "#fdca26"
            ],
            [
             1,
             "#f0f921"
            ]
           ],
           "sequentialminus": [
            [
             0,
             "#0d0887"
            ],
            [
             0.1111111111111111,
             "#46039f"
            ],
            [
             0.2222222222222222,
             "#7201a8"
            ],
            [
             0.3333333333333333,
             "#9c179e"
            ],
            [
             0.4444444444444444,
             "#bd3786"
            ],
            [
             0.5555555555555556,
             "#d8576b"
            ],
            [
             0.6666666666666666,
             "#ed7953"
            ],
            [
             0.7777777777777778,
             "#fb9f3a"
            ],
            [
             0.8888888888888888,
             "#fdca26"
            ],
            [
             1,
             "#f0f921"
            ]
           ]
          },
          "colorway": [
           "#636efa",
           "#EF553B",
           "#00cc96",
           "#ab63fa",
           "#FFA15A",
           "#19d3f3",
           "#FF6692",
           "#B6E880",
           "#FF97FF",
           "#FECB52"
          ],
          "font": {
           "color": "#2a3f5f"
          },
          "geo": {
           "bgcolor": "white",
           "lakecolor": "white",
           "landcolor": "#E5ECF6",
           "showlakes": true,
           "showland": true,
           "subunitcolor": "white"
          },
          "hoverlabel": {
           "align": "left"
          },
          "hovermode": "closest",
          "mapbox": {
           "style": "light"
          },
          "paper_bgcolor": "white",
          "plot_bgcolor": "#E5ECF6",
          "polar": {
           "angularaxis": {
            "gridcolor": "white",
            "linecolor": "white",
            "ticks": ""
           },
           "bgcolor": "#E5ECF6",
           "radialaxis": {
            "gridcolor": "white",
            "linecolor": "white",
            "ticks": ""
           }
          },
          "scene": {
           "xaxis": {
            "backgroundcolor": "#E5ECF6",
            "gridcolor": "white",
            "gridwidth": 2,
            "linecolor": "white",
            "showbackground": true,
            "ticks": "",
            "zerolinecolor": "white"
           },
           "yaxis": {
            "backgroundcolor": "#E5ECF6",
            "gridcolor": "white",
            "gridwidth": 2,
            "linecolor": "white",
            "showbackground": true,
            "ticks": "",
            "zerolinecolor": "white"
           },
           "zaxis": {
            "backgroundcolor": "#E5ECF6",
            "gridcolor": "white",
            "gridwidth": 2,
            "linecolor": "white",
            "showbackground": true,
            "ticks": "",
            "zerolinecolor": "white"
           }
          },
          "shapedefaults": {
           "line": {
            "color": "#2a3f5f"
           }
          },
          "ternary": {
           "aaxis": {
            "gridcolor": "white",
            "linecolor": "white",
            "ticks": ""
           },
           "baxis": {
            "gridcolor": "white",
            "linecolor": "white",
            "ticks": ""
           },
           "bgcolor": "#E5ECF6",
           "caxis": {
            "gridcolor": "white",
            "linecolor": "white",
            "ticks": ""
           }
          },
          "title": {
           "x": 0.05
          },
          "xaxis": {
           "automargin": true,
           "gridcolor": "white",
           "linecolor": "white",
           "ticks": "",
           "title": {
            "standoff": 15
           },
           "zerolinecolor": "white",
           "zerolinewidth": 2
          },
          "yaxis": {
           "automargin": true,
           "gridcolor": "white",
           "linecolor": "white",
           "ticks": "",
           "title": {
            "standoff": 15
           },
           "zerolinecolor": "white",
           "zerolinewidth": 2
          }
         }
        },
        "title": {
         "text": "Birth VS Infant mortality rate"
        },
        "xaxis": {
         "anchor": "y",
         "domain": [
          0,
          1
         ],
         "title": {
          "text": "BirthRate"
         },
         "type": "log"
        },
        "yaxis": {
         "anchor": "x",
         "domain": [
          0,
          1
         ],
         "title": {
          "text": "Infant mortality rate"
         }
        }
       }
      }
     },
     "metadata": {},
     "output_type": "display_data"
    }
   ],
   "source": [
    "# create bubble chart\n",
    "fig = px.scatter(df, x=' Birth rate', y=' Infant mortality rate', size='  Population ', color='continent', hover_name='Country', log_x=True, size_max=50)\n",
    "# set layout\n",
    "fig.update_layout(title='Birth VS Infant mortality rate', xaxis_title='BirthRate', yaxis_title='Infant mortality rate')\n",
    "\n",
    "for trace in fig.data:\n",
    "    continent = trace.name\n",
    "    population = df.loc[df['continent'] == continent, '  Population '].sum() / 1000000\n",
    "    trace.name += f' ({population:.2f}M)'\n",
    "\n",
    "fig.show()"
   ]
  },
  {
   "attachments": {},
   "cell_type": "markdown",
   "id": "06315f4f",
   "metadata": {},
   "source": [
    "### Analisa Visualisasi"
   ]
  },
  {
   "attachments": {},
   "cell_type": "markdown",
   "id": "cb9487c4",
   "metadata": {},
   "source": [
    "Berdasarkan visualisasi diatas dapat dilihat bahwa angka kelahiran mempengaruhi populasi suatu negara sama dengan sama dengan angka kematian bayi yang juga mempengaruhi populais suatu negara. korelasi antara kedua indikator ini merupakan posistif kuat dimana dengan kenaikan angka kelahiran juga terdapat kenaikan pada angka kematian bayi. "
   ]
  },
  {
   "attachments": {},
   "cell_type": "markdown",
   "id": "4a3f6d9f",
   "metadata": {},
   "source": [
    "### Penggunaan Marker, Channel, dan Color"
   ]
  },
  {
   "attachments": {},
   "cell_type": "markdown",
   "id": "760b079b",
   "metadata": {},
   "source": [
    "1. **Marker**        : Circle or Bubble.\n",
    "2. **Channel**       : X-axis = Birth Rate, Y-axis = Infant Mortality Rate, Size = Population, Color = Continent.\n",
    "3. **Color Style**   : Hue = Ungu muda, Merah, Hijau, Ungu tua, Jingga."
   ]
  },
  {
   "attachments": {},
   "cell_type": "markdown",
   "id": "75831eba",
   "metadata": {},
   "source": [
    "---------------------------------------------------------------------------------------------------------------------------"
   ]
  },
  {
   "attachments": {},
   "cell_type": "markdown",
   "id": "87b93086",
   "metadata": {},
   "source": [
    "2. Perbandingan GDP per capita and Life expectancy at birth"
   ]
  },
  {
   "cell_type": "code",
   "execution_count": 246,
   "id": "a16ee171",
   "metadata": {},
   "outputs": [
    {
     "data": {
      "application/vnd.plotly.v1+json": {
       "config": {
        "plotlyServerURL": "https://plot.ly"
       },
       "data": [
        {
         "hovertemplate": "<b>%{hovertext}</b><br><br>continent=Asia<br>  GDP per capita =%{x}<br> Life expectancy at birth=%{y}<br>  Population =%{marker.size}<extra></extra>",
         "hovertext": [
          "Japan",
          "Saudi Arabia",
          "China",
          "Hong Kong",
          "Kuwait",
          "Malaysia",
          "Singapore",
          "Indonesia",
          "Thailand",
          "United Arab Emirates",
          "Qatar",
          "India",
          "Philippines",
          "Oman",
          "Iran",
          "Pakistan",
          "Syria",
          "Bahrain",
          "Uzbekistan",
          "Yemen",
          "Bangladesh",
          "Israel",
          "Jordan",
          "Turkmenistan",
          "Kazakhstan",
          "Tajikistan",
          "Laos",
          "Kyrgyzstan",
          "Armenia",
          "Cambodia",
          "Iraq",
          "Sri Lanka",
          "Cyprus",
          "Georgia",
          "Vietnam",
          "Lebanon",
          "Azerbaijan",
          "Turkey"
         ],
         "legendgroup": "Asia",
         "marker": {
          "color": "#636efa",
          "size": [
           127417244,
           26417599,
           1306313812,
           6898686,
           2335648,
           23953136,
           4425720,
           241973879,
           65444371,
           2563212,
           863051,
           1080264388,
           87857473,
           3001583,
           68017860,
           162419946,
           18448752,
           688345,
           26851195,
           20727063,
           144319628,
           6276883,
           5759732,
           4952081,
           15185844,
           7163506,
           6217141,
           5146281,
           2982904,
           13607069,
           26074906,
           20064776,
           780133,
           4677401,
           83535576,
           3826018,
           7911974,
           69660559
          ],
          "sizemode": "area",
          "sizeref": 522525.5248,
          "symbol": "circle"
         },
         "mode": "markers",
         "name": "Asia (3705.03M)",
         "orientation": "v",
         "showlegend": true,
         "type": "scatter",
         "x": [
          "29400",
          "12000",
          "5600",
          "34200",
          "21300",
          "9700",
          "27800",
          "3500",
          "8100",
          "25200",
          "23200",
          "3100",
          "5000",
          "13100",
          "7700",
          "2200",
          "3400",
          "19200",
          "1800",
          "800",
          "2000",
          "20800",
          "4500",
          "5700",
          "7800",
          "1100",
          "1900",
          "1700",
          "4600",
          "2000",
          "3500",
          "4000",
          "7135",
          "3100",
          "2700",
          "5000",
          "3800",
          "7400"
         ],
         "xaxis": "x",
         "y": [
          81.15,
          75.46,
          72.27,
          81.39,
          77.03,
          72.24,
          81.62,
          69.57,
          71.57,
          75.24,
          73.67,
          64.35,
          69.91,
          73.13,
          69.96,
          63,
          70.03,
          74.23,
          64.19,
          61.75,
          62.08,
          79.32,
          78.24,
          61.39,
          66.55,
          64.56,
          55.08,
          68.16,
          71.55,
          58.87,
          68.7,
          73.17,
          77.65,
          75.88,
          70.61,
          72.63,
          63.35,
          72.36
         ],
         "yaxis": "y"
        },
        {
         "hovertemplate": "<b>%{hovertext}</b><br><br>continent=Europe<br>  GDP per capita =%{x}<br> Life expectancy at birth=%{y}<br>  Population =%{marker.size}<extra></extra>",
         "hovertext": [
          "Germany",
          "Russia",
          "Switzerland",
          "Norway",
          "Sweden",
          "Netherlands",
          "Belgium",
          "Finland",
          "Denmark",
          "Ukraine",
          "Bulgaria",
          "Slovenia",
          "Malta",
          "France",
          "Macedonia",
          "Albania",
          "Iceland",
          "Belarus",
          "Estonia",
          "Latvia",
          "Slovakia",
          "Lithuania",
          "Croatia",
          "Bosnia and Herzegovina",
          "Ireland",
          "Austria",
          "Romania",
          "Poland",
          "Czech Republic",
          "Hungary",
          "Greece",
          "Portugal",
          "Italy",
          "Spain",
          "United Kingdom"
         ],
         "legendgroup": "Europe",
         "marker": {
          "color": "#EF553B",
          "size": [
           82431390,
           143420309,
           7489370,
           4593041,
           9001774,
           16407491,
           10364388,
           5223442,
           5432335,
           47425336,
           7450349,
           2011070,
           398534,
           60656178,
           2045262,
           3563112,
           296737,
           10300483,
           1332893,
           2290237,
           5431363,
           3596617,
           4495904,
           4025476,
           4015676,
           8184691,
           22329977,
           38635144,
           10241138,
           10006835,
           10668354,
           10566212,
           58103033,
           40341462,
           60441457
          ],
          "sizemode": "area",
          "sizeref": 522525.5248,
          "symbol": "circle"
         },
         "mode": "markers",
         "name": "Europe (713.22M)",
         "orientation": "v",
         "showlegend": true,
         "type": "scatter",
         "x": [
          "28700",
          "9800",
          "33800",
          "40000",
          "28400",
          "29500",
          "30600",
          "29000",
          "32200",
          "6300",
          "8200",
          "19600",
          "18200",
          "28700",
          "7100",
          "4900",
          "31900",
          "6800",
          "14300",
          "11500",
          "14500",
          "12500",
          "11200",
          "6500",
          "31900",
          "31300",
          "7700",
          "12000",
          "16800",
          "14900",
          "21300",
          "17900",
          "27700",
          "23300",
          "29600"
         ],
         "xaxis": "x",
         "y": [
          78.65,
          67.1,
          80.39,
          79.4,
          80.4,
          78.81,
          78.62,
          78.35,
          77.62,
          66.85,
          72.03,
          76.14,
          78.86,
          79.6,
          73.73,
          77.24,
          80.19,
          68.72,
          71.77,
          71.05,
          74.5,
          73.97,
          74.45,
          72.85,
          77.56,
          78.92,
          71.35,
          74.41,
          76.02,
          72.4,
          79.09,
          77.53,
          79.68,
          79.52,
          78.38
         ],
         "yaxis": "y"
        },
        {
         "hovertemplate": "<b>%{hovertext}</b><br><br>continent=Americas<br>  GDP per capita =%{x}<br> Life expectancy at birth=%{y}<br>  Population =%{marker.size}<extra></extra>",
         "hovertext": [
          "Canada",
          "Venezuela",
          "Brazil",
          "Argentina",
          "Chile",
          "Trinidad and Tobago",
          "Dominican Republic",
          "Bolivia",
          "Ecuador",
          "Honduras",
          "Uruguay",
          "Haiti",
          "Peru",
          "Paraguay",
          "Belize",
          "Guyana",
          "Cuba",
          "Panama",
          "Jamaica",
          "Nicaragua",
          "El Salvador",
          "Costa Rica",
          "Guatemala",
          "Colombia",
          "Mexico",
          "United States"
         ],
         "legendgroup": "Americas",
         "marker": {
          "color": "#00cc96",
          "size": [
           32805041,
           25375281,
           186112794,
           39537943,
           15980912,
           1088644,
           8950034,
           8857870,
           13363593,
           6975204,
           3415920,
           8121622,
           27925628,
           6347884,
           279457,
           765283,
           11346670,
           3039150,
           2731832,
           5465100,
           6704932,
           4016173,
           14655189,
           42954279,
           106202903,
           295734134
          ],
          "sizemode": "area",
          "sizeref": 522525.5248,
          "symbol": "circle"
         },
         "mode": "markers",
         "name": "Americas (878.75M)",
         "orientation": "v",
         "showlegend": true,
         "type": "scatter",
         "x": [
          "31500",
          "5800",
          "8100",
          "12400",
          "10700",
          "10500",
          "6300",
          "2600",
          "3700",
          "2800",
          "14500",
          "1500",
          "5600",
          "4800",
          "6500",
          "3800",
          "3000",
          "6900",
          "4100",
          "2300",
          "4900",
          "9600",
          "4200",
          "6600",
          "9600",
          "40100"
         ],
         "xaxis": "x",
         "y": [
          80.1,
          74.31,
          71.69,
          75.91,
          76.58,
          68.91,
          67.26,
          65.5,
          76.21,
          65.6,
          76.13,
          52.92,
          69.53,
          74.89,
          67.49,
          65.5,
          77.23,
          71.94,
          76.29,
          70.33,
          71.22,
          76.84,
          65.14,
          71.72,
          75.19,
          77.71
         ],
         "yaxis": "y"
        },
        {
         "hovertemplate": "<b>%{hovertext}</b><br><br>continent=Africa<br>  GDP per capita =%{x}<br> Life expectancy at birth=%{y}<br>  Population =%{marker.size}<extra></extra>",
         "hovertext": [
          "Algeria",
          "Libya",
          "Nigeria",
          "Egypt",
          "Morocco",
          "Botswana",
          "Chad",
          "Mauritius",
          "Namibia",
          "Gabon",
          "Ghana",
          "Tunisia",
          "Sao Tome and Principe",
          "Angola",
          "Malawi",
          "Burundi",
          "Swaziland",
          "Seychelles",
          "Mozambique",
          "Lesotho",
          "Togo",
          "Eritrea",
          "Cameroon",
          "Benin",
          "Zambia",
          "Rwanda",
          "Zimbabwe",
          "Madagascar",
          "Guinea",
          "Kenya",
          "Ethiopia",
          "Burkina Faso",
          "Senegal",
          "Equatorial Guinea",
          "Uganda",
          "Sudan",
          "South Africa"
         ],
         "legendgroup": "Africa",
         "marker": {
          "color": "#ab63fa",
          "size": [
           32531853,
           5765563,
           128771988,
           77505756,
           32725847,
           1640115,
           9826419,
           1230602,
           2030692,
           1389201,
           21029853,
           10074951,
           187410,
           11190786,
           12158924,
           6370609,
           1173900,
           81188,
           19406703,
           1867035,
           5681519,
           4561599,
           16380005,
           7460025,
           11261795,
           8440820,
           12746990,
           18040341,
           9467866,
           33829590,
           73053286,
           13925313,
           11126832,
           535881,
           27269482,
           40187486,
           44344136
          ],
          "sizemode": "area",
          "sizeref": 522525.5248,
          "symbol": "circle"
         },
         "mode": "markers",
         "name": "Africa (715.27M)",
         "orientation": "v",
         "showlegend": true,
         "type": "scatter",
         "x": [
          "6600",
          "6700",
          "1000",
          "4200",
          "4200",
          "9200",
          "1600",
          "12800",
          "7300",
          "5900",
          "2300",
          "7100",
          "1200",
          "2100",
          "600",
          "600",
          "5100",
          "7800",
          "1200",
          "3200",
          "1600",
          "900",
          "1900",
          "1200",
          "900",
          "1300",
          "1900",
          "800",
          "2100",
          "1100",
          "800",
          "1200",
          "1700",
          "2700",
          "1500",
          "1900",
          "11100"
         ],
         "xaxis": "x",
         "y": [
          73,
          76.5,
          46.74,
          71,
          70.66,
          33.87,
          47.94,
          72.38,
          43.93,
          55.75,
          56,
          74.89,
          66.99,
          36.61,
          36.97,
          43.5,
          35.65,
          71.82,
          40.32,
          36.68,
          52.64,
          52.16,
          47.84,
          50.51,
          39.7,
          46.96,
          36.67,
          56.95,
          49.86,
          47.99,
          48.83,
          43.92,
          56.75,
          55.56,
          51.59,
          58.54,
          43.27
         ],
         "yaxis": "y"
        },
        {
         "hovertemplate": "<b>%{hovertext}</b><br><br>continent=Oceania<br>  GDP per capita =%{x}<br> Life expectancy at birth=%{y}<br>  Population =%{marker.size}<extra></extra>",
         "hovertext": [
          "Papua New Guinea",
          "New Zealand",
          "Australia"
         ],
         "legendgroup": "Oceania",
         "marker": {
          "color": "#FFA15A",
          "size": [
           5545268,
           4035461,
           20090437
          ],
          "sizemode": "area",
          "sizeref": 522525.5248,
          "symbol": "circle"
         },
         "mode": "markers",
         "name": "Oceania (29.67M)",
         "orientation": "v",
         "showlegend": true,
         "type": "scatter",
         "x": [
          "2200",
          "23200",
          "30700"
         ],
         "xaxis": "x",
         "y": [
          64.93,
          78.66,
          80.39
         ],
         "yaxis": "y"
        }
       ],
       "layout": {
        "legend": {
         "itemsizing": "constant",
         "title": {
          "text": "continent"
         },
         "tracegroupgap": 0
        },
        "margin": {
         "t": 60
        },
        "template": {
         "data": {
          "bar": [
           {
            "error_x": {
             "color": "#2a3f5f"
            },
            "error_y": {
             "color": "#2a3f5f"
            },
            "marker": {
             "line": {
              "color": "#E5ECF6",
              "width": 0.5
             },
             "pattern": {
              "fillmode": "overlay",
              "size": 10,
              "solidity": 0.2
             }
            },
            "type": "bar"
           }
          ],
          "barpolar": [
           {
            "marker": {
             "line": {
              "color": "#E5ECF6",
              "width": 0.5
             },
             "pattern": {
              "fillmode": "overlay",
              "size": 10,
              "solidity": 0.2
             }
            },
            "type": "barpolar"
           }
          ],
          "carpet": [
           {
            "aaxis": {
             "endlinecolor": "#2a3f5f",
             "gridcolor": "white",
             "linecolor": "white",
             "minorgridcolor": "white",
             "startlinecolor": "#2a3f5f"
            },
            "baxis": {
             "endlinecolor": "#2a3f5f",
             "gridcolor": "white",
             "linecolor": "white",
             "minorgridcolor": "white",
             "startlinecolor": "#2a3f5f"
            },
            "type": "carpet"
           }
          ],
          "choropleth": [
           {
            "colorbar": {
             "outlinewidth": 0,
             "ticks": ""
            },
            "type": "choropleth"
           }
          ],
          "contour": [
           {
            "colorbar": {
             "outlinewidth": 0,
             "ticks": ""
            },
            "colorscale": [
             [
              0,
              "#0d0887"
             ],
             [
              0.1111111111111111,
              "#46039f"
             ],
             [
              0.2222222222222222,
              "#7201a8"
             ],
             [
              0.3333333333333333,
              "#9c179e"
             ],
             [
              0.4444444444444444,
              "#bd3786"
             ],
             [
              0.5555555555555556,
              "#d8576b"
             ],
             [
              0.6666666666666666,
              "#ed7953"
             ],
             [
              0.7777777777777778,
              "#fb9f3a"
             ],
             [
              0.8888888888888888,
              "#fdca26"
             ],
             [
              1,
              "#f0f921"
             ]
            ],
            "type": "contour"
           }
          ],
          "contourcarpet": [
           {
            "colorbar": {
             "outlinewidth": 0,
             "ticks": ""
            },
            "type": "contourcarpet"
           }
          ],
          "heatmap": [
           {
            "colorbar": {
             "outlinewidth": 0,
             "ticks": ""
            },
            "colorscale": [
             [
              0,
              "#0d0887"
             ],
             [
              0.1111111111111111,
              "#46039f"
             ],
             [
              0.2222222222222222,
              "#7201a8"
             ],
             [
              0.3333333333333333,
              "#9c179e"
             ],
             [
              0.4444444444444444,
              "#bd3786"
             ],
             [
              0.5555555555555556,
              "#d8576b"
             ],
             [
              0.6666666666666666,
              "#ed7953"
             ],
             [
              0.7777777777777778,
              "#fb9f3a"
             ],
             [
              0.8888888888888888,
              "#fdca26"
             ],
             [
              1,
              "#f0f921"
             ]
            ],
            "type": "heatmap"
           }
          ],
          "heatmapgl": [
           {
            "colorbar": {
             "outlinewidth": 0,
             "ticks": ""
            },
            "colorscale": [
             [
              0,
              "#0d0887"
             ],
             [
              0.1111111111111111,
              "#46039f"
             ],
             [
              0.2222222222222222,
              "#7201a8"
             ],
             [
              0.3333333333333333,
              "#9c179e"
             ],
             [
              0.4444444444444444,
              "#bd3786"
             ],
             [
              0.5555555555555556,
              "#d8576b"
             ],
             [
              0.6666666666666666,
              "#ed7953"
             ],
             [
              0.7777777777777778,
              "#fb9f3a"
             ],
             [
              0.8888888888888888,
              "#fdca26"
             ],
             [
              1,
              "#f0f921"
             ]
            ],
            "type": "heatmapgl"
           }
          ],
          "histogram": [
           {
            "marker": {
             "pattern": {
              "fillmode": "overlay",
              "size": 10,
              "solidity": 0.2
             }
            },
            "type": "histogram"
           }
          ],
          "histogram2d": [
           {
            "colorbar": {
             "outlinewidth": 0,
             "ticks": ""
            },
            "colorscale": [
             [
              0,
              "#0d0887"
             ],
             [
              0.1111111111111111,
              "#46039f"
             ],
             [
              0.2222222222222222,
              "#7201a8"
             ],
             [
              0.3333333333333333,
              "#9c179e"
             ],
             [
              0.4444444444444444,
              "#bd3786"
             ],
             [
              0.5555555555555556,
              "#d8576b"
             ],
             [
              0.6666666666666666,
              "#ed7953"
             ],
             [
              0.7777777777777778,
              "#fb9f3a"
             ],
             [
              0.8888888888888888,
              "#fdca26"
             ],
             [
              1,
              "#f0f921"
             ]
            ],
            "type": "histogram2d"
           }
          ],
          "histogram2dcontour": [
           {
            "colorbar": {
             "outlinewidth": 0,
             "ticks": ""
            },
            "colorscale": [
             [
              0,
              "#0d0887"
             ],
             [
              0.1111111111111111,
              "#46039f"
             ],
             [
              0.2222222222222222,
              "#7201a8"
             ],
             [
              0.3333333333333333,
              "#9c179e"
             ],
             [
              0.4444444444444444,
              "#bd3786"
             ],
             [
              0.5555555555555556,
              "#d8576b"
             ],
             [
              0.6666666666666666,
              "#ed7953"
             ],
             [
              0.7777777777777778,
              "#fb9f3a"
             ],
             [
              0.8888888888888888,
              "#fdca26"
             ],
             [
              1,
              "#f0f921"
             ]
            ],
            "type": "histogram2dcontour"
           }
          ],
          "mesh3d": [
           {
            "colorbar": {
             "outlinewidth": 0,
             "ticks": ""
            },
            "type": "mesh3d"
           }
          ],
          "parcoords": [
           {
            "line": {
             "colorbar": {
              "outlinewidth": 0,
              "ticks": ""
             }
            },
            "type": "parcoords"
           }
          ],
          "pie": [
           {
            "automargin": true,
            "type": "pie"
           }
          ],
          "scatter": [
           {
            "fillpattern": {
             "fillmode": "overlay",
             "size": 10,
             "solidity": 0.2
            },
            "type": "scatter"
           }
          ],
          "scatter3d": [
           {
            "line": {
             "colorbar": {
              "outlinewidth": 0,
              "ticks": ""
             }
            },
            "marker": {
             "colorbar": {
              "outlinewidth": 0,
              "ticks": ""
             }
            },
            "type": "scatter3d"
           }
          ],
          "scattercarpet": [
           {
            "marker": {
             "colorbar": {
              "outlinewidth": 0,
              "ticks": ""
             }
            },
            "type": "scattercarpet"
           }
          ],
          "scattergeo": [
           {
            "marker": {
             "colorbar": {
              "outlinewidth": 0,
              "ticks": ""
             }
            },
            "type": "scattergeo"
           }
          ],
          "scattergl": [
           {
            "marker": {
             "colorbar": {
              "outlinewidth": 0,
              "ticks": ""
             }
            },
            "type": "scattergl"
           }
          ],
          "scattermapbox": [
           {
            "marker": {
             "colorbar": {
              "outlinewidth": 0,
              "ticks": ""
             }
            },
            "type": "scattermapbox"
           }
          ],
          "scatterpolar": [
           {
            "marker": {
             "colorbar": {
              "outlinewidth": 0,
              "ticks": ""
             }
            },
            "type": "scatterpolar"
           }
          ],
          "scatterpolargl": [
           {
            "marker": {
             "colorbar": {
              "outlinewidth": 0,
              "ticks": ""
             }
            },
            "type": "scatterpolargl"
           }
          ],
          "scatterternary": [
           {
            "marker": {
             "colorbar": {
              "outlinewidth": 0,
              "ticks": ""
             }
            },
            "type": "scatterternary"
           }
          ],
          "surface": [
           {
            "colorbar": {
             "outlinewidth": 0,
             "ticks": ""
            },
            "colorscale": [
             [
              0,
              "#0d0887"
             ],
             [
              0.1111111111111111,
              "#46039f"
             ],
             [
              0.2222222222222222,
              "#7201a8"
             ],
             [
              0.3333333333333333,
              "#9c179e"
             ],
             [
              0.4444444444444444,
              "#bd3786"
             ],
             [
              0.5555555555555556,
              "#d8576b"
             ],
             [
              0.6666666666666666,
              "#ed7953"
             ],
             [
              0.7777777777777778,
              "#fb9f3a"
             ],
             [
              0.8888888888888888,
              "#fdca26"
             ],
             [
              1,
              "#f0f921"
             ]
            ],
            "type": "surface"
           }
          ],
          "table": [
           {
            "cells": {
             "fill": {
              "color": "#EBF0F8"
             },
             "line": {
              "color": "white"
             }
            },
            "header": {
             "fill": {
              "color": "#C8D4E3"
             },
             "line": {
              "color": "white"
             }
            },
            "type": "table"
           }
          ]
         },
         "layout": {
          "annotationdefaults": {
           "arrowcolor": "#2a3f5f",
           "arrowhead": 0,
           "arrowwidth": 1
          },
          "autotypenumbers": "strict",
          "coloraxis": {
           "colorbar": {
            "outlinewidth": 0,
            "ticks": ""
           }
          },
          "colorscale": {
           "diverging": [
            [
             0,
             "#8e0152"
            ],
            [
             0.1,
             "#c51b7d"
            ],
            [
             0.2,
             "#de77ae"
            ],
            [
             0.3,
             "#f1b6da"
            ],
            [
             0.4,
             "#fde0ef"
            ],
            [
             0.5,
             "#f7f7f7"
            ],
            [
             0.6,
             "#e6f5d0"
            ],
            [
             0.7,
             "#b8e186"
            ],
            [
             0.8,
             "#7fbc41"
            ],
            [
             0.9,
             "#4d9221"
            ],
            [
             1,
             "#276419"
            ]
           ],
           "sequential": [
            [
             0,
             "#0d0887"
            ],
            [
             0.1111111111111111,
             "#46039f"
            ],
            [
             0.2222222222222222,
             "#7201a8"
            ],
            [
             0.3333333333333333,
             "#9c179e"
            ],
            [
             0.4444444444444444,
             "#bd3786"
            ],
            [
             0.5555555555555556,
             "#d8576b"
            ],
            [
             0.6666666666666666,
             "#ed7953"
            ],
            [
             0.7777777777777778,
             "#fb9f3a"
            ],
            [
             0.8888888888888888,
             "#fdca26"
            ],
            [
             1,
             "#f0f921"
            ]
           ],
           "sequentialminus": [
            [
             0,
             "#0d0887"
            ],
            [
             0.1111111111111111,
             "#46039f"
            ],
            [
             0.2222222222222222,
             "#7201a8"
            ],
            [
             0.3333333333333333,
             "#9c179e"
            ],
            [
             0.4444444444444444,
             "#bd3786"
            ],
            [
             0.5555555555555556,
             "#d8576b"
            ],
            [
             0.6666666666666666,
             "#ed7953"
            ],
            [
             0.7777777777777778,
             "#fb9f3a"
            ],
            [
             0.8888888888888888,
             "#fdca26"
            ],
            [
             1,
             "#f0f921"
            ]
           ]
          },
          "colorway": [
           "#636efa",
           "#EF553B",
           "#00cc96",
           "#ab63fa",
           "#FFA15A",
           "#19d3f3",
           "#FF6692",
           "#B6E880",
           "#FF97FF",
           "#FECB52"
          ],
          "font": {
           "color": "#2a3f5f"
          },
          "geo": {
           "bgcolor": "white",
           "lakecolor": "white",
           "landcolor": "#E5ECF6",
           "showlakes": true,
           "showland": true,
           "subunitcolor": "white"
          },
          "hoverlabel": {
           "align": "left"
          },
          "hovermode": "closest",
          "mapbox": {
           "style": "light"
          },
          "paper_bgcolor": "white",
          "plot_bgcolor": "#E5ECF6",
          "polar": {
           "angularaxis": {
            "gridcolor": "white",
            "linecolor": "white",
            "ticks": ""
           },
           "bgcolor": "#E5ECF6",
           "radialaxis": {
            "gridcolor": "white",
            "linecolor": "white",
            "ticks": ""
           }
          },
          "scene": {
           "xaxis": {
            "backgroundcolor": "#E5ECF6",
            "gridcolor": "white",
            "gridwidth": 2,
            "linecolor": "white",
            "showbackground": true,
            "ticks": "",
            "zerolinecolor": "white"
           },
           "yaxis": {
            "backgroundcolor": "#E5ECF6",
            "gridcolor": "white",
            "gridwidth": 2,
            "linecolor": "white",
            "showbackground": true,
            "ticks": "",
            "zerolinecolor": "white"
           },
           "zaxis": {
            "backgroundcolor": "#E5ECF6",
            "gridcolor": "white",
            "gridwidth": 2,
            "linecolor": "white",
            "showbackground": true,
            "ticks": "",
            "zerolinecolor": "white"
           }
          },
          "shapedefaults": {
           "line": {
            "color": "#2a3f5f"
           }
          },
          "ternary": {
           "aaxis": {
            "gridcolor": "white",
            "linecolor": "white",
            "ticks": ""
           },
           "baxis": {
            "gridcolor": "white",
            "linecolor": "white",
            "ticks": ""
           },
           "bgcolor": "#E5ECF6",
           "caxis": {
            "gridcolor": "white",
            "linecolor": "white",
            "ticks": ""
           }
          },
          "title": {
           "x": 0.05
          },
          "xaxis": {
           "automargin": true,
           "gridcolor": "white",
           "linecolor": "white",
           "ticks": "",
           "title": {
            "standoff": 15
           },
           "zerolinecolor": "white",
           "zerolinewidth": 2
          },
          "yaxis": {
           "automargin": true,
           "gridcolor": "white",
           "linecolor": "white",
           "ticks": "",
           "title": {
            "standoff": 15
           },
           "zerolinecolor": "white",
           "zerolinewidth": 2
          }
         }
        },
        "title": {
         "text": "GDP per capita vs. Life expectancy at birth"
        },
        "xaxis": {
         "anchor": "y",
         "domain": [
          0,
          1
         ],
         "title": {
          "text": "GDP per capita"
         },
         "type": "log"
        },
        "yaxis": {
         "anchor": "x",
         "domain": [
          0,
          1
         ],
         "title": {
          "text": "Life expectancy at birth"
         }
        }
       }
      }
     },
     "metadata": {},
     "output_type": "display_data"
    }
   ],
   "source": [
    "# Create a bubble chart with legend labels based on continent\n",
    "fig = px.scatter(df, x='  GDP per capita ', y=' Life expectancy at birth', size='  Population ',\n",
    "                 color='continent', hover_name='Country', log_x=True, size_max=50,\n",
    "                 labels={'continent': 'continent', 'jumlah_populasi': 'jumlah_populasi'})\n",
    "\n",
    "# Set chart title and axis labels\n",
    "fig.update_layout(title='GDP per capita vs. Life expectancy at birth',\n",
    "                  xaxis_title='GDP per capita',\n",
    "                  yaxis_title='Life expectancy at birth')\n",
    "\n",
    "# Add population information to legend labels\n",
    "for trace in fig.data:\n",
    "    continent = trace.name\n",
    "    population = df.loc[df['continent'] == continent, '  Population '].sum() / 1000000\n",
    "    trace.name += f' ({population:.2f}M)'\n",
    "    \n",
    "fig.show()"
   ]
  },
  {
   "attachments": {},
   "cell_type": "markdown",
   "id": "1ce16ee3",
   "metadata": {},
   "source": [
    "### Analisa Visualisasi"
   ]
  },
  {
   "attachments": {},
   "cell_type": "markdown",
   "id": "dff24f2b",
   "metadata": {},
   "source": [
    "Pada visualisasi diatas dapat dilihat bahwa gdp perkapita suatu negara dengan angka harapan hidup dapat mempengaruhi populasi suatu negara. korelasi antara indikator angka harapan hidup dan gdp perkapita menunjukkan korelasi positif kuat, dimana ketika terdapat kenaikan gdp perkapita suatu negara maka angka harapan hidup suatu negara juga ikut meningkat."
   ]
  },
  {
   "attachments": {},
   "cell_type": "markdown",
   "id": "0b0e361d",
   "metadata": {},
   "source": [
    "### Penggunaan Marker, Channel, dan Color"
   ]
  },
  {
   "attachments": {},
   "cell_type": "markdown",
   "id": "34345557",
   "metadata": {},
   "source": [
    "1. **Marker**        : Circle or Bubble.\n",
    "2. **Channel**       : X-axis = GDP per capita, Y-axis = Life expectancy at birth, Size = Population, Color = Continent.\n",
    "3. **Color Style**   : Hue = Ungu muda, Merah, Hijau, Ungu tua, Jingga."
   ]
  },
  {
   "attachments": {},
   "cell_type": "markdown",
   "id": "2f014750",
   "metadata": {},
   "source": [
    "---------------------------------------------------------------------------------------------------------------------------"
   ]
  },
  {
   "attachments": {},
   "cell_type": "markdown",
   "id": "9313589d",
   "metadata": {},
   "source": [
    "* Visualisasi Tree Map"
   ]
  },
  {
   "cell_type": "code",
   "execution_count": 247,
   "id": "01b03f67",
   "metadata": {},
   "outputs": [
    {
     "data": {
      "application/vnd.plotly.v1+json": {
       "config": {
        "plotlyServerURL": "https://plot.ly"
       },
       "data": [
        {
         "branchvalues": "total",
         "customdata": [
          [
           "11,437",
           73.67,
           "23200"
          ],
          [
           "587,040",
           56.95,
           "800"
          ],
          [
           "25,333",
           73.73,
           "7100"
          ],
          [
           "603,700",
           66.85,
           "6300"
          ],
          [
           "756,950",
           76.58,
           "10700"
          ],
          [
           "329,560",
           70.61,
           "2700"
          ],
          [
           "437,072",
           68.7,
           "3500"
          ],
          [
           "3,287,590",
           64.35,
           "3100"
          ],
          [
           "20,273",
           76.14,
           "19600"
          ],
          [
           "56,785",
           52.64,
           "1600"
          ],
          [
           "244,820",
           78.38,
           "29600"
          ],
          [
           "449,964",
           80.4,
           "28400"
          ],
          [
           "377,835",
           81.15,
           "29400"
          ],
          [
           "2,381,740",
           73,
           "6600"
          ],
          [
           "65,200",
           73.97,
           "12500"
          ],
          [
           "1,648,000",
           69.96,
           "7700"
          ],
          [
           "1,960,582",
           75.46,
           "12000"
          ],
          [
           "163,610",
           74.89,
           "7100"
          ],
          [
           "112,620",
           50.51,
           "1200"
          ],
          [
           "103,000",
           80.19,
           "31900"
          ],
          [
           "1,972,550",
           75.19,
           "9600"
          ],
          [
           "1,919,440",
           69.57,
           "3500"
          ],
          [
           "2,717,300",
           66.55,
           "7800"
          ],
          [
           "447,400",
           64.19,
           "1800"
          ],
          [
           "446,550",
           70.66,
           "4200"
          ],
          [
           "185,180",
           70.03,
           "3400"
          ],
          [
           "1,001",
           66.99,
           "1200"
          ],
          [
           "92,300",
           78.24,
           "4500"
          ],
          [
           "9,631,418",
           77.71,
           "40100"
          ],
          [
           "1,138,910",
           71.72,
           "6600"
          ],
          [
           "17,820",
           77.03,
           "21300"
          ],
          [
           "110,910",
           72.03,
           "8200"
          ],
          [
           "245,857",
           49.86,
           "2100"
          ],
          [
           "9,596,960",
           72.27,
           "5600"
          ],
          [
           "514,000",
           71.57,
           "8100"
          ],
          [
           "912,050",
           74.31,
           "5800"
          ],
          [
           "780,580",
           72.36,
           "7400"
          ],
          [
           "8,511,965",
           71.69,
           "8100"
          ],
          [
           "108,890",
           65.14,
           "4200"
          ],
          [
           "27,830",
           43.5,
           "600"
          ],
          [
           "56,542",
           74.45,
           "11200"
          ],
          [
           "181,040",
           58.87,
           "2000"
          ],
          [
           "236,040",
           51.59,
           "1500"
          ],
          [
           "1,219,912",
           43.27,
           "11100"
          ],
          [
           "29,800",
           71.55,
           "4600"
          ],
          [
           "582,650",
           47.99,
           "1100"
          ],
          [
           "51,129",
           72.85,
           "6500"
          ],
          [
           "527,970",
           61.75,
           "800"
          ],
          [
           "212,460",
           73.13,
           "13100"
          ],
          [
           "693",
           81.62,
           "27800"
          ],
          [
           "207,600",
           68.72,
           "6800"
          ],
          [
           "752,614",
           39.7,
           "900"
          ],
          [
           "236,800",
           55.08,
           "1900"
          ],
          [
           "144,000",
           62.08,
           "2000"
          ],
          [
           "329,750",
           72.24,
           "9700"
          ],
          [
           "48,730",
           67.26,
           "6300"
          ],
          [
           "176,220",
           76.13,
           "14500"
          ],
          [
           "198,500",
           68.16,
           "1700"
          ],
          [
           "83,870",
           78.92,
           "31300"
          ],
          [
           "2,040",
           72.38,
           "12800"
          ],
          [
           "338,145",
           78.35,
           "29000"
          ],
          [
           "214,970",
           65.5,
           "3800"
          ],
          [
           "28,051",
           55.56,
           "2700"
          ],
          [
           "69,700",
           75.88,
           "3100"
          ],
          [
           "28,748",
           77.24,
           "4900"
          ],
          [
           "547,030",
           79.6,
           "28700"
          ],
          [
           "64,589",
           71.05,
           "11500"
          ],
          [
           "129,494",
           70.33,
           "2300"
          ],
          [
           "267,667",
           55.75,
           "5900"
          ],
          [
           "390,580",
           36.67,
           "1900"
          ],
          [
           "30,528",
           78.62,
           "30600"
          ],
          [
           "43,094",
           77.62,
           "32200"
          ],
          [
           "301,230",
           79.68,
           "27700"
          ],
          [
           "10,400",
           72.63,
           "5000"
          ],
          [
           "20,770",
           79.32,
           "20800"
          ],
          [
           "1,092",
           81.39,
           "34200"
          ],
          [
           "41,290",
           80.39,
           "33800"
          ],
          [
           "357,021",
           78.65,
           "28700"
          ],
          [
           "45,226",
           71.77,
           "14300"
          ],
          [
           "600,370",
           33.87,
           "9200"
          ],
          [
           "2,766,890",
           75.91,
           "12400"
          ],
          [
           "86,600",
           63.35,
           "3800"
          ],
          [
           "110,860",
           77.23,
           "3000"
          ],
          [
           "316",
           78.86,
           "18200"
          ],
          [
           "268,680",
           78.66,
           "23200"
          ],
          [
           "1,001,450",
           71,
           "4200"
          ],
          [
           "9,250",
           77.65,
           "7135"
          ],
          [
           "1,127,127",
           48.83,
           "800"
          ],
          [
           "300,000",
           69.91,
           "5000"
          ],
          [
           "324,220",
           79.4,
           "40000"
          ],
          [
           "17,075,200",
           67.1,
           "9800"
          ],
          [
           "237,500",
           71.35,
           "7700"
          ],
          [
           "462,840",
           64.93,
           "2200"
          ],
          [
           "475,440",
           47.84,
           "1900"
          ],
          [
           "51,100",
           76.84,
           "9600"
          ],
          [
           "825,418",
           43.93,
           "7300"
          ],
          [
           "112,090",
           65.6,
           "2800"
          ],
          [
           "803,940",
           63,
           "2200"
          ],
          [
           "22,966",
           67.49,
           "6500"
          ],
          [
           "283,560",
           76.21,
           "3700"
          ],
          [
           "2,505,810",
           58.54,
           "1900"
          ],
          [
           "1,246,700",
           36.61,
           "2100"
          ],
          [
           "801,590",
           40.32,
           "1200"
          ],
          [
           "9,984,670",
           80.1,
           "31500"
          ],
          [
           "30,355",
           36.68,
           "3200"
          ],
          [
           "455",
           71.82,
           "7800"
          ],
          [
           "65,610",
           73.17,
           "4000"
          ],
          [
           "504,782",
           79.52,
           "23300"
          ],
          [
           "239,460",
           56,
           "2300"
          ],
          [
           "118,480",
           36.97,
           "600"
          ],
          [
           "41,526",
           78.81,
           "29500"
          ],
          [
           "70,280",
           77.56,
           "31900"
          ],
          [
           "406,750",
           74.89,
           "4800"
          ],
          [
           "312,685",
           74.41,
           "12000"
          ],
          [
           "92,391",
           77.53,
           "17900"
          ],
          [
           "93,030",
           72.4,
           "14900"
          ],
          [
           "923,768",
           46.74,
           "1000"
          ],
          [
           "48,845",
           74.5,
           "14500"
          ],
          [
           "27,750",
           52.92,
           "1500"
          ],
          [
           "78,866",
           76.02,
           "16800"
          ],
          [
           "196,190",
           56.75,
           "1700"
          ],
          [
           "21,040",
           71.22,
           "4900"
          ],
          [
           "10,991",
           76.29,
           "4100"
          ],
          [
           "1,098,580",
           65.5,
           "2600"
          ],
          [
           "17,363",
           35.65,
           "5100"
          ],
          [
           "1,284,000",
           47.94,
           "1600"
          ],
          [
           "274,200",
           43.92,
           "1200"
          ],
          [
           "488,100",
           61.39,
           "5700"
          ],
          [
           "82,880",
           75.24,
           "25200"
          ],
          [
           "1,759,540",
           76.5,
           "6700"
          ],
          [
           "665",
           74.23,
           "19200"
          ],
          [
           "131,940",
           79.09,
           "21300"
          ],
          [
           "143,100",
           64.56,
           "1100"
          ],
          [
           "5,128",
           68.91,
           "10500"
          ],
          [
           "26,338",
           46.96,
           "1300"
          ],
          [
           "1,285,220",
           69.53,
           "5600"
          ],
          [
           "78,200",
           71.94,
           "6900"
          ],
          [
           "7,686,850",
           80.39,
           "30700"
          ],
          [
           "121,320",
           52.16,
           "900"
          ],
          [
           "(?)",
           "(?)",
           "(?)"
          ],
          [
           "(?)",
           "(?)",
           "(?)"
          ],
          [
           "(?)",
           "(?)",
           "(?)"
          ],
          [
           "(?)",
           "(?)",
           "(?)"
          ],
          [
           "(?)",
           "(?)",
           "(?)"
          ]
         ],
         "domain": {
          "x": [
           0,
           1
          ],
          "y": [
           0,
           1
          ]
         },
         "hovertemplate": "labels=%{label}<br>  Population =%{value}<br>parent=%{parent}<br>id=%{id}<br> Area=%{customdata[0]}<br> Life expectancy at birth=%{customdata[1]}<br>  GDP per capita =%{customdata[2]}<extra></extra>",
         "ids": [
          "Asia/Qatar",
          "Africa/Madagascar",
          "Europe/Macedonia",
          "Europe/Ukraine",
          "Americas/Chile",
          "Asia/Vietnam",
          "Asia/Iraq",
          "Asia/India",
          "Europe/Slovenia",
          "Africa/Togo",
          "Europe/United Kingdom",
          "Europe/Sweden",
          "Asia/Japan",
          "Africa/Algeria",
          "Europe/Lithuania",
          "Asia/Iran",
          "Asia/Saudi Arabia",
          "Africa/Tunisia",
          "Africa/Benin",
          "Europe/Iceland",
          "Americas/Mexico",
          "Asia/Indonesia",
          "Asia/Kazakhstan",
          "Asia/Uzbekistan",
          "Africa/Morocco",
          "Asia/Syria",
          "Africa/Sao Tome and Principe",
          "Asia/Jordan",
          "Americas/United States",
          "Americas/Colombia",
          "Asia/Kuwait",
          "Europe/Bulgaria",
          "Africa/Guinea",
          "Asia/China",
          "Asia/Thailand",
          "Americas/Venezuela",
          "Asia/Turkey",
          "Americas/Brazil",
          "Americas/Guatemala",
          "Africa/Burundi",
          "Europe/Croatia",
          "Asia/Cambodia",
          "Africa/Uganda",
          "Africa/South Africa",
          "Asia/Armenia",
          "Africa/Kenya",
          "Europe/Bosnia and Herzegovina",
          "Asia/Yemen",
          "Asia/Oman",
          "Asia/Singapore",
          "Europe/Belarus",
          "Africa/Zambia",
          "Asia/Laos",
          "Asia/Bangladesh",
          "Asia/Malaysia",
          "Americas/Dominican Republic",
          "Americas/Uruguay",
          "Asia/Kyrgyzstan",
          "Europe/Austria",
          "Africa/Mauritius",
          "Europe/Finland",
          "Americas/Guyana",
          "Africa/Equatorial Guinea",
          "Asia/Georgia",
          "Europe/Albania",
          "Europe/France",
          "Europe/Latvia",
          "Americas/Nicaragua",
          "Africa/Gabon",
          "Africa/Zimbabwe",
          "Europe/Belgium",
          "Europe/Denmark",
          "Europe/Italy",
          "Asia/Lebanon",
          "Asia/Israel",
          "Asia/Hong Kong",
          "Europe/Switzerland",
          "Europe/Germany",
          "Europe/Estonia",
          "Africa/Botswana",
          "Americas/Argentina",
          "Asia/Azerbaijan",
          "Americas/Cuba",
          "Europe/Malta",
          "Oceania/New Zealand",
          "Africa/Egypt",
          "Asia/Cyprus",
          "Africa/Ethiopia",
          "Asia/Philippines",
          "Europe/Norway",
          "Europe/Russia",
          "Europe/Romania",
          "Oceania/Papua New Guinea",
          "Africa/Cameroon",
          "Americas/Costa Rica",
          "Africa/Namibia",
          "Americas/Honduras",
          "Asia/Pakistan",
          "Americas/Belize",
          "Americas/Ecuador",
          "Africa/Sudan",
          "Africa/Angola",
          "Africa/Mozambique",
          "Americas/Canada",
          "Africa/Lesotho",
          "Africa/Seychelles",
          "Asia/Sri Lanka",
          "Europe/Spain",
          "Africa/Ghana",
          "Africa/Malawi",
          "Europe/Netherlands",
          "Europe/Ireland",
          "Americas/Paraguay",
          "Europe/Poland",
          "Europe/Portugal",
          "Europe/Hungary",
          "Africa/Nigeria",
          "Europe/Slovakia",
          "Americas/Haiti",
          "Europe/Czech Republic",
          "Africa/Senegal",
          "Americas/El Salvador",
          "Americas/Jamaica",
          "Americas/Bolivia",
          "Africa/Swaziland",
          "Africa/Chad",
          "Africa/Burkina Faso",
          "Asia/Turkmenistan",
          "Asia/United Arab Emirates",
          "Africa/Libya",
          "Asia/Bahrain",
          "Europe/Greece",
          "Asia/Tajikistan",
          "Americas/Trinidad and Tobago",
          "Africa/Rwanda",
          "Americas/Peru",
          "Americas/Panama",
          "Oceania/Australia",
          "Africa/Eritrea",
          "Africa",
          "Americas",
          "Asia",
          "Europe",
          "Oceania"
         ],
         "labels": [
          "Qatar",
          "Madagascar",
          "Macedonia",
          "Ukraine",
          "Chile",
          "Vietnam",
          "Iraq",
          "India",
          "Slovenia",
          "Togo",
          "United Kingdom",
          "Sweden",
          "Japan",
          "Algeria",
          "Lithuania",
          "Iran",
          "Saudi Arabia",
          "Tunisia",
          "Benin",
          "Iceland",
          "Mexico",
          "Indonesia",
          "Kazakhstan",
          "Uzbekistan",
          "Morocco",
          "Syria",
          "Sao Tome and Principe",
          "Jordan",
          "United States",
          "Colombia",
          "Kuwait",
          "Bulgaria",
          "Guinea",
          "China",
          "Thailand",
          "Venezuela",
          "Turkey",
          "Brazil",
          "Guatemala",
          "Burundi",
          "Croatia",
          "Cambodia",
          "Uganda",
          "South Africa",
          "Armenia",
          "Kenya",
          "Bosnia and Herzegovina",
          "Yemen",
          "Oman",
          "Singapore",
          "Belarus",
          "Zambia",
          "Laos",
          "Bangladesh",
          "Malaysia",
          "Dominican Republic",
          "Uruguay",
          "Kyrgyzstan",
          "Austria",
          "Mauritius",
          "Finland",
          "Guyana",
          "Equatorial Guinea",
          "Georgia",
          "Albania",
          "France",
          "Latvia",
          "Nicaragua",
          "Gabon",
          "Zimbabwe",
          "Belgium",
          "Denmark",
          "Italy",
          "Lebanon",
          "Israel",
          "Hong Kong",
          "Switzerland",
          "Germany",
          "Estonia",
          "Botswana",
          "Argentina",
          "Azerbaijan",
          "Cuba",
          "Malta",
          "New Zealand",
          "Egypt",
          "Cyprus",
          "Ethiopia",
          "Philippines",
          "Norway",
          "Russia",
          "Romania",
          "Papua New Guinea",
          "Cameroon",
          "Costa Rica",
          "Namibia",
          "Honduras",
          "Pakistan",
          "Belize",
          "Ecuador",
          "Sudan",
          "Angola",
          "Mozambique",
          "Canada",
          "Lesotho",
          "Seychelles",
          "Sri Lanka",
          "Spain",
          "Ghana",
          "Malawi",
          "Netherlands",
          "Ireland",
          "Paraguay",
          "Poland",
          "Portugal",
          "Hungary",
          "Nigeria",
          "Slovakia",
          "Haiti",
          "Czech Republic",
          "Senegal",
          "El Salvador",
          "Jamaica",
          "Bolivia",
          "Swaziland",
          "Chad",
          "Burkina Faso",
          "Turkmenistan",
          "United Arab Emirates",
          "Libya",
          "Bahrain",
          "Greece",
          "Tajikistan",
          "Trinidad and Tobago",
          "Rwanda",
          "Peru",
          "Panama",
          "Australia",
          "Eritrea",
          "Africa",
          "Americas",
          "Asia",
          "Europe",
          "Oceania"
         ],
         "marker": {
          "colors": [
           "#636efa",
           "#EF553B",
           "#00cc96",
           "#ab63fa",
           "#FFA15A",
           "#19d3f3",
           "#FF6692",
           "#B6E880",
           "#FF97FF",
           "#FECB52",
           "#636efa",
           "#EF553B",
           "#00cc96",
           "#ab63fa",
           "#FFA15A",
           "#19d3f3",
           "#FF6692",
           "#00cc96",
           "#B6E880",
           "#FF97FF",
           "#FECB52",
           "#FF6692",
           "#636efa",
           "#EF553B",
           "#00cc96",
           "#ab63fa",
           "#B6E880",
           "#FFA15A",
           "#19d3f3",
           "#ab63fa",
           "#FF6692",
           "#B6E880",
           "#FF97FF",
           "#FECB52",
           "#636efa",
           "#EF553B",
           "#00cc96",
           "#636efa",
           "#00cc96",
           "#ab63fa",
           "#FFA15A",
           "#19d3f3",
           "#FF6692",
           "#B6E880",
           "#FF97FF",
           "#FECB52",
           "#636efa",
           "#EF553B",
           "#EF553B",
           "#00cc96",
           "#ab63fa",
           "#FFA15A",
           "#19d3f3",
           "#19d3f3",
           "#FF6692",
           "#ab63fa",
           "#B6E880",
           "#FF97FF",
           "#FECB52",
           "#636efa",
           "#EF553B",
           "#00cc96",
           "#19d3f3",
           "#B6E880",
           "#ab63fa",
           "#FFA15A",
           "#19d3f3",
           "#FF6692",
           "#B6E880",
           "#19d3f3",
           "#FF97FF",
           "#FECB52",
           "#636efa",
           "#EF553B",
           "#00cc96",
           "#ab63fa",
           "#FFA15A",
           "#FFA15A",
           "#19d3f3",
           "#FF6692",
           "#B6E880",
           "#00cc96",
           "#FF97FF",
           "#FECB52",
           "#636efa",
           "#00cc96",
           "#636efa",
           "#EF553B",
           "#EF553B",
           "#EF553B",
           "#00cc96",
           "#19d3f3",
           "#ab63fa",
           "#19d3f3",
           "#FECB52",
           "#FFA15A",
           "#19d3f3",
           "#ab63fa",
           "#636efa",
           "#FF6692",
           "#19d3f3",
           "#FF97FF",
           "#B6E880",
           "#B6E880",
           "#FF97FF",
           "#636efa",
           "#FECB52",
           "#636efa",
           "#FF6692",
           "#ab63fa",
           "#EF553B",
           "#FF97FF",
           "#00cc96",
           "#FF6692",
           "#ab63fa",
           "#FFA15A",
           "#19d3f3",
           "#B6E880",
           "#FF6692",
           "#FF6692",
           "#FF97FF",
           "#ab63fa",
           "#B6E880",
           "#FF97FF",
           "#FECB52",
           "#FECB52",
           "#B6E880",
           "#636efa",
           "#EF553B",
           "#00cc96",
           "#ab63fa",
           "#FF6692",
           "#FECB52",
           "#FFA15A",
           "#19d3f3",
           "#FECB52",
           "#FF6692",
           "#B6E880",
           "#FFA15A",
           "#FF97FF",
           "#FF97FF",
           "#FF97FF",
           "#FF97FF",
           "#FF97FF"
          ]
         },
         "name": "",
         "parents": [
          "Asia",
          "Africa",
          "Europe",
          "Europe",
          "Americas",
          "Asia",
          "Asia",
          "Asia",
          "Europe",
          "Africa",
          "Europe",
          "Europe",
          "Asia",
          "Africa",
          "Europe",
          "Asia",
          "Asia",
          "Africa",
          "Africa",
          "Europe",
          "Americas",
          "Asia",
          "Asia",
          "Asia",
          "Africa",
          "Asia",
          "Africa",
          "Asia",
          "Americas",
          "Americas",
          "Asia",
          "Europe",
          "Africa",
          "Asia",
          "Asia",
          "Americas",
          "Asia",
          "Americas",
          "Americas",
          "Africa",
          "Europe",
          "Asia",
          "Africa",
          "Africa",
          "Asia",
          "Africa",
          "Europe",
          "Asia",
          "Asia",
          "Asia",
          "Europe",
          "Africa",
          "Asia",
          "Asia",
          "Asia",
          "Americas",
          "Americas",
          "Asia",
          "Europe",
          "Africa",
          "Europe",
          "Americas",
          "Africa",
          "Asia",
          "Europe",
          "Europe",
          "Europe",
          "Americas",
          "Africa",
          "Africa",
          "Europe",
          "Europe",
          "Europe",
          "Asia",
          "Asia",
          "Asia",
          "Europe",
          "Europe",
          "Europe",
          "Africa",
          "Americas",
          "Asia",
          "Americas",
          "Europe",
          "Oceania",
          "Africa",
          "Asia",
          "Africa",
          "Asia",
          "Europe",
          "Europe",
          "Europe",
          "Oceania",
          "Africa",
          "Americas",
          "Africa",
          "Americas",
          "Asia",
          "Americas",
          "Americas",
          "Africa",
          "Africa",
          "Africa",
          "Americas",
          "Africa",
          "Africa",
          "Asia",
          "Europe",
          "Africa",
          "Africa",
          "Europe",
          "Europe",
          "Americas",
          "Europe",
          "Europe",
          "Europe",
          "Africa",
          "Europe",
          "Americas",
          "Europe",
          "Africa",
          "Americas",
          "Americas",
          "Americas",
          "Africa",
          "Africa",
          "Africa",
          "Asia",
          "Asia",
          "Africa",
          "Asia",
          "Europe",
          "Asia",
          "Americas",
          "Africa",
          "Americas",
          "Americas",
          "Oceania",
          "Africa",
          "",
          "",
          "",
          "",
          ""
         ],
         "type": "treemap",
         "values": [
          863051,
          18040341,
          2045262,
          47425336,
          15980912,
          83535576,
          26074906,
          1080264388,
          2011070,
          5681519,
          60441457,
          9001774,
          127417244,
          32531853,
          3596617,
          68017860,
          26417599,
          10074951,
          7460025,
          296737,
          106202903,
          241973879,
          15185844,
          26851195,
          32725847,
          18448752,
          187410,
          5759732,
          295734134,
          42954279,
          2335648,
          7450349,
          9467866,
          1306313812,
          65444371,
          25375281,
          69660559,
          186112794,
          14655189,
          6370609,
          4495904,
          13607069,
          27269482,
          44344136,
          2982904,
          33829590,
          4025476,
          20727063,
          3001583,
          4425720,
          10300483,
          11261795,
          6217141,
          144319628,
          23953136,
          8950034,
          3415920,
          5146281,
          8184691,
          1230602,
          5223442,
          765283,
          535881,
          4677401,
          3563112,
          60656178,
          2290237,
          5465100,
          1389201,
          12746990,
          10364388,
          5432335,
          58103033,
          3826018,
          6276883,
          6898686,
          7489370,
          82431390,
          1332893,
          1640115,
          39537943,
          7911974,
          11346670,
          398534,
          4035461,
          77505756,
          780133,
          73053286,
          87857473,
          4593041,
          143420309,
          22329977,
          5545268,
          16380005,
          4016173,
          2030692,
          6975204,
          162419946,
          279457,
          13363593,
          40187486,
          11190786,
          19406703,
          32805041,
          1867035,
          81188,
          20064776,
          40341462,
          21029853,
          12158924,
          16407491,
          4015676,
          6347884,
          38635144,
          10566212,
          10006835,
          128771988,
          5431363,
          8121622,
          10241138,
          11126832,
          6704932,
          2731832,
          8857870,
          1173900,
          9826419,
          13925313,
          4952081,
          2563212,
          5765563,
          688345,
          10668354,
          7163506,
          1088644,
          8440820,
          27925628,
          3039150,
          20090437,
          4561599,
          715272361,
          878753472,
          3705025375,
          713217070,
          29671166
         ]
        }
       ],
       "layout": {
        "legend": {
         "tracegroupgap": 0
        },
        "template": {
         "data": {
          "bar": [
           {
            "error_x": {
             "color": "#2a3f5f"
            },
            "error_y": {
             "color": "#2a3f5f"
            },
            "marker": {
             "line": {
              "color": "#E5ECF6",
              "width": 0.5
             },
             "pattern": {
              "fillmode": "overlay",
              "size": 10,
              "solidity": 0.2
             }
            },
            "type": "bar"
           }
          ],
          "barpolar": [
           {
            "marker": {
             "line": {
              "color": "#E5ECF6",
              "width": 0.5
             },
             "pattern": {
              "fillmode": "overlay",
              "size": 10,
              "solidity": 0.2
             }
            },
            "type": "barpolar"
           }
          ],
          "carpet": [
           {
            "aaxis": {
             "endlinecolor": "#2a3f5f",
             "gridcolor": "white",
             "linecolor": "white",
             "minorgridcolor": "white",
             "startlinecolor": "#2a3f5f"
            },
            "baxis": {
             "endlinecolor": "#2a3f5f",
             "gridcolor": "white",
             "linecolor": "white",
             "minorgridcolor": "white",
             "startlinecolor": "#2a3f5f"
            },
            "type": "carpet"
           }
          ],
          "choropleth": [
           {
            "colorbar": {
             "outlinewidth": 0,
             "ticks": ""
            },
            "type": "choropleth"
           }
          ],
          "contour": [
           {
            "colorbar": {
             "outlinewidth": 0,
             "ticks": ""
            },
            "colorscale": [
             [
              0,
              "#0d0887"
             ],
             [
              0.1111111111111111,
              "#46039f"
             ],
             [
              0.2222222222222222,
              "#7201a8"
             ],
             [
              0.3333333333333333,
              "#9c179e"
             ],
             [
              0.4444444444444444,
              "#bd3786"
             ],
             [
              0.5555555555555556,
              "#d8576b"
             ],
             [
              0.6666666666666666,
              "#ed7953"
             ],
             [
              0.7777777777777778,
              "#fb9f3a"
             ],
             [
              0.8888888888888888,
              "#fdca26"
             ],
             [
              1,
              "#f0f921"
             ]
            ],
            "type": "contour"
           }
          ],
          "contourcarpet": [
           {
            "colorbar": {
             "outlinewidth": 0,
             "ticks": ""
            },
            "type": "contourcarpet"
           }
          ],
          "heatmap": [
           {
            "colorbar": {
             "outlinewidth": 0,
             "ticks": ""
            },
            "colorscale": [
             [
              0,
              "#0d0887"
             ],
             [
              0.1111111111111111,
              "#46039f"
             ],
             [
              0.2222222222222222,
              "#7201a8"
             ],
             [
              0.3333333333333333,
              "#9c179e"
             ],
             [
              0.4444444444444444,
              "#bd3786"
             ],
             [
              0.5555555555555556,
              "#d8576b"
             ],
             [
              0.6666666666666666,
              "#ed7953"
             ],
             [
              0.7777777777777778,
              "#fb9f3a"
             ],
             [
              0.8888888888888888,
              "#fdca26"
             ],
             [
              1,
              "#f0f921"
             ]
            ],
            "type": "heatmap"
           }
          ],
          "heatmapgl": [
           {
            "colorbar": {
             "outlinewidth": 0,
             "ticks": ""
            },
            "colorscale": [
             [
              0,
              "#0d0887"
             ],
             [
              0.1111111111111111,
              "#46039f"
             ],
             [
              0.2222222222222222,
              "#7201a8"
             ],
             [
              0.3333333333333333,
              "#9c179e"
             ],
             [
              0.4444444444444444,
              "#bd3786"
             ],
             [
              0.5555555555555556,
              "#d8576b"
             ],
             [
              0.6666666666666666,
              "#ed7953"
             ],
             [
              0.7777777777777778,
              "#fb9f3a"
             ],
             [
              0.8888888888888888,
              "#fdca26"
             ],
             [
              1,
              "#f0f921"
             ]
            ],
            "type": "heatmapgl"
           }
          ],
          "histogram": [
           {
            "marker": {
             "pattern": {
              "fillmode": "overlay",
              "size": 10,
              "solidity": 0.2
             }
            },
            "type": "histogram"
           }
          ],
          "histogram2d": [
           {
            "colorbar": {
             "outlinewidth": 0,
             "ticks": ""
            },
            "colorscale": [
             [
              0,
              "#0d0887"
             ],
             [
              0.1111111111111111,
              "#46039f"
             ],
             [
              0.2222222222222222,
              "#7201a8"
             ],
             [
              0.3333333333333333,
              "#9c179e"
             ],
             [
              0.4444444444444444,
              "#bd3786"
             ],
             [
              0.5555555555555556,
              "#d8576b"
             ],
             [
              0.6666666666666666,
              "#ed7953"
             ],
             [
              0.7777777777777778,
              "#fb9f3a"
             ],
             [
              0.8888888888888888,
              "#fdca26"
             ],
             [
              1,
              "#f0f921"
             ]
            ],
            "type": "histogram2d"
           }
          ],
          "histogram2dcontour": [
           {
            "colorbar": {
             "outlinewidth": 0,
             "ticks": ""
            },
            "colorscale": [
             [
              0,
              "#0d0887"
             ],
             [
              0.1111111111111111,
              "#46039f"
             ],
             [
              0.2222222222222222,
              "#7201a8"
             ],
             [
              0.3333333333333333,
              "#9c179e"
             ],
             [
              0.4444444444444444,
              "#bd3786"
             ],
             [
              0.5555555555555556,
              "#d8576b"
             ],
             [
              0.6666666666666666,
              "#ed7953"
             ],
             [
              0.7777777777777778,
              "#fb9f3a"
             ],
             [
              0.8888888888888888,
              "#fdca26"
             ],
             [
              1,
              "#f0f921"
             ]
            ],
            "type": "histogram2dcontour"
           }
          ],
          "mesh3d": [
           {
            "colorbar": {
             "outlinewidth": 0,
             "ticks": ""
            },
            "type": "mesh3d"
           }
          ],
          "parcoords": [
           {
            "line": {
             "colorbar": {
              "outlinewidth": 0,
              "ticks": ""
             }
            },
            "type": "parcoords"
           }
          ],
          "pie": [
           {
            "automargin": true,
            "type": "pie"
           }
          ],
          "scatter": [
           {
            "fillpattern": {
             "fillmode": "overlay",
             "size": 10,
             "solidity": 0.2
            },
            "type": "scatter"
           }
          ],
          "scatter3d": [
           {
            "line": {
             "colorbar": {
              "outlinewidth": 0,
              "ticks": ""
             }
            },
            "marker": {
             "colorbar": {
              "outlinewidth": 0,
              "ticks": ""
             }
            },
            "type": "scatter3d"
           }
          ],
          "scattercarpet": [
           {
            "marker": {
             "colorbar": {
              "outlinewidth": 0,
              "ticks": ""
             }
            },
            "type": "scattercarpet"
           }
          ],
          "scattergeo": [
           {
            "marker": {
             "colorbar": {
              "outlinewidth": 0,
              "ticks": ""
             }
            },
            "type": "scattergeo"
           }
          ],
          "scattergl": [
           {
            "marker": {
             "colorbar": {
              "outlinewidth": 0,
              "ticks": ""
             }
            },
            "type": "scattergl"
           }
          ],
          "scattermapbox": [
           {
            "marker": {
             "colorbar": {
              "outlinewidth": 0,
              "ticks": ""
             }
            },
            "type": "scattermapbox"
           }
          ],
          "scatterpolar": [
           {
            "marker": {
             "colorbar": {
              "outlinewidth": 0,
              "ticks": ""
             }
            },
            "type": "scatterpolar"
           }
          ],
          "scatterpolargl": [
           {
            "marker": {
             "colorbar": {
              "outlinewidth": 0,
              "ticks": ""
             }
            },
            "type": "scatterpolargl"
           }
          ],
          "scatterternary": [
           {
            "marker": {
             "colorbar": {
              "outlinewidth": 0,
              "ticks": ""
             }
            },
            "type": "scatterternary"
           }
          ],
          "surface": [
           {
            "colorbar": {
             "outlinewidth": 0,
             "ticks": ""
            },
            "colorscale": [
             [
              0,
              "#0d0887"
             ],
             [
              0.1111111111111111,
              "#46039f"
             ],
             [
              0.2222222222222222,
              "#7201a8"
             ],
             [
              0.3333333333333333,
              "#9c179e"
             ],
             [
              0.4444444444444444,
              "#bd3786"
             ],
             [
              0.5555555555555556,
              "#d8576b"
             ],
             [
              0.6666666666666666,
              "#ed7953"
             ],
             [
              0.7777777777777778,
              "#fb9f3a"
             ],
             [
              0.8888888888888888,
              "#fdca26"
             ],
             [
              1,
              "#f0f921"
             ]
            ],
            "type": "surface"
           }
          ],
          "table": [
           {
            "cells": {
             "fill": {
              "color": "#EBF0F8"
             },
             "line": {
              "color": "white"
             }
            },
            "header": {
             "fill": {
              "color": "#C8D4E3"
             },
             "line": {
              "color": "white"
             }
            },
            "type": "table"
           }
          ]
         },
         "layout": {
          "annotationdefaults": {
           "arrowcolor": "#2a3f5f",
           "arrowhead": 0,
           "arrowwidth": 1
          },
          "autotypenumbers": "strict",
          "coloraxis": {
           "colorbar": {
            "outlinewidth": 0,
            "ticks": ""
           }
          },
          "colorscale": {
           "diverging": [
            [
             0,
             "#8e0152"
            ],
            [
             0.1,
             "#c51b7d"
            ],
            [
             0.2,
             "#de77ae"
            ],
            [
             0.3,
             "#f1b6da"
            ],
            [
             0.4,
             "#fde0ef"
            ],
            [
             0.5,
             "#f7f7f7"
            ],
            [
             0.6,
             "#e6f5d0"
            ],
            [
             0.7,
             "#b8e186"
            ],
            [
             0.8,
             "#7fbc41"
            ],
            [
             0.9,
             "#4d9221"
            ],
            [
             1,
             "#276419"
            ]
           ],
           "sequential": [
            [
             0,
             "#0d0887"
            ],
            [
             0.1111111111111111,
             "#46039f"
            ],
            [
             0.2222222222222222,
             "#7201a8"
            ],
            [
             0.3333333333333333,
             "#9c179e"
            ],
            [
             0.4444444444444444,
             "#bd3786"
            ],
            [
             0.5555555555555556,
             "#d8576b"
            ],
            [
             0.6666666666666666,
             "#ed7953"
            ],
            [
             0.7777777777777778,
             "#fb9f3a"
            ],
            [
             0.8888888888888888,
             "#fdca26"
            ],
            [
             1,
             "#f0f921"
            ]
           ],
           "sequentialminus": [
            [
             0,
             "#0d0887"
            ],
            [
             0.1111111111111111,
             "#46039f"
            ],
            [
             0.2222222222222222,
             "#7201a8"
            ],
            [
             0.3333333333333333,
             "#9c179e"
            ],
            [
             0.4444444444444444,
             "#bd3786"
            ],
            [
             0.5555555555555556,
             "#d8576b"
            ],
            [
             0.6666666666666666,
             "#ed7953"
            ],
            [
             0.7777777777777778,
             "#fb9f3a"
            ],
            [
             0.8888888888888888,
             "#fdca26"
            ],
            [
             1,
             "#f0f921"
            ]
           ]
          },
          "colorway": [
           "#636efa",
           "#EF553B",
           "#00cc96",
           "#ab63fa",
           "#FFA15A",
           "#19d3f3",
           "#FF6692",
           "#B6E880",
           "#FF97FF",
           "#FECB52"
          ],
          "font": {
           "color": "#2a3f5f"
          },
          "geo": {
           "bgcolor": "white",
           "lakecolor": "white",
           "landcolor": "#E5ECF6",
           "showlakes": true,
           "showland": true,
           "subunitcolor": "white"
          },
          "hoverlabel": {
           "align": "left"
          },
          "hovermode": "closest",
          "mapbox": {
           "style": "light"
          },
          "paper_bgcolor": "white",
          "plot_bgcolor": "#E5ECF6",
          "polar": {
           "angularaxis": {
            "gridcolor": "white",
            "linecolor": "white",
            "ticks": ""
           },
           "bgcolor": "#E5ECF6",
           "radialaxis": {
            "gridcolor": "white",
            "linecolor": "white",
            "ticks": ""
           }
          },
          "scene": {
           "xaxis": {
            "backgroundcolor": "#E5ECF6",
            "gridcolor": "white",
            "gridwidth": 2,
            "linecolor": "white",
            "showbackground": true,
            "ticks": "",
            "zerolinecolor": "white"
           },
           "yaxis": {
            "backgroundcolor": "#E5ECF6",
            "gridcolor": "white",
            "gridwidth": 2,
            "linecolor": "white",
            "showbackground": true,
            "ticks": "",
            "zerolinecolor": "white"
           },
           "zaxis": {
            "backgroundcolor": "#E5ECF6",
            "gridcolor": "white",
            "gridwidth": 2,
            "linecolor": "white",
            "showbackground": true,
            "ticks": "",
            "zerolinecolor": "white"
           }
          },
          "shapedefaults": {
           "line": {
            "color": "#2a3f5f"
           }
          },
          "ternary": {
           "aaxis": {
            "gridcolor": "white",
            "linecolor": "white",
            "ticks": ""
           },
           "baxis": {
            "gridcolor": "white",
            "linecolor": "white",
            "ticks": ""
           },
           "bgcolor": "#E5ECF6",
           "caxis": {
            "gridcolor": "white",
            "linecolor": "white",
            "ticks": ""
           }
          },
          "title": {
           "x": 0.05
          },
          "xaxis": {
           "automargin": true,
           "gridcolor": "white",
           "linecolor": "white",
           "ticks": "",
           "title": {
            "standoff": 15
           },
           "zerolinecolor": "white",
           "zerolinewidth": 2
          },
          "yaxis": {
           "automargin": true,
           "gridcolor": "white",
           "linecolor": "white",
           "ticks": "",
           "title": {
            "standoff": 15
           },
           "zerolinecolor": "white",
           "zerolinewidth": 2
          }
         }
        },
        "title": {
         "text": "Treemap of World Population and GDP per capita"
        }
       }
      }
     },
     "metadata": {},
     "output_type": "display_data"
    }
   ],
   "source": [
    "# Persiapkan data untuk membuat treemap\n",
    "fig = px.treemap(\n",
    "    df,\n",
    "    path=['continent', 'Country'], # Tentukan hirarki item (dalam contoh ini, kami menggunakan Region dan Country)\n",
    "    values='  Population ', # Tentukan nilai untuk setiap item\n",
    "    color='  GDP per capita ', # Tentukan variabel yang akan digunakan untuk mewarnai setiap item\n",
    "    hover_data=[' Area', ' Life expectancy at birth'], # Tambahkan data lain yang ingin ditampilkan di tooltip\n",
    "    color_continuous_scale='Blues', # Tentukan skala warna yang akan digunakan\n",
    "    title='Treemap of World Population and GDP per capita' # Beri judul plot\n",
    ")\n",
    "\n",
    "fig.show()"
   ]
  },
  {
   "attachments": {},
   "cell_type": "markdown",
   "id": "9d757d4a",
   "metadata": {},
   "source": [
    "### Analisa Visualisasi "
   ]
  },
  {
   "attachments": {},
   "cell_type": "markdown",
   "id": "831e6695",
   "metadata": {},
   "source": [
    "Pada visualisasi treemap diatas dapat diketahui hirarki antar negara didalam kontinen berdasarkan jumlah populasinya,sehingga dapat disimpulkan dengan mudah bahwa populasi terbesar berada pada kontinen asia dan populasi terendah berada pada kontinen oceania."
   ]
  },
  {
   "attachments": {},
   "cell_type": "markdown",
   "id": "9f9bb69e",
   "metadata": {},
   "source": [
    "### Penggunaan Marker, Channel, dan Color"
   ]
  },
  {
   "attachments": {},
   "cell_type": "markdown",
   "id": "cfc28021",
   "metadata": {},
   "source": [
    "1. **Marker**        : Box.\n",
    "2. **Channel**       : Continent Country, Size = Population.\n",
    "3. **Color Style**   : Hue = Jingga, Hijau, Pink, Merah, Biru muda, Biru tua."
   ]
  },
  {
   "attachments": {},
   "cell_type": "markdown",
   "id": "62e53b14",
   "metadata": {},
   "source": [
    "---------------------------------------------------------------------------------------------------------------------------"
   ]
  },
  {
   "attachments": {},
   "cell_type": "markdown",
   "id": "3333fe3f",
   "metadata": {},
   "source": [
    "## Transformasi "
   ]
  },
  {
   "attachments": {},
   "cell_type": "markdown",
   "id": "8a839ae3",
   "metadata": {},
   "source": [
    "* Trade Balance (Neraca Perdagangan)"
   ]
  },
  {
   "attachments": {},
   "cell_type": "markdown",
   "id": "9d9c9425",
   "metadata": {},
   "source": [
    "Berikut merupakan rumus yang digunakan untuk memperoleh neraca perdagangan suatu negara:\n",
    "\n",
    "$Neraca \\ Perdagangan = Ekspor - Impor$"
   ]
  },
  {
   "cell_type": "code",
   "execution_count": 248,
   "id": "7e7246bd",
   "metadata": {},
   "outputs": [],
   "source": [
    "df['  Exports '] = df['  Exports '].astype(float)\n",
    "df['  Imports '] = df['  Imports '].astype(float)\n",
    "df['trade_balance'] = df['  Exports '] - df['  Imports ']"
   ]
  },
  {
   "attachments": {},
   "cell_type": "markdown",
   "id": "8f8b4d22",
   "metadata": {},
   "source": [
    "* Visualisasi Map"
   ]
  },
  {
   "cell_type": "code",
   "execution_count": 249,
   "id": "55167f2f",
   "metadata": {},
   "outputs": [
    {
     "data": {
      "application/vnd.plotly.v1+json": {
       "config": {
        "plotlyServerURL": "https://plot.ly"
       },
       "data": [
        {
         "coloraxis": "coloraxis",
         "geo": "geo",
         "hovertemplate": "Country=%{location}<br>trade_balance=%{z}<extra></extra>",
         "locationmode": "country names",
         "locations": [
          "Japan",
          "Saudi Arabia",
          "China",
          "Hong Kong",
          "Kuwait",
          "Malaysia",
          "Singapore",
          "Indonesia",
          "Thailand",
          "United Arab Emirates",
          "Qatar",
          "India",
          "Philippines",
          "Oman",
          "Iran",
          "Pakistan",
          "Syria",
          "Bahrain",
          "Uzbekistan",
          "Yemen",
          "Bangladesh",
          "Israel",
          "Jordan",
          "Turkmenistan",
          "Kazakhstan",
          "Tajikistan",
          "Laos",
          "Kyrgyzstan",
          "Armenia",
          "Cambodia",
          "Iraq",
          "Sri Lanka",
          "Cyprus",
          "Georgia",
          "Vietnam",
          "Lebanon",
          "Azerbaijan",
          "Turkey",
          "Germany",
          "Russia",
          "Switzerland",
          "Norway",
          "Sweden",
          "Netherlands",
          "Belgium",
          "Finland",
          "Denmark",
          "Ukraine",
          "Bulgaria",
          "Slovenia",
          "Malta",
          "France",
          "Macedonia",
          "Albania",
          "Iceland",
          "Belarus",
          "Estonia",
          "Latvia",
          "Slovakia",
          "Lithuania",
          "Croatia",
          "Bosnia and Herzegovina",
          "Ireland",
          "Austria",
          "Romania",
          "Poland",
          "Czech Republic",
          "Hungary",
          "Greece",
          "Portugal",
          "Italy",
          "Spain",
          "United Kingdom",
          "Canada",
          "Venezuela",
          "Brazil",
          "Argentina",
          "Chile",
          "Trinidad and Tobago",
          "Dominican Republic",
          "Bolivia",
          "Ecuador",
          "Honduras",
          "Uruguay",
          "Haiti",
          "Peru",
          "Paraguay",
          "Belize",
          "Guyana",
          "Cuba",
          "Panama",
          "Jamaica",
          "Nicaragua",
          "El Salvador",
          "Costa Rica",
          "Guatemala",
          "Colombia",
          "Mexico",
          "United States",
          "Algeria",
          "Libya",
          "Nigeria",
          "Egypt",
          "Morocco",
          "Botswana",
          "Chad",
          "Mauritius",
          "Namibia",
          "Gabon",
          "Ghana",
          "Tunisia",
          "Sao Tome and Principe",
          "Angola",
          "Malawi",
          "Burundi",
          "Swaziland",
          "Seychelles",
          "Mozambique",
          "Lesotho",
          "Togo",
          "Eritrea",
          "Cameroon",
          "Benin",
          "Zambia",
          "Rwanda",
          "Zimbabwe",
          "Madagascar",
          "Guinea",
          "Kenya",
          "Ethiopia",
          "Burkina Faso",
          "Senegal",
          "Equatorial Guinea",
          "Uganda",
          "Sudan",
          "South Africa",
          "Papua New Guinea",
          "New Zealand",
          "Australia"
         ],
         "name": "",
         "type": "choropleth",
         "z": [
          137000000000,
          76790000000,
          30700000000,
          -7800000000,
          16300000000,
          24200000000,
          18800000000,
          24790000000,
          7070000000,
          23820000000,
          8850000000,
          -20150000000,
          1130000000,
          6767000000,
          7490000000,
          1060000000,
          1044000000,
          2335000000,
          880000000,
          734000000,
          -2552000000,
          -2430000000,
          -4400000000,
          1150000000,
          5400000000,
          -170000000,
          -214000000,
          -128400000,
          -450000000,
          -818000000,
          200000000,
          -1959000000,
          -365900000,
          -896600000,
          -2590000000,
          -6379000000,
          -454000000,
          -25040000000,
          176600000000,
          69590000000,
          9600000000,
          30680000000,
          23730000000,
          40400000000,
          20700000000,
          15870000000,
          9610000000,
          1460000000,
          -3096000000,
          -1100000000,
          -782000000,
          -700000000,
          -1048000000,
          -1523600000,
          -405000000,
          -2100000000,
          -1617000000,
          -2401000000,
          -430000000,
          -2140000000,
          -8855000000,
          -3500000000,
          43150000000,
          1500000000,
          -4890000000,
          -5630000000,
          -1680000000,
          -4060000000,
          -38780000000,
          -14420000000,
          7100000000,
          -49500000000,
          -92200000000,
          59500000000,
          20860000000,
          34000000000,
          11720000000,
          6670000000,
          2021000000,
          -2647000000,
          391000000,
          -90000000,
          -1875000000,
          129000000,
          -746900000,
          2700000000,
          -394000000,
          -178500000,
          -79900000,
          -3192000000,
          -1465000000,
          -1945000000,
          -1270000000,
          -2719000000,
          -1658000000,
          -4859000000,
          160000000,
          -8400000000,
          -681000000000,
          16910000000,
          11426000000,
          16850000000,
          -8210000000,
          -5876000000,
          685000000,
          -135700000,
          -233000000,
          -117000000,
          2485000000,
          -689000000,
          -1594000000,
          -34300000,
          7864000000,
          -17700000,
          -106360000,
          -239900000,
          -137200000,
          -283500000,
          -246400000,
          -161800000,
          -557560000,
          466000000,
          -213600000,
          29000000,
          -190220000,
          -190000000,
          -278800000,
          67700000,
          -1601000000,
          -1541200000,
          -447700000,
          -754000000,
          1604000000,
          -684300000,
          -101000000,
          2550000000,
          1084000000,
          80000000,
          -11210000000
         ]
        }
       ],
       "layout": {
        "coloraxis": {
         "cmax": 100000000000,
         "cmin": 0,
         "colorbar": {
          "title": {
           "text": "Trade Balance"
          }
         },
         "colorscale": [
          [
           0,
           "#440154"
          ],
          [
           0.1111111111111111,
           "#482878"
          ],
          [
           0.2222222222222222,
           "#3e4989"
          ],
          [
           0.3333333333333333,
           "#31688e"
          ],
          [
           0.4444444444444444,
           "#26828e"
          ],
          [
           0.5555555555555556,
           "#1f9e89"
          ],
          [
           0.6666666666666666,
           "#35b779"
          ],
          [
           0.7777777777777778,
           "#6ece58"
          ],
          [
           0.8888888888888888,
           "#b5de2b"
          ],
          [
           1,
           "#fde725"
          ]
         ]
        },
        "geo": {
         "center": {},
         "domain": {
          "x": [
           0,
           1
          ],
          "y": [
           0,
           1
          ]
         }
        },
        "legend": {
         "tracegroupgap": 0
        },
        "margin": {
         "t": 60
        },
        "template": {
         "data": {
          "bar": [
           {
            "error_x": {
             "color": "#2a3f5f"
            },
            "error_y": {
             "color": "#2a3f5f"
            },
            "marker": {
             "line": {
              "color": "#E5ECF6",
              "width": 0.5
             },
             "pattern": {
              "fillmode": "overlay",
              "size": 10,
              "solidity": 0.2
             }
            },
            "type": "bar"
           }
          ],
          "barpolar": [
           {
            "marker": {
             "line": {
              "color": "#E5ECF6",
              "width": 0.5
             },
             "pattern": {
              "fillmode": "overlay",
              "size": 10,
              "solidity": 0.2
             }
            },
            "type": "barpolar"
           }
          ],
          "carpet": [
           {
            "aaxis": {
             "endlinecolor": "#2a3f5f",
             "gridcolor": "white",
             "linecolor": "white",
             "minorgridcolor": "white",
             "startlinecolor": "#2a3f5f"
            },
            "baxis": {
             "endlinecolor": "#2a3f5f",
             "gridcolor": "white",
             "linecolor": "white",
             "minorgridcolor": "white",
             "startlinecolor": "#2a3f5f"
            },
            "type": "carpet"
           }
          ],
          "choropleth": [
           {
            "colorbar": {
             "outlinewidth": 0,
             "ticks": ""
            },
            "type": "choropleth"
           }
          ],
          "contour": [
           {
            "colorbar": {
             "outlinewidth": 0,
             "ticks": ""
            },
            "colorscale": [
             [
              0,
              "#0d0887"
             ],
             [
              0.1111111111111111,
              "#46039f"
             ],
             [
              0.2222222222222222,
              "#7201a8"
             ],
             [
              0.3333333333333333,
              "#9c179e"
             ],
             [
              0.4444444444444444,
              "#bd3786"
             ],
             [
              0.5555555555555556,
              "#d8576b"
             ],
             [
              0.6666666666666666,
              "#ed7953"
             ],
             [
              0.7777777777777778,
              "#fb9f3a"
             ],
             [
              0.8888888888888888,
              "#fdca26"
             ],
             [
              1,
              "#f0f921"
             ]
            ],
            "type": "contour"
           }
          ],
          "contourcarpet": [
           {
            "colorbar": {
             "outlinewidth": 0,
             "ticks": ""
            },
            "type": "contourcarpet"
           }
          ],
          "heatmap": [
           {
            "colorbar": {
             "outlinewidth": 0,
             "ticks": ""
            },
            "colorscale": [
             [
              0,
              "#0d0887"
             ],
             [
              0.1111111111111111,
              "#46039f"
             ],
             [
              0.2222222222222222,
              "#7201a8"
             ],
             [
              0.3333333333333333,
              "#9c179e"
             ],
             [
              0.4444444444444444,
              "#bd3786"
             ],
             [
              0.5555555555555556,
              "#d8576b"
             ],
             [
              0.6666666666666666,
              "#ed7953"
             ],
             [
              0.7777777777777778,
              "#fb9f3a"
             ],
             [
              0.8888888888888888,
              "#fdca26"
             ],
             [
              1,
              "#f0f921"
             ]
            ],
            "type": "heatmap"
           }
          ],
          "heatmapgl": [
           {
            "colorbar": {
             "outlinewidth": 0,
             "ticks": ""
            },
            "colorscale": [
             [
              0,
              "#0d0887"
             ],
             [
              0.1111111111111111,
              "#46039f"
             ],
             [
              0.2222222222222222,
              "#7201a8"
             ],
             [
              0.3333333333333333,
              "#9c179e"
             ],
             [
              0.4444444444444444,
              "#bd3786"
             ],
             [
              0.5555555555555556,
              "#d8576b"
             ],
             [
              0.6666666666666666,
              "#ed7953"
             ],
             [
              0.7777777777777778,
              "#fb9f3a"
             ],
             [
              0.8888888888888888,
              "#fdca26"
             ],
             [
              1,
              "#f0f921"
             ]
            ],
            "type": "heatmapgl"
           }
          ],
          "histogram": [
           {
            "marker": {
             "pattern": {
              "fillmode": "overlay",
              "size": 10,
              "solidity": 0.2
             }
            },
            "type": "histogram"
           }
          ],
          "histogram2d": [
           {
            "colorbar": {
             "outlinewidth": 0,
             "ticks": ""
            },
            "colorscale": [
             [
              0,
              "#0d0887"
             ],
             [
              0.1111111111111111,
              "#46039f"
             ],
             [
              0.2222222222222222,
              "#7201a8"
             ],
             [
              0.3333333333333333,
              "#9c179e"
             ],
             [
              0.4444444444444444,
              "#bd3786"
             ],
             [
              0.5555555555555556,
              "#d8576b"
             ],
             [
              0.6666666666666666,
              "#ed7953"
             ],
             [
              0.7777777777777778,
              "#fb9f3a"
             ],
             [
              0.8888888888888888,
              "#fdca26"
             ],
             [
              1,
              "#f0f921"
             ]
            ],
            "type": "histogram2d"
           }
          ],
          "histogram2dcontour": [
           {
            "colorbar": {
             "outlinewidth": 0,
             "ticks": ""
            },
            "colorscale": [
             [
              0,
              "#0d0887"
             ],
             [
              0.1111111111111111,
              "#46039f"
             ],
             [
              0.2222222222222222,
              "#7201a8"
             ],
             [
              0.3333333333333333,
              "#9c179e"
             ],
             [
              0.4444444444444444,
              "#bd3786"
             ],
             [
              0.5555555555555556,
              "#d8576b"
             ],
             [
              0.6666666666666666,
              "#ed7953"
             ],
             [
              0.7777777777777778,
              "#fb9f3a"
             ],
             [
              0.8888888888888888,
              "#fdca26"
             ],
             [
              1,
              "#f0f921"
             ]
            ],
            "type": "histogram2dcontour"
           }
          ],
          "mesh3d": [
           {
            "colorbar": {
             "outlinewidth": 0,
             "ticks": ""
            },
            "type": "mesh3d"
           }
          ],
          "parcoords": [
           {
            "line": {
             "colorbar": {
              "outlinewidth": 0,
              "ticks": ""
             }
            },
            "type": "parcoords"
           }
          ],
          "pie": [
           {
            "automargin": true,
            "type": "pie"
           }
          ],
          "scatter": [
           {
            "fillpattern": {
             "fillmode": "overlay",
             "size": 10,
             "solidity": 0.2
            },
            "type": "scatter"
           }
          ],
          "scatter3d": [
           {
            "line": {
             "colorbar": {
              "outlinewidth": 0,
              "ticks": ""
             }
            },
            "marker": {
             "colorbar": {
              "outlinewidth": 0,
              "ticks": ""
             }
            },
            "type": "scatter3d"
           }
          ],
          "scattercarpet": [
           {
            "marker": {
             "colorbar": {
              "outlinewidth": 0,
              "ticks": ""
             }
            },
            "type": "scattercarpet"
           }
          ],
          "scattergeo": [
           {
            "marker": {
             "colorbar": {
              "outlinewidth": 0,
              "ticks": ""
             }
            },
            "type": "scattergeo"
           }
          ],
          "scattergl": [
           {
            "marker": {
             "colorbar": {
              "outlinewidth": 0,
              "ticks": ""
             }
            },
            "type": "scattergl"
           }
          ],
          "scattermapbox": [
           {
            "marker": {
             "colorbar": {
              "outlinewidth": 0,
              "ticks": ""
             }
            },
            "type": "scattermapbox"
           }
          ],
          "scatterpolar": [
           {
            "marker": {
             "colorbar": {
              "outlinewidth": 0,
              "ticks": ""
             }
            },
            "type": "scatterpolar"
           }
          ],
          "scatterpolargl": [
           {
            "marker": {
             "colorbar": {
              "outlinewidth": 0,
              "ticks": ""
             }
            },
            "type": "scatterpolargl"
           }
          ],
          "scatterternary": [
           {
            "marker": {
             "colorbar": {
              "outlinewidth": 0,
              "ticks": ""
             }
            },
            "type": "scatterternary"
           }
          ],
          "surface": [
           {
            "colorbar": {
             "outlinewidth": 0,
             "ticks": ""
            },
            "colorscale": [
             [
              0,
              "#0d0887"
             ],
             [
              0.1111111111111111,
              "#46039f"
             ],
             [
              0.2222222222222222,
              "#7201a8"
             ],
             [
              0.3333333333333333,
              "#9c179e"
             ],
             [
              0.4444444444444444,
              "#bd3786"
             ],
             [
              0.5555555555555556,
              "#d8576b"
             ],
             [
              0.6666666666666666,
              "#ed7953"
             ],
             [
              0.7777777777777778,
              "#fb9f3a"
             ],
             [
              0.8888888888888888,
              "#fdca26"
             ],
             [
              1,
              "#f0f921"
             ]
            ],
            "type": "surface"
           }
          ],
          "table": [
           {
            "cells": {
             "fill": {
              "color": "#EBF0F8"
             },
             "line": {
              "color": "white"
             }
            },
            "header": {
             "fill": {
              "color": "#C8D4E3"
             },
             "line": {
              "color": "white"
             }
            },
            "type": "table"
           }
          ]
         },
         "layout": {
          "annotationdefaults": {
           "arrowcolor": "#2a3f5f",
           "arrowhead": 0,
           "arrowwidth": 1
          },
          "autotypenumbers": "strict",
          "coloraxis": {
           "colorbar": {
            "outlinewidth": 0,
            "ticks": ""
           }
          },
          "colorscale": {
           "diverging": [
            [
             0,
             "#8e0152"
            ],
            [
             0.1,
             "#c51b7d"
            ],
            [
             0.2,
             "#de77ae"
            ],
            [
             0.3,
             "#f1b6da"
            ],
            [
             0.4,
             "#fde0ef"
            ],
            [
             0.5,
             "#f7f7f7"
            ],
            [
             0.6,
             "#e6f5d0"
            ],
            [
             0.7,
             "#b8e186"
            ],
            [
             0.8,
             "#7fbc41"
            ],
            [
             0.9,
             "#4d9221"
            ],
            [
             1,
             "#276419"
            ]
           ],
           "sequential": [
            [
             0,
             "#0d0887"
            ],
            [
             0.1111111111111111,
             "#46039f"
            ],
            [
             0.2222222222222222,
             "#7201a8"
            ],
            [
             0.3333333333333333,
             "#9c179e"
            ],
            [
             0.4444444444444444,
             "#bd3786"
            ],
            [
             0.5555555555555556,
             "#d8576b"
            ],
            [
             0.6666666666666666,
             "#ed7953"
            ],
            [
             0.7777777777777778,
             "#fb9f3a"
            ],
            [
             0.8888888888888888,
             "#fdca26"
            ],
            [
             1,
             "#f0f921"
            ]
           ],
           "sequentialminus": [
            [
             0,
             "#0d0887"
            ],
            [
             0.1111111111111111,
             "#46039f"
            ],
            [
             0.2222222222222222,
             "#7201a8"
            ],
            [
             0.3333333333333333,
             "#9c179e"
            ],
            [
             0.4444444444444444,
             "#bd3786"
            ],
            [
             0.5555555555555556,
             "#d8576b"
            ],
            [
             0.6666666666666666,
             "#ed7953"
            ],
            [
             0.7777777777777778,
             "#fb9f3a"
            ],
            [
             0.8888888888888888,
             "#fdca26"
            ],
            [
             1,
             "#f0f921"
            ]
           ]
          },
          "colorway": [
           "#636efa",
           "#EF553B",
           "#00cc96",
           "#ab63fa",
           "#FFA15A",
           "#19d3f3",
           "#FF6692",
           "#B6E880",
           "#FF97FF",
           "#FECB52"
          ],
          "font": {
           "color": "#2a3f5f"
          },
          "geo": {
           "bgcolor": "white",
           "lakecolor": "white",
           "landcolor": "#E5ECF6",
           "showlakes": true,
           "showland": true,
           "subunitcolor": "white"
          },
          "hoverlabel": {
           "align": "left"
          },
          "hovermode": "closest",
          "mapbox": {
           "style": "light"
          },
          "paper_bgcolor": "white",
          "plot_bgcolor": "#E5ECF6",
          "polar": {
           "angularaxis": {
            "gridcolor": "white",
            "linecolor": "white",
            "ticks": ""
           },
           "bgcolor": "#E5ECF6",
           "radialaxis": {
            "gridcolor": "white",
            "linecolor": "white",
            "ticks": ""
           }
          },
          "scene": {
           "xaxis": {
            "backgroundcolor": "#E5ECF6",
            "gridcolor": "white",
            "gridwidth": 2,
            "linecolor": "white",
            "showbackground": true,
            "ticks": "",
            "zerolinecolor": "white"
           },
           "yaxis": {
            "backgroundcolor": "#E5ECF6",
            "gridcolor": "white",
            "gridwidth": 2,
            "linecolor": "white",
            "showbackground": true,
            "ticks": "",
            "zerolinecolor": "white"
           },
           "zaxis": {
            "backgroundcolor": "#E5ECF6",
            "gridcolor": "white",
            "gridwidth": 2,
            "linecolor": "white",
            "showbackground": true,
            "ticks": "",
            "zerolinecolor": "white"
           }
          },
          "shapedefaults": {
           "line": {
            "color": "#2a3f5f"
           }
          },
          "ternary": {
           "aaxis": {
            "gridcolor": "white",
            "linecolor": "white",
            "ticks": ""
           },
           "baxis": {
            "gridcolor": "white",
            "linecolor": "white",
            "ticks": ""
           },
           "bgcolor": "#E5ECF6",
           "caxis": {
            "gridcolor": "white",
            "linecolor": "white",
            "ticks": ""
           }
          },
          "title": {
           "x": 0.05
          },
          "xaxis": {
           "automargin": true,
           "gridcolor": "white",
           "linecolor": "white",
           "ticks": "",
           "title": {
            "standoff": 15
           },
           "zerolinecolor": "white",
           "zerolinewidth": 2
          },
          "yaxis": {
           "automargin": true,
           "gridcolor": "white",
           "linecolor": "white",
           "ticks": "",
           "title": {
            "standoff": 15
           },
           "zerolinecolor": "white",
           "zerolinewidth": 2
          }
         }
        },
        "title": {
         "text": "import by Country"
        }
       }
      }
     },
     "metadata": {},
     "output_type": "display_data"
    }
   ],
   "source": [
    "fig = px.choropleth(df, \n",
    "                    locations='Country', \n",
    "                    locationmode='country names', \n",
    "                    color='trade_balance',\n",
    "                    color_continuous_scale=\"viridis\",\n",
    "                    range_color=(0, 100000000000),\n",
    "                    labels={'trade_balance': 'trade_balance'})\n",
    "fig.update_layout(title=\"import by Country\")\n",
    "fig.update_layout(coloraxis_colorbar=dict(title='Trade Balance'))\n",
    "\n",
    "fig.show()\n"
   ]
  },
  {
   "attachments": {},
   "cell_type": "markdown",
   "id": "950de901",
   "metadata": {},
   "source": [
    "### Analisa Visualisasi"
   ]
  },
  {
   "attachments": {},
   "cell_type": "markdown",
   "id": "38a18e69",
   "metadata": {},
   "source": [
    "Pada visualisasi map diatas dapat dilihat bahwa tiap negara diwarnai berdasarkan tingkat neraca perdagangannya mulai dari ungu gelap yang paling rendah sampai ke kuning terang yang paling tinggi, sehingga dapat disimpulkan bahwa negara dengan neraca perdagangan terbesar merupakan negara jerman."
   ]
  },
  {
   "attachments": {},
   "cell_type": "markdown",
   "id": "a58b8338",
   "metadata": {},
   "source": [
    "### Penggunaan Marker, Channel, dan Color"
   ]
  },
  {
   "attachments": {},
   "cell_type": "markdown",
   "id": "dcc8ee52",
   "metadata": {},
   "source": [
    "1. **Marker**        : Location.\n",
    "2. **Channel**       : Country, Trade Balance.\n",
    "3. **Color Style**   : Viridis"
   ]
  },
  {
   "attachments": {},
   "cell_type": "markdown",
   "id": "028386c1",
   "metadata": {},
   "source": [
    "---------------------------------------------------------------------------------------------------------------------------"
   ]
  },
  {
   "attachments": {},
   "cell_type": "markdown",
   "id": "80cadace",
   "metadata": {},
   "source": [
    "* Internet User Percentage"
   ]
  },
  {
   "attachments": {},
   "cell_type": "markdown",
   "id": "73328a55",
   "metadata": {},
   "source": [
    "Berikut merupakan rumus yang digunakan untuk memperoleh persentase pengguna internet suatu negara:\n",
    "\n",
    "$Persentase \\ Pengguna \\ Internet = \\frac{\\text{Pengguna Internet}}{\\text{Populasi}} \\times 100 %$"
   ]
  },
  {
   "cell_type": "code",
   "execution_count": 250,
   "id": "f1884302",
   "metadata": {},
   "outputs": [],
   "source": [
    "df['internet_user_percent'] = (df['  Internet users ']/df['  Population '])*100"
   ]
  },
  {
   "cell_type": "code",
   "execution_count": 251,
   "id": "49e99a0f",
   "metadata": {},
   "outputs": [
    {
     "name": "stderr",
     "output_type": "stream",
     "text": [
      "C:\\Users\\xdead\\AppData\\Local\\Temp\\ipykernel_7040\\1108390844.py:1: FutureWarning:\n",
      "\n",
      "The default value of numeric_only in DataFrameGroupBy.sum is deprecated. In a future version, numeric_only will default to False. Either specify numeric_only or select only columns which should be valid for the function.\n",
      "\n"
     ]
    }
   ],
   "source": [
    "grouped = df.groupby(['Country', 'continent', '  Population ', 'internet_user_percent']).sum().reset_index()\n",
    "grouped_continent = df.groupby(['continent']).agg({'internet_user_percent': 'sum'}).reset_index()"
   ]
  },
  {
   "attachments": {},
   "cell_type": "markdown",
   "id": "f16c09a4",
   "metadata": {},
   "source": [
    "* Visualisasi Barplot"
   ]
  },
  {
   "cell_type": "code",
   "execution_count": 252,
   "id": "4ce6b52a",
   "metadata": {},
   "outputs": [
    {
     "data": {
      "application/vnd.plotly.v1+json": {
       "config": {
        "plotlyServerURL": "https://plot.ly"
       },
       "data": [
        {
         "marker": {
          "color": [
           89.61412540310972,
           303.4455639907974,
           447.6763391965194,
           1035.3562747113017,
           100.78578110950082
          ],
          "colorscale": [
           [
            0,
            "#440154"
           ],
           [
            0.1111111111111111,
            "#482878"
           ],
           [
            0.2222222222222222,
            "#3e4989"
           ],
           [
            0.3333333333333333,
            "#31688e"
           ],
           [
            0.4444444444444444,
            "#26828e"
           ],
           [
            0.5555555555555556,
            "#1f9e89"
           ],
           [
            0.6666666666666666,
            "#35b779"
           ],
           [
            0.7777777777777778,
            "#6ece58"
           ],
           [
            0.8888888888888888,
            "#b5de2b"
           ],
           [
            1,
            "#fde725"
           ]
          ]
         },
         "text": [
          89.61412540310972,
          303.4455639907974,
          447.6763391965194,
          1035.3562747113017,
          100.78578110950082
         ],
         "textposition": "auto",
         "texttemplate": "%{y:.2f} ",
         "type": "bar",
         "x": [
          "Africa",
          "Americas",
          "Asia",
          "Europe",
          "Oceania"
         ],
         "y": [
          89.61412540310972,
          303.4455639907974,
          447.6763391965194,
          1035.3562747113017,
          100.78578110950082
         ]
        }
       ],
       "layout": {
        "template": {
         "data": {
          "bar": [
           {
            "error_x": {
             "color": "#2a3f5f"
            },
            "error_y": {
             "color": "#2a3f5f"
            },
            "marker": {
             "line": {
              "color": "#E5ECF6",
              "width": 0.5
             },
             "pattern": {
              "fillmode": "overlay",
              "size": 10,
              "solidity": 0.2
             }
            },
            "type": "bar"
           }
          ],
          "barpolar": [
           {
            "marker": {
             "line": {
              "color": "#E5ECF6",
              "width": 0.5
             },
             "pattern": {
              "fillmode": "overlay",
              "size": 10,
              "solidity": 0.2
             }
            },
            "type": "barpolar"
           }
          ],
          "carpet": [
           {
            "aaxis": {
             "endlinecolor": "#2a3f5f",
             "gridcolor": "white",
             "linecolor": "white",
             "minorgridcolor": "white",
             "startlinecolor": "#2a3f5f"
            },
            "baxis": {
             "endlinecolor": "#2a3f5f",
             "gridcolor": "white",
             "linecolor": "white",
             "minorgridcolor": "white",
             "startlinecolor": "#2a3f5f"
            },
            "type": "carpet"
           }
          ],
          "choropleth": [
           {
            "colorbar": {
             "outlinewidth": 0,
             "ticks": ""
            },
            "type": "choropleth"
           }
          ],
          "contour": [
           {
            "colorbar": {
             "outlinewidth": 0,
             "ticks": ""
            },
            "colorscale": [
             [
              0,
              "#0d0887"
             ],
             [
              0.1111111111111111,
              "#46039f"
             ],
             [
              0.2222222222222222,
              "#7201a8"
             ],
             [
              0.3333333333333333,
              "#9c179e"
             ],
             [
              0.4444444444444444,
              "#bd3786"
             ],
             [
              0.5555555555555556,
              "#d8576b"
             ],
             [
              0.6666666666666666,
              "#ed7953"
             ],
             [
              0.7777777777777778,
              "#fb9f3a"
             ],
             [
              0.8888888888888888,
              "#fdca26"
             ],
             [
              1,
              "#f0f921"
             ]
            ],
            "type": "contour"
           }
          ],
          "contourcarpet": [
           {
            "colorbar": {
             "outlinewidth": 0,
             "ticks": ""
            },
            "type": "contourcarpet"
           }
          ],
          "heatmap": [
           {
            "colorbar": {
             "outlinewidth": 0,
             "ticks": ""
            },
            "colorscale": [
             [
              0,
              "#0d0887"
             ],
             [
              0.1111111111111111,
              "#46039f"
             ],
             [
              0.2222222222222222,
              "#7201a8"
             ],
             [
              0.3333333333333333,
              "#9c179e"
             ],
             [
              0.4444444444444444,
              "#bd3786"
             ],
             [
              0.5555555555555556,
              "#d8576b"
             ],
             [
              0.6666666666666666,
              "#ed7953"
             ],
             [
              0.7777777777777778,
              "#fb9f3a"
             ],
             [
              0.8888888888888888,
              "#fdca26"
             ],
             [
              1,
              "#f0f921"
             ]
            ],
            "type": "heatmap"
           }
          ],
          "heatmapgl": [
           {
            "colorbar": {
             "outlinewidth": 0,
             "ticks": ""
            },
            "colorscale": [
             [
              0,
              "#0d0887"
             ],
             [
              0.1111111111111111,
              "#46039f"
             ],
             [
              0.2222222222222222,
              "#7201a8"
             ],
             [
              0.3333333333333333,
              "#9c179e"
             ],
             [
              0.4444444444444444,
              "#bd3786"
             ],
             [
              0.5555555555555556,
              "#d8576b"
             ],
             [
              0.6666666666666666,
              "#ed7953"
             ],
             [
              0.7777777777777778,
              "#fb9f3a"
             ],
             [
              0.8888888888888888,
              "#fdca26"
             ],
             [
              1,
              "#f0f921"
             ]
            ],
            "type": "heatmapgl"
           }
          ],
          "histogram": [
           {
            "marker": {
             "pattern": {
              "fillmode": "overlay",
              "size": 10,
              "solidity": 0.2
             }
            },
            "type": "histogram"
           }
          ],
          "histogram2d": [
           {
            "colorbar": {
             "outlinewidth": 0,
             "ticks": ""
            },
            "colorscale": [
             [
              0,
              "#0d0887"
             ],
             [
              0.1111111111111111,
              "#46039f"
             ],
             [
              0.2222222222222222,
              "#7201a8"
             ],
             [
              0.3333333333333333,
              "#9c179e"
             ],
             [
              0.4444444444444444,
              "#bd3786"
             ],
             [
              0.5555555555555556,
              "#d8576b"
             ],
             [
              0.6666666666666666,
              "#ed7953"
             ],
             [
              0.7777777777777778,
              "#fb9f3a"
             ],
             [
              0.8888888888888888,
              "#fdca26"
             ],
             [
              1,
              "#f0f921"
             ]
            ],
            "type": "histogram2d"
           }
          ],
          "histogram2dcontour": [
           {
            "colorbar": {
             "outlinewidth": 0,
             "ticks": ""
            },
            "colorscale": [
             [
              0,
              "#0d0887"
             ],
             [
              0.1111111111111111,
              "#46039f"
             ],
             [
              0.2222222222222222,
              "#7201a8"
             ],
             [
              0.3333333333333333,
              "#9c179e"
             ],
             [
              0.4444444444444444,
              "#bd3786"
             ],
             [
              0.5555555555555556,
              "#d8576b"
             ],
             [
              0.6666666666666666,
              "#ed7953"
             ],
             [
              0.7777777777777778,
              "#fb9f3a"
             ],
             [
              0.8888888888888888,
              "#fdca26"
             ],
             [
              1,
              "#f0f921"
             ]
            ],
            "type": "histogram2dcontour"
           }
          ],
          "mesh3d": [
           {
            "colorbar": {
             "outlinewidth": 0,
             "ticks": ""
            },
            "type": "mesh3d"
           }
          ],
          "parcoords": [
           {
            "line": {
             "colorbar": {
              "outlinewidth": 0,
              "ticks": ""
             }
            },
            "type": "parcoords"
           }
          ],
          "pie": [
           {
            "automargin": true,
            "type": "pie"
           }
          ],
          "scatter": [
           {
            "fillpattern": {
             "fillmode": "overlay",
             "size": 10,
             "solidity": 0.2
            },
            "type": "scatter"
           }
          ],
          "scatter3d": [
           {
            "line": {
             "colorbar": {
              "outlinewidth": 0,
              "ticks": ""
             }
            },
            "marker": {
             "colorbar": {
              "outlinewidth": 0,
              "ticks": ""
             }
            },
            "type": "scatter3d"
           }
          ],
          "scattercarpet": [
           {
            "marker": {
             "colorbar": {
              "outlinewidth": 0,
              "ticks": ""
             }
            },
            "type": "scattercarpet"
           }
          ],
          "scattergeo": [
           {
            "marker": {
             "colorbar": {
              "outlinewidth": 0,
              "ticks": ""
             }
            },
            "type": "scattergeo"
           }
          ],
          "scattergl": [
           {
            "marker": {
             "colorbar": {
              "outlinewidth": 0,
              "ticks": ""
             }
            },
            "type": "scattergl"
           }
          ],
          "scattermapbox": [
           {
            "marker": {
             "colorbar": {
              "outlinewidth": 0,
              "ticks": ""
             }
            },
            "type": "scattermapbox"
           }
          ],
          "scatterpolar": [
           {
            "marker": {
             "colorbar": {
              "outlinewidth": 0,
              "ticks": ""
             }
            },
            "type": "scatterpolar"
           }
          ],
          "scatterpolargl": [
           {
            "marker": {
             "colorbar": {
              "outlinewidth": 0,
              "ticks": ""
             }
            },
            "type": "scatterpolargl"
           }
          ],
          "scatterternary": [
           {
            "marker": {
             "colorbar": {
              "outlinewidth": 0,
              "ticks": ""
             }
            },
            "type": "scatterternary"
           }
          ],
          "surface": [
           {
            "colorbar": {
             "outlinewidth": 0,
             "ticks": ""
            },
            "colorscale": [
             [
              0,
              "#0d0887"
             ],
             [
              0.1111111111111111,
              "#46039f"
             ],
             [
              0.2222222222222222,
              "#7201a8"
             ],
             [
              0.3333333333333333,
              "#9c179e"
             ],
             [
              0.4444444444444444,
              "#bd3786"
             ],
             [
              0.5555555555555556,
              "#d8576b"
             ],
             [
              0.6666666666666666,
              "#ed7953"
             ],
             [
              0.7777777777777778,
              "#fb9f3a"
             ],
             [
              0.8888888888888888,
              "#fdca26"
             ],
             [
              1,
              "#f0f921"
             ]
            ],
            "type": "surface"
           }
          ],
          "table": [
           {
            "cells": {
             "fill": {
              "color": "#EBF0F8"
             },
             "line": {
              "color": "white"
             }
            },
            "header": {
             "fill": {
              "color": "#C8D4E3"
             },
             "line": {
              "color": "white"
             }
            },
            "type": "table"
           }
          ]
         },
         "layout": {
          "annotationdefaults": {
           "arrowcolor": "#2a3f5f",
           "arrowhead": 0,
           "arrowwidth": 1
          },
          "autotypenumbers": "strict",
          "coloraxis": {
           "colorbar": {
            "outlinewidth": 0,
            "ticks": ""
           }
          },
          "colorscale": {
           "diverging": [
            [
             0,
             "#8e0152"
            ],
            [
             0.1,
             "#c51b7d"
            ],
            [
             0.2,
             "#de77ae"
            ],
            [
             0.3,
             "#f1b6da"
            ],
            [
             0.4,
             "#fde0ef"
            ],
            [
             0.5,
             "#f7f7f7"
            ],
            [
             0.6,
             "#e6f5d0"
            ],
            [
             0.7,
             "#b8e186"
            ],
            [
             0.8,
             "#7fbc41"
            ],
            [
             0.9,
             "#4d9221"
            ],
            [
             1,
             "#276419"
            ]
           ],
           "sequential": [
            [
             0,
             "#0d0887"
            ],
            [
             0.1111111111111111,
             "#46039f"
            ],
            [
             0.2222222222222222,
             "#7201a8"
            ],
            [
             0.3333333333333333,
             "#9c179e"
            ],
            [
             0.4444444444444444,
             "#bd3786"
            ],
            [
             0.5555555555555556,
             "#d8576b"
            ],
            [
             0.6666666666666666,
             "#ed7953"
            ],
            [
             0.7777777777777778,
             "#fb9f3a"
            ],
            [
             0.8888888888888888,
             "#fdca26"
            ],
            [
             1,
             "#f0f921"
            ]
           ],
           "sequentialminus": [
            [
             0,
             "#0d0887"
            ],
            [
             0.1111111111111111,
             "#46039f"
            ],
            [
             0.2222222222222222,
             "#7201a8"
            ],
            [
             0.3333333333333333,
             "#9c179e"
            ],
            [
             0.4444444444444444,
             "#bd3786"
            ],
            [
             0.5555555555555556,
             "#d8576b"
            ],
            [
             0.6666666666666666,
             "#ed7953"
            ],
            [
             0.7777777777777778,
             "#fb9f3a"
            ],
            [
             0.8888888888888888,
             "#fdca26"
            ],
            [
             1,
             "#f0f921"
            ]
           ]
          },
          "colorway": [
           "#636efa",
           "#EF553B",
           "#00cc96",
           "#ab63fa",
           "#FFA15A",
           "#19d3f3",
           "#FF6692",
           "#B6E880",
           "#FF97FF",
           "#FECB52"
          ],
          "font": {
           "color": "#2a3f5f"
          },
          "geo": {
           "bgcolor": "white",
           "lakecolor": "white",
           "landcolor": "#E5ECF6",
           "showlakes": true,
           "showland": true,
           "subunitcolor": "white"
          },
          "hoverlabel": {
           "align": "left"
          },
          "hovermode": "closest",
          "mapbox": {
           "style": "light"
          },
          "paper_bgcolor": "white",
          "plot_bgcolor": "#E5ECF6",
          "polar": {
           "angularaxis": {
            "gridcolor": "white",
            "linecolor": "white",
            "ticks": ""
           },
           "bgcolor": "#E5ECF6",
           "radialaxis": {
            "gridcolor": "white",
            "linecolor": "white",
            "ticks": ""
           }
          },
          "scene": {
           "xaxis": {
            "backgroundcolor": "#E5ECF6",
            "gridcolor": "white",
            "gridwidth": 2,
            "linecolor": "white",
            "showbackground": true,
            "ticks": "",
            "zerolinecolor": "white"
           },
           "yaxis": {
            "backgroundcolor": "#E5ECF6",
            "gridcolor": "white",
            "gridwidth": 2,
            "linecolor": "white",
            "showbackground": true,
            "ticks": "",
            "zerolinecolor": "white"
           },
           "zaxis": {
            "backgroundcolor": "#E5ECF6",
            "gridcolor": "white",
            "gridwidth": 2,
            "linecolor": "white",
            "showbackground": true,
            "ticks": "",
            "zerolinecolor": "white"
           }
          },
          "shapedefaults": {
           "line": {
            "color": "#2a3f5f"
           }
          },
          "ternary": {
           "aaxis": {
            "gridcolor": "white",
            "linecolor": "white",
            "ticks": ""
           },
           "baxis": {
            "gridcolor": "white",
            "linecolor": "white",
            "ticks": ""
           },
           "bgcolor": "#E5ECF6",
           "caxis": {
            "gridcolor": "white",
            "linecolor": "white",
            "ticks": ""
           }
          },
          "title": {
           "x": 0.05
          },
          "xaxis": {
           "automargin": true,
           "gridcolor": "white",
           "linecolor": "white",
           "ticks": "",
           "title": {
            "standoff": 15
           },
           "zerolinecolor": "white",
           "zerolinewidth": 2
          },
          "yaxis": {
           "automargin": true,
           "gridcolor": "white",
           "linecolor": "white",
           "ticks": "",
           "title": {
            "standoff": 15
           },
           "zerolinecolor": "white",
           "zerolinewidth": 2
          }
         }
        },
        "title": {
         "text": "Jumlah Persentase Pengguna Internet Menurut Benua"
        },
        "xaxis": {
         "title": {
          "text": "Benua"
         }
        },
        "yaxis": {
         "tickformat": "%.1f%%",
         "title": {
          "text": "Persentase Pengguna Internet"
         }
        }
       }
      }
     },
     "metadata": {},
     "output_type": "display_data"
    }
   ],
   "source": [
    "fig = go.Figure(go.Bar(\n",
    "    x=grouped_continent['continent'],\n",
    "    y=grouped_continent['internet_user_percent'],\n",
    "    marker={'color': grouped_continent['internet_user_percent'],\n",
    "            'colorscale': 'Viridis'},\n",
    "    text=grouped_continent['internet_user_percent'],\n",
    "    texttemplate='%{y:.2f} ',\n",
    "    textposition='auto'\n",
    "))\n",
    "\n",
    "fig.update_layout(\n",
    "    title='Jumlah Persentase Pengguna Internet Menurut Benua',\n",
    "    xaxis_title='Benua',\n",
    "    yaxis_title='Persentase Pengguna Internet',\n",
    "    yaxis_tickformat='%.1f%%'\n",
    ")\n",
    "\n",
    "fig.show()"
   ]
  },
  {
   "attachments": {},
   "cell_type": "markdown",
   "id": "49739826",
   "metadata": {},
   "source": [
    "### Analisa Visualisasi"
   ]
  },
  {
   "attachments": {},
   "cell_type": "markdown",
   "id": "a474dea7",
   "metadata": {},
   "source": [
    "Berdasarkan visualisasi diatas dapat dilihat bahwa terdapat perbandingan persentase pengguna internet antara kelima kontinen, sehingga dapat disimpulkan bahwa kontinen dengan persentase pengguna internet terbesar merupakan kontinen eropa dan kontinen dengan persentase pengguna internet terkecil merupakan kontinen afrika."
   ]
  },
  {
   "attachments": {},
   "cell_type": "markdown",
   "id": "6ce251ff",
   "metadata": {},
   "source": [
    "### Penggunaan Marker, Channel, dan Color"
   ]
  },
  {
   "attachments": {},
   "cell_type": "markdown",
   "id": "1b722be3",
   "metadata": {},
   "source": [
    "1. **Channel**       : x = Continent, y = persentase pengguna internet\n",
    "2. **Color Style**   : Viridis"
   ]
  }
 ],
 "metadata": {
  "kernelspec": {
   "display_name": "Python 3",
   "language": "python",
   "name": "python3"
  },
  "language_info": {
   "codemirror_mode": {
    "name": "ipython",
    "version": 3
   },
   "file_extension": ".py",
   "mimetype": "text/x-python",
   "name": "python",
   "nbconvert_exporter": "python",
   "pygments_lexer": "ipython3",
   "version": "3.10.11"
  }
 },
 "nbformat": 4,
 "nbformat_minor": 5
}

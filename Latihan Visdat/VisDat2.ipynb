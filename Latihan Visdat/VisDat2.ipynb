{
 "cells": [
  {
   "attachments": {},
   "cell_type": "markdown",
   "id": "c88bed55",
   "metadata": {},
   "source": [
    "# Assignment  Visualisasi Data 2 Pada Dataset CIA World Factbook"
   ]
  },
  {
   "attachments": {},
   "cell_type": "markdown",
   "id": "7759fae3",
   "metadata": {},
   "source": [
    "**CIA World Factbook** adalah buku referensi yang diterbitkan oleh CIA yang memberikan informasi tentang negara-negara di dunia, termasuk data statistik, geografi, populasi, pemerintahan, dan informasi lainnya. Dataset ini berisi data dari berbagai negara di dunia dan mencakup beberapa variabel seperti GDP per kapita, tingkat harapan hidup, populasi, luas wilayah, anggaran militer, dan sebagainya."
   ]
  },
  {
   "attachments": {},
   "cell_type": "markdown",
   "id": "554a7553",
   "metadata": {},
   "source": [
    "## Baca Data"
   ]
  },
  {
   "cell_type": "code",
   "execution_count": 141,
   "metadata": {},
   "outputs": [],
   "source": [
    "import plotly.express as px\n",
    "import pandas as pd"
   ]
  },
  {
   "cell_type": "code",
   "execution_count": 142,
   "id": "4513d4b2",
   "metadata": {},
   "outputs": [
    {
     "data": {
      "text/html": [
       "<div>\n",
       "<style scoped>\n",
       "    .dataframe tbody tr th:only-of-type {\n",
       "        vertical-align: middle;\n",
       "    }\n",
       "\n",
       "    .dataframe tbody tr th {\n",
       "        vertical-align: top;\n",
       "    }\n",
       "\n",
       "    .dataframe thead th {\n",
       "        text-align: right;\n",
       "    }\n",
       "</style>\n",
       "<table border=\"1\" class=\"dataframe\">\n",
       "  <thead>\n",
       "    <tr style=\"text-align: right;\">\n",
       "      <th></th>\n",
       "      <th>country</th>\n",
       "      <th>code_2</th>\n",
       "      <th>code_3</th>\n",
       "      <th>country_code</th>\n",
       "      <th>iso_3166_2</th>\n",
       "      <th>continent</th>\n",
       "      <th>sub_region</th>\n",
       "      <th>region_code</th>\n",
       "      <th>sub_region_code</th>\n",
       "    </tr>\n",
       "  </thead>\n",
       "  <tbody>\n",
       "    <tr>\n",
       "      <th>0</th>\n",
       "      <td>Afghanistan</td>\n",
       "      <td>AF</td>\n",
       "      <td>AFG</td>\n",
       "      <td>4</td>\n",
       "      <td>ISO 3166-2:AF</td>\n",
       "      <td>Asia</td>\n",
       "      <td>Southern Asia</td>\n",
       "      <td>142.0</td>\n",
       "      <td>34.0</td>\n",
       "    </tr>\n",
       "    <tr>\n",
       "      <th>1</th>\n",
       "      <td>Åland Islands</td>\n",
       "      <td>AX</td>\n",
       "      <td>ALA</td>\n",
       "      <td>248</td>\n",
       "      <td>ISO 3166-2:AX</td>\n",
       "      <td>Europe</td>\n",
       "      <td>Northern Europe</td>\n",
       "      <td>150.0</td>\n",
       "      <td>154.0</td>\n",
       "    </tr>\n",
       "    <tr>\n",
       "      <th>2</th>\n",
       "      <td>Albania</td>\n",
       "      <td>AL</td>\n",
       "      <td>ALB</td>\n",
       "      <td>8</td>\n",
       "      <td>ISO 3166-2:AL</td>\n",
       "      <td>Europe</td>\n",
       "      <td>Southern Europe</td>\n",
       "      <td>150.0</td>\n",
       "      <td>39.0</td>\n",
       "    </tr>\n",
       "    <tr>\n",
       "      <th>3</th>\n",
       "      <td>Algeria</td>\n",
       "      <td>DZ</td>\n",
       "      <td>DZA</td>\n",
       "      <td>12</td>\n",
       "      <td>ISO 3166-2:DZ</td>\n",
       "      <td>Africa</td>\n",
       "      <td>Northern Africa</td>\n",
       "      <td>2.0</td>\n",
       "      <td>15.0</td>\n",
       "    </tr>\n",
       "    <tr>\n",
       "      <th>4</th>\n",
       "      <td>American Samoa</td>\n",
       "      <td>AS</td>\n",
       "      <td>ASM</td>\n",
       "      <td>16</td>\n",
       "      <td>ISO 3166-2:AS</td>\n",
       "      <td>Oceania</td>\n",
       "      <td>Polynesia</td>\n",
       "      <td>9.0</td>\n",
       "      <td>61.0</td>\n",
       "    </tr>\n",
       "    <tr>\n",
       "      <th>...</th>\n",
       "      <td>...</td>\n",
       "      <td>...</td>\n",
       "      <td>...</td>\n",
       "      <td>...</td>\n",
       "      <td>...</td>\n",
       "      <td>...</td>\n",
       "      <td>...</td>\n",
       "      <td>...</td>\n",
       "      <td>...</td>\n",
       "    </tr>\n",
       "    <tr>\n",
       "      <th>244</th>\n",
       "      <td>Wallis and Futuna</td>\n",
       "      <td>WF</td>\n",
       "      <td>WLF</td>\n",
       "      <td>876</td>\n",
       "      <td>ISO 3166-2:WF</td>\n",
       "      <td>Oceania</td>\n",
       "      <td>Polynesia</td>\n",
       "      <td>9.0</td>\n",
       "      <td>61.0</td>\n",
       "    </tr>\n",
       "    <tr>\n",
       "      <th>245</th>\n",
       "      <td>Western Sahara</td>\n",
       "      <td>EH</td>\n",
       "      <td>ESH</td>\n",
       "      <td>732</td>\n",
       "      <td>ISO 3166-2:EH</td>\n",
       "      <td>Africa</td>\n",
       "      <td>Northern Africa</td>\n",
       "      <td>2.0</td>\n",
       "      <td>15.0</td>\n",
       "    </tr>\n",
       "    <tr>\n",
       "      <th>246</th>\n",
       "      <td>Yemen</td>\n",
       "      <td>YE</td>\n",
       "      <td>YEM</td>\n",
       "      <td>887</td>\n",
       "      <td>ISO 3166-2:YE</td>\n",
       "      <td>Asia</td>\n",
       "      <td>Western Asia</td>\n",
       "      <td>142.0</td>\n",
       "      <td>145.0</td>\n",
       "    </tr>\n",
       "    <tr>\n",
       "      <th>247</th>\n",
       "      <td>Zambia</td>\n",
       "      <td>ZM</td>\n",
       "      <td>ZMB</td>\n",
       "      <td>894</td>\n",
       "      <td>ISO 3166-2:ZM</td>\n",
       "      <td>Africa</td>\n",
       "      <td>Eastern Africa</td>\n",
       "      <td>2.0</td>\n",
       "      <td>14.0</td>\n",
       "    </tr>\n",
       "    <tr>\n",
       "      <th>248</th>\n",
       "      <td>Zimbabwe</td>\n",
       "      <td>ZW</td>\n",
       "      <td>ZWE</td>\n",
       "      <td>716</td>\n",
       "      <td>ISO 3166-2:ZW</td>\n",
       "      <td>Africa</td>\n",
       "      <td>Eastern Africa</td>\n",
       "      <td>2.0</td>\n",
       "      <td>14.0</td>\n",
       "    </tr>\n",
       "  </tbody>\n",
       "</table>\n",
       "<p>249 rows × 9 columns</p>\n",
       "</div>"
      ],
      "text/plain": [
       "               country code_2 code_3  country_code     iso_3166_2 continent  \\\n",
       "0          Afghanistan     AF    AFG             4  ISO 3166-2:AF      Asia   \n",
       "1        Åland Islands     AX    ALA           248  ISO 3166-2:AX    Europe   \n",
       "2              Albania     AL    ALB             8  ISO 3166-2:AL    Europe   \n",
       "3              Algeria     DZ    DZA            12  ISO 3166-2:DZ    Africa   \n",
       "4       American Samoa     AS    ASM            16  ISO 3166-2:AS   Oceania   \n",
       "..                 ...    ...    ...           ...            ...       ...   \n",
       "244  Wallis and Futuna     WF    WLF           876  ISO 3166-2:WF   Oceania   \n",
       "245     Western Sahara     EH    ESH           732  ISO 3166-2:EH    Africa   \n",
       "246              Yemen     YE    YEM           887  ISO 3166-2:YE      Asia   \n",
       "247             Zambia     ZM    ZMB           894  ISO 3166-2:ZM    Africa   \n",
       "248           Zimbabwe     ZW    ZWE           716  ISO 3166-2:ZW    Africa   \n",
       "\n",
       "          sub_region  region_code  sub_region_code  \n",
       "0      Southern Asia        142.0             34.0  \n",
       "1    Northern Europe        150.0            154.0  \n",
       "2    Southern Europe        150.0             39.0  \n",
       "3    Northern Africa          2.0             15.0  \n",
       "4          Polynesia          9.0             61.0  \n",
       "..               ...          ...              ...  \n",
       "244        Polynesia          9.0             61.0  \n",
       "245  Northern Africa          2.0             15.0  \n",
       "246     Western Asia        142.0            145.0  \n",
       "247   Eastern Africa          2.0             14.0  \n",
       "248   Eastern Africa          2.0             14.0  \n",
       "\n",
       "[249 rows x 9 columns]"
      ]
     },
     "execution_count": 142,
     "metadata": {},
     "output_type": "execute_result"
    }
   ],
   "source": [
    "df = pd.read_csv('countryContinent.csv', encoding='ISO-8859-1')\n",
    "df"
   ]
  },
  {
   "cell_type": "code",
   "execution_count": 143,
   "id": "8647e4a4",
   "metadata": {},
   "outputs": [],
   "source": [
    "df.drop(columns=['code_2', 'code_3', 'country_code', 'iso_3166_2', 'sub_region', 'region_code', 'sub_region_code'], inplace=True)"
   ]
  },
  {
   "cell_type": "code",
   "execution_count": 144,
   "id": "383360f9",
   "metadata": {},
   "outputs": [
    {
     "data": {
      "text/html": [
       "<div>\n",
       "<style scoped>\n",
       "    .dataframe tbody tr th:only-of-type {\n",
       "        vertical-align: middle;\n",
       "    }\n",
       "\n",
       "    .dataframe tbody tr th {\n",
       "        vertical-align: top;\n",
       "    }\n",
       "\n",
       "    .dataframe thead th {\n",
       "        text-align: right;\n",
       "    }\n",
       "</style>\n",
       "<table border=\"1\" class=\"dataframe\">\n",
       "  <thead>\n",
       "    <tr style=\"text-align: right;\">\n",
       "      <th></th>\n",
       "      <th>Country</th>\n",
       "      <th>continent</th>\n",
       "    </tr>\n",
       "  </thead>\n",
       "  <tbody>\n",
       "    <tr>\n",
       "      <th>0</th>\n",
       "      <td>Afghanistan</td>\n",
       "      <td>Asia</td>\n",
       "    </tr>\n",
       "    <tr>\n",
       "      <th>1</th>\n",
       "      <td>Åland Islands</td>\n",
       "      <td>Europe</td>\n",
       "    </tr>\n",
       "    <tr>\n",
       "      <th>2</th>\n",
       "      <td>Albania</td>\n",
       "      <td>Europe</td>\n",
       "    </tr>\n",
       "    <tr>\n",
       "      <th>3</th>\n",
       "      <td>Algeria</td>\n",
       "      <td>Africa</td>\n",
       "    </tr>\n",
       "    <tr>\n",
       "      <th>4</th>\n",
       "      <td>American Samoa</td>\n",
       "      <td>Oceania</td>\n",
       "    </tr>\n",
       "    <tr>\n",
       "      <th>...</th>\n",
       "      <td>...</td>\n",
       "      <td>...</td>\n",
       "    </tr>\n",
       "    <tr>\n",
       "      <th>244</th>\n",
       "      <td>Wallis and Futuna</td>\n",
       "      <td>Oceania</td>\n",
       "    </tr>\n",
       "    <tr>\n",
       "      <th>245</th>\n",
       "      <td>Western Sahara</td>\n",
       "      <td>Africa</td>\n",
       "    </tr>\n",
       "    <tr>\n",
       "      <th>246</th>\n",
       "      <td>Yemen</td>\n",
       "      <td>Asia</td>\n",
       "    </tr>\n",
       "    <tr>\n",
       "      <th>247</th>\n",
       "      <td>Zambia</td>\n",
       "      <td>Africa</td>\n",
       "    </tr>\n",
       "    <tr>\n",
       "      <th>248</th>\n",
       "      <td>Zimbabwe</td>\n",
       "      <td>Africa</td>\n",
       "    </tr>\n",
       "  </tbody>\n",
       "</table>\n",
       "<p>249 rows × 2 columns</p>\n",
       "</div>"
      ],
      "text/plain": [
       "               Country continent\n",
       "0          Afghanistan      Asia\n",
       "1        Åland Islands    Europe\n",
       "2              Albania    Europe\n",
       "3              Algeria    Africa\n",
       "4       American Samoa   Oceania\n",
       "..                 ...       ...\n",
       "244  Wallis and Futuna   Oceania\n",
       "245     Western Sahara    Africa\n",
       "246              Yemen      Asia\n",
       "247             Zambia    Africa\n",
       "248           Zimbabwe    Africa\n",
       "\n",
       "[249 rows x 2 columns]"
      ]
     },
     "execution_count": 144,
     "metadata": {},
     "output_type": "execute_result"
    }
   ],
   "source": [
    "df = df.rename(columns={'country': 'Country'})\n",
    "df"
   ]
  },
  {
   "cell_type": "code",
   "execution_count": 145,
   "id": "8db8d98e",
   "metadata": {},
   "outputs": [
    {
     "data": {
      "text/html": [
       "<div>\n",
       "<style scoped>\n",
       "    .dataframe tbody tr th:only-of-type {\n",
       "        vertical-align: middle;\n",
       "    }\n",
       "\n",
       "    .dataframe tbody tr th {\n",
       "        vertical-align: top;\n",
       "    }\n",
       "\n",
       "    .dataframe thead th {\n",
       "        text-align: right;\n",
       "    }\n",
       "</style>\n",
       "<table border=\"1\" class=\"dataframe\">\n",
       "  <thead>\n",
       "    <tr style=\"text-align: right;\">\n",
       "      <th></th>\n",
       "      <th>Country</th>\n",
       "      <th>Area</th>\n",
       "      <th>Birth rate</th>\n",
       "      <th>Current account balance</th>\n",
       "      <th>Death rate</th>\n",
       "      <th>Electricity consumption</th>\n",
       "      <th>Electricity production</th>\n",
       "      <th>Exports</th>\n",
       "      <th>GDP</th>\n",
       "      <th>GDP per capita</th>\n",
       "      <th>...</th>\n",
       "      <th>Life expectancy at birth</th>\n",
       "      <th>Military expenditures</th>\n",
       "      <th>Natural gas consumption</th>\n",
       "      <th>Oil consumption</th>\n",
       "      <th>Population</th>\n",
       "      <th>Public debt</th>\n",
       "      <th>Railways</th>\n",
       "      <th>Reserves of foreign exchange &amp; gold</th>\n",
       "      <th>Total fertility rate</th>\n",
       "      <th>Unemployment rate</th>\n",
       "    </tr>\n",
       "  </thead>\n",
       "  <tbody>\n",
       "    <tr>\n",
       "      <th>0</th>\n",
       "      <td>Japan</td>\n",
       "      <td>377,835</td>\n",
       "      <td>9.47</td>\n",
       "      <td>$170,200,000,000.00</td>\n",
       "      <td>8.95</td>\n",
       "      <td>971,000,000,000</td>\n",
       "      <td>1,044,000,000,000.00</td>\n",
       "      <td>$538,800,000,000.00</td>\n",
       "      <td>$3,745,000,000,000.00</td>\n",
       "      <td>$29,400.00</td>\n",
       "      <td>...</td>\n",
       "      <td>81.15</td>\n",
       "      <td>1.00</td>\n",
       "      <td>80,420,000,000.00</td>\n",
       "      <td>5,290,000</td>\n",
       "      <td>127,417,244</td>\n",
       "      <td>164.3</td>\n",
       "      <td>23705</td>\n",
       "      <td>664,600,000,000.00</td>\n",
       "      <td>1.39</td>\n",
       "      <td>4.7</td>\n",
       "    </tr>\n",
       "    <tr>\n",
       "      <th>1</th>\n",
       "      <td>Germany</td>\n",
       "      <td>357,021</td>\n",
       "      <td>8.33</td>\n",
       "      <td>$73,590,000,000.00</td>\n",
       "      <td>10.55</td>\n",
       "      <td>519,500,000,000</td>\n",
       "      <td>560,000,000,000.00</td>\n",
       "      <td>$893,300,000,000.00</td>\n",
       "      <td>$2,362,000,000,000.00</td>\n",
       "      <td>$28,700.00</td>\n",
       "      <td>...</td>\n",
       "      <td>78.65</td>\n",
       "      <td>1.50</td>\n",
       "      <td>99,550,000,000.00</td>\n",
       "      <td>2,891,000</td>\n",
       "      <td>82,431,390</td>\n",
       "      <td>65.8</td>\n",
       "      <td>46039</td>\n",
       "      <td>96,840,000,000.00</td>\n",
       "      <td>1.39</td>\n",
       "      <td>10.6</td>\n",
       "    </tr>\n",
       "    <tr>\n",
       "      <th>2</th>\n",
       "      <td>Saudi Arabia</td>\n",
       "      <td>1,960,582</td>\n",
       "      <td>29.56</td>\n",
       "      <td>$51,500,000,000.00</td>\n",
       "      <td>2.62</td>\n",
       "      <td>128,500,000,000</td>\n",
       "      <td>138,200,000,000.00</td>\n",
       "      <td>$113,000,000,000.00</td>\n",
       "      <td>$310,200,000,000.00</td>\n",
       "      <td>$12,000.00</td>\n",
       "      <td>...</td>\n",
       "      <td>75.46</td>\n",
       "      <td>10.00</td>\n",
       "      <td>56,400,000,000.00</td>\n",
       "      <td>1,550,000</td>\n",
       "      <td>26,417,599</td>\n",
       "      <td>75</td>\n",
       "      <td>1392</td>\n",
       "      <td>23,620,000,000.00</td>\n",
       "      <td>4.05</td>\n",
       "      <td>25</td>\n",
       "    </tr>\n",
       "    <tr>\n",
       "      <th>3</th>\n",
       "      <td>Russia</td>\n",
       "      <td>17,075,200</td>\n",
       "      <td>9.80</td>\n",
       "      <td>$46,040,000,000.00</td>\n",
       "      <td>14.52</td>\n",
       "      <td>894,300,000,000</td>\n",
       "      <td>915,000,000,000.00</td>\n",
       "      <td>$162,500,000,000.00</td>\n",
       "      <td>$1,408,000,000,000.00</td>\n",
       "      <td>$9,800.00</td>\n",
       "      <td>...</td>\n",
       "      <td>67.10</td>\n",
       "      <td></td>\n",
       "      <td>405,800,000,000.00</td>\n",
       "      <td>2,310,000</td>\n",
       "      <td>143,420,309</td>\n",
       "      <td>28.2</td>\n",
       "      <td>87157</td>\n",
       "      <td>124,500,000,000.00</td>\n",
       "      <td>1.27</td>\n",
       "      <td>8.3</td>\n",
       "    </tr>\n",
       "    <tr>\n",
       "      <th>4</th>\n",
       "      <td>Switzerland</td>\n",
       "      <td>41,290</td>\n",
       "      <td>9.77</td>\n",
       "      <td>$40,950,000,000.00</td>\n",
       "      <td>8.48</td>\n",
       "      <td>54,530,000,000</td>\n",
       "      <td>63,470,000,000.00</td>\n",
       "      <td>$130,700,000,000.00</td>\n",
       "      <td>$251,900,000,000.00</td>\n",
       "      <td>$33,800.00</td>\n",
       "      <td>...</td>\n",
       "      <td>80.39</td>\n",
       "      <td>1.00</td>\n",
       "      <td>3,093,000,000.00</td>\n",
       "      <td>290,400</td>\n",
       "      <td>7,489,370</td>\n",
       "      <td>57.2</td>\n",
       "      <td>4533</td>\n",
       "      <td>69,580,000,000.00</td>\n",
       "      <td>1.42</td>\n",
       "      <td>3.4</td>\n",
       "    </tr>\n",
       "    <tr>\n",
       "      <th>...</th>\n",
       "      <td>...</td>\n",
       "      <td>...</td>\n",
       "      <td>...</td>\n",
       "      <td>...</td>\n",
       "      <td>...</td>\n",
       "      <td>...</td>\n",
       "      <td>...</td>\n",
       "      <td>...</td>\n",
       "      <td>...</td>\n",
       "      <td>...</td>\n",
       "      <td>...</td>\n",
       "      <td>...</td>\n",
       "      <td>...</td>\n",
       "      <td>...</td>\n",
       "      <td>...</td>\n",
       "      <td>...</td>\n",
       "      <td>...</td>\n",
       "      <td>...</td>\n",
       "      <td>...</td>\n",
       "      <td>...</td>\n",
       "      <td>...</td>\n",
       "    </tr>\n",
       "    <tr>\n",
       "      <th>144</th>\n",
       "      <td>Italy</td>\n",
       "      <td>301,230</td>\n",
       "      <td>8.89</td>\n",
       "      <td>$(21,100,000,000.00)</td>\n",
       "      <td>10.30</td>\n",
       "      <td>293,900,000,000</td>\n",
       "      <td>261,600,000,000.00</td>\n",
       "      <td>$336,400,000,000.00</td>\n",
       "      <td>$1,609,000,000,000.00</td>\n",
       "      <td>$27,700.00</td>\n",
       "      <td>...</td>\n",
       "      <td>79.68</td>\n",
       "      <td>1.80</td>\n",
       "      <td>71,180,000,000.00</td>\n",
       "      <td>1,866,000</td>\n",
       "      <td>58,103,033</td>\n",
       "      <td>105.6</td>\n",
       "      <td>19507</td>\n",
       "      <td>61,500,000,000.00</td>\n",
       "      <td>1.28</td>\n",
       "      <td>8.6</td>\n",
       "    </tr>\n",
       "    <tr>\n",
       "      <th>145</th>\n",
       "      <td>Spain</td>\n",
       "      <td>504,782</td>\n",
       "      <td>10.10</td>\n",
       "      <td>$(30,890,000,000.00)</td>\n",
       "      <td>9.63</td>\n",
       "      <td>218,400,000,000</td>\n",
       "      <td>229,000,000,000.00</td>\n",
       "      <td>$172,500,000,000.00</td>\n",
       "      <td>$937,600,000,000.00</td>\n",
       "      <td>$23,300.00</td>\n",
       "      <td>...</td>\n",
       "      <td>79.52</td>\n",
       "      <td>1.20</td>\n",
       "      <td>17,960,000,000.00</td>\n",
       "      <td>1,497,000</td>\n",
       "      <td>40,341,462</td>\n",
       "      <td>53.2</td>\n",
       "      <td>14268</td>\n",
       "      <td>19,700,000,000.00</td>\n",
       "      <td>1.28</td>\n",
       "      <td>10.4</td>\n",
       "    </tr>\n",
       "    <tr>\n",
       "      <th>146</th>\n",
       "      <td>United Kingdom</td>\n",
       "      <td>244,820</td>\n",
       "      <td>10.78</td>\n",
       "      <td>$(33,460,000,000.00)</td>\n",
       "      <td>10.18</td>\n",
       "      <td>337,400,000,000</td>\n",
       "      <td>395,900,000,000.00</td>\n",
       "      <td>$347,200,000,000.00</td>\n",
       "      <td>$1,782,000,000,000.00</td>\n",
       "      <td>$29,600.00</td>\n",
       "      <td>...</td>\n",
       "      <td>78.38</td>\n",
       "      <td>2.40</td>\n",
       "      <td>92,850,000,000.00</td>\n",
       "      <td>1,692,000</td>\n",
       "      <td>60,441,457</td>\n",
       "      <td>39.6</td>\n",
       "      <td>17186</td>\n",
       "      <td>48,730,000,000.00</td>\n",
       "      <td>1.66</td>\n",
       "      <td>4.8</td>\n",
       "    </tr>\n",
       "    <tr>\n",
       "      <th>147</th>\n",
       "      <td>Australia</td>\n",
       "      <td>7,686,850</td>\n",
       "      <td>12.26</td>\n",
       "      <td>$(38,300,000,000.00)</td>\n",
       "      <td>7.44</td>\n",
       "      <td>195,600,000,000</td>\n",
       "      <td>210,300,000,000.00</td>\n",
       "      <td>$86,890,000,000.00</td>\n",
       "      <td>$611,700,000,000.00</td>\n",
       "      <td>$30,700.00</td>\n",
       "      <td>...</td>\n",
       "      <td>80.39</td>\n",
       "      <td>2.70</td>\n",
       "      <td>23,330,000,000.00</td>\n",
       "      <td>796,500</td>\n",
       "      <td>20,090,437</td>\n",
       "      <td>17.4</td>\n",
       "      <td>43802</td>\n",
       "      <td>35,140,000,000.00</td>\n",
       "      <td>1.76</td>\n",
       "      <td>5.1</td>\n",
       "    </tr>\n",
       "    <tr>\n",
       "      <th>148</th>\n",
       "      <td>United States</td>\n",
       "      <td>9,631,418</td>\n",
       "      <td>14.14</td>\n",
       "      <td>$(646,500,000,000.00)</td>\n",
       "      <td>8.25</td>\n",
       "      <td>3,660,000,000,000</td>\n",
       "      <td>3,839,000,000,000.00</td>\n",
       "      <td>$795,000,000,000.00</td>\n",
       "      <td>$11,750,000,000,000.00</td>\n",
       "      <td>$40,100.00</td>\n",
       "      <td>...</td>\n",
       "      <td>77.71</td>\n",
       "      <td>3.30</td>\n",
       "      <td>640,900,000,000.00</td>\n",
       "      <td>19,650,000</td>\n",
       "      <td>295,734,134</td>\n",
       "      <td>65</td>\n",
       "      <td>228464</td>\n",
       "      <td>85,940,000,000.00</td>\n",
       "      <td>2.08</td>\n",
       "      <td>5.5</td>\n",
       "    </tr>\n",
       "  </tbody>\n",
       "</table>\n",
       "<p>149 rows × 29 columns</p>\n",
       "</div>"
      ],
      "text/plain": [
       "            Country        Area   Birth rate   Current account balance   \\\n",
       "0             Japan     377,835         9.47       $170,200,000,000.00    \n",
       "1           Germany     357,021         8.33        $73,590,000,000.00    \n",
       "2      Saudi Arabia   1,960,582        29.56        $51,500,000,000.00    \n",
       "3            Russia  17,075,200         9.80        $46,040,000,000.00    \n",
       "4       Switzerland      41,290         9.77        $40,950,000,000.00    \n",
       "..              ...         ...          ...                        ...   \n",
       "144           Italy     301,230         8.89       $(21,100,000,000.00)   \n",
       "145           Spain     504,782        10.10       $(30,890,000,000.00)   \n",
       "146  United Kingdom     244,820        10.78       $(33,460,000,000.00)   \n",
       "147       Australia   7,686,850        12.26       $(38,300,000,000.00)   \n",
       "148   United States   9,631,418        14.14      $(646,500,000,000.00)   \n",
       "\n",
       "      Death rate  Electricity consumption   Electricity production   \\\n",
       "0           8.95          971,000,000,000     1,044,000,000,000.00    \n",
       "1          10.55          519,500,000,000       560,000,000,000.00    \n",
       "2           2.62          128,500,000,000       138,200,000,000.00    \n",
       "3          14.52          894,300,000,000       915,000,000,000.00    \n",
       "4           8.48           54,530,000,000        63,470,000,000.00    \n",
       "..           ...                      ...                       ...   \n",
       "144        10.30          293,900,000,000       261,600,000,000.00    \n",
       "145         9.63          218,400,000,000       229,000,000,000.00    \n",
       "146        10.18          337,400,000,000       395,900,000,000.00    \n",
       "147         7.44          195,600,000,000       210,300,000,000.00    \n",
       "148         8.25        3,660,000,000,000     3,839,000,000,000.00    \n",
       "\n",
       "                  Exports                       GDP    GDP per capita   ...  \\\n",
       "0     $538,800,000,000.00     $3,745,000,000,000.00        $29,400.00   ...   \n",
       "1     $893,300,000,000.00     $2,362,000,000,000.00        $28,700.00   ...   \n",
       "2     $113,000,000,000.00       $310,200,000,000.00        $12,000.00   ...   \n",
       "3     $162,500,000,000.00     $1,408,000,000,000.00         $9,800.00   ...   \n",
       "4     $130,700,000,000.00       $251,900,000,000.00        $33,800.00   ...   \n",
       "..                     ...                       ...               ...  ...   \n",
       "144   $336,400,000,000.00     $1,609,000,000,000.00        $27,700.00   ...   \n",
       "145   $172,500,000,000.00       $937,600,000,000.00        $23,300.00   ...   \n",
       "146   $347,200,000,000.00     $1,782,000,000,000.00        $29,600.00   ...   \n",
       "147    $86,890,000,000.00       $611,700,000,000.00        $30,700.00   ...   \n",
       "148   $795,000,000,000.00    $11,750,000,000,000.00        $40,100.00   ...   \n",
       "\n",
       "      Life expectancy at birth  Military expenditures  \\\n",
       "0                        81.15                   1.00   \n",
       "1                        78.65                   1.50   \n",
       "2                        75.46                  10.00   \n",
       "3                        67.10                          \n",
       "4                        80.39                   1.00   \n",
       "..                         ...                    ...   \n",
       "144                      79.68                   1.80   \n",
       "145                      79.52                   1.20   \n",
       "146                      78.38                   2.40   \n",
       "147                      80.39                   2.70   \n",
       "148                      77.71                   3.30   \n",
       "\n",
       "      Natural gas consumption    Oil consumption     Population   \\\n",
       "0           80,420,000,000.00          5,290,000    127,417,244    \n",
       "1           99,550,000,000.00          2,891,000     82,431,390    \n",
       "2           56,400,000,000.00          1,550,000     26,417,599    \n",
       "3          405,800,000,000.00          2,310,000    143,420,309    \n",
       "4            3,093,000,000.00            290,400      7,489,370    \n",
       "..                         ...                ...            ...   \n",
       "144         71,180,000,000.00          1,866,000     58,103,033    \n",
       "145         17,960,000,000.00          1,497,000     40,341,462    \n",
       "146         92,850,000,000.00          1,692,000     60,441,457    \n",
       "147         23,330,000,000.00            796,500     20,090,437    \n",
       "148        640,900,000,000.00         19,650,000    295,734,134    \n",
       "\n",
       "      Public debt  Railways   Reserves of foreign exchange & gold   \\\n",
       "0           164.3     23705                    664,600,000,000.00    \n",
       "1            65.8     46039                     96,840,000,000.00    \n",
       "2              75      1392                     23,620,000,000.00    \n",
       "3            28.2     87157                    124,500,000,000.00    \n",
       "4            57.2      4533                     69,580,000,000.00    \n",
       "..            ...       ...                                    ...   \n",
       "144         105.6     19507                     61,500,000,000.00    \n",
       "145          53.2     14268                     19,700,000,000.00    \n",
       "146          39.6     17186                     48,730,000,000.00    \n",
       "147          17.4     43802                     35,140,000,000.00    \n",
       "148            65    228464                     85,940,000,000.00    \n",
       "\n",
       "     Total fertility rate   Unemployment rate  \n",
       "0                    1.39                 4.7  \n",
       "1                    1.39                10.6  \n",
       "2                    4.05                  25  \n",
       "3                    1.27                 8.3  \n",
       "4                    1.42                 3.4  \n",
       "..                    ...                 ...  \n",
       "144                  1.28                 8.6  \n",
       "145                  1.28                10.4  \n",
       "146                  1.66                 4.8  \n",
       "147                  1.76                 5.1  \n",
       "148                  2.08                 5.5  \n",
       "\n",
       "[149 rows x 29 columns]"
      ]
     },
     "execution_count": 145,
     "metadata": {},
     "output_type": "execute_result"
    }
   ],
   "source": [
    "# load data\n",
    "CIA = pd.read_csv('https://www.cs.purdue.edu/CS49000-VIZ/projects/data/project2/factbook.csv')\n",
    "CIA\n"
   ]
  },
  {
   "cell_type": "code",
   "execution_count": 146,
   "id": "2cf730db",
   "metadata": {},
   "outputs": [],
   "source": [
    "df = CIA.merge(df, how='inner', on='Country')"
   ]
  },
  {
   "cell_type": "code",
   "execution_count": 147,
   "id": "d1dcf6ff",
   "metadata": {},
   "outputs": [
    {
     "data": {
      "text/plain": [
       "Index(['Country', ' Area', ' Birth rate', '  Current account balance ',\n",
       "       ' Death rate', ' Electricity consumption', '  Electricity production ',\n",
       "       '  Exports ', '  GDP ', '  GDP per capita ', ' GDP real growth rate',\n",
       "       '  Highways ', '  Imports ', ' Industrial production growth rate',\n",
       "       ' Infant mortality rate', ' Inflation rate ', '  Internet users ',\n",
       "       ' Investment', '  Labor force ', ' Life expectancy at birth',\n",
       "       ' Military expenditures', '  Natural gas consumption ',\n",
       "       '  Oil consumption ', '  Population ', ' Public debt', ' Railways',\n",
       "       '  Reserves of foreign exchange & gold ', ' Total fertility rate',\n",
       "       ' Unemployment rate', 'continent'],\n",
       "      dtype='object')"
      ]
     },
     "execution_count": 147,
     "metadata": {},
     "output_type": "execute_result"
    }
   ],
   "source": [
    "df.columns"
   ]
  },
  {
   "attachments": {},
   "cell_type": "markdown",
   "id": "f11718c8",
   "metadata": {},
   "source": [
    "## Pre-Processing"
   ]
  },
  {
   "cell_type": "code",
   "execution_count": 148,
   "id": "598f6710",
   "metadata": {},
   "outputs": [],
   "source": [
    "import numpy as np\n",
    "\n",
    "# Replace any empty strings or spaces with NaN\n",
    "df.replace('', np.nan, inplace=True)\n",
    "df.replace(' ', np.nan, inplace=True)"
   ]
  },
  {
   "cell_type": "code",
   "execution_count": 149,
   "id": "5acb2c5a",
   "metadata": {},
   "outputs": [
    {
     "data": {
      "text/plain": [
       "Country                                    0\n",
       " Area                                      0\n",
       " Birth rate                                0\n",
       "  Current account balance                  0\n",
       " Death rate                                0\n",
       " Electricity consumption                   0\n",
       "  Electricity production                   0\n",
       "  Exports                                  0\n",
       "  GDP                                      0\n",
       "  GDP per capita                           0\n",
       " GDP real growth rate                      0\n",
       "  Highways                                 0\n",
       "  Imports                                  0\n",
       " Industrial production growth rate        12\n",
       " Infant mortality rate                     0\n",
       " Inflation rate                            0\n",
       "  Internet users                           0\n",
       " Investment                                4\n",
       "  Labor force                              0\n",
       " Life expectancy at birth                  0\n",
       " Military expenditures                     3\n",
       "  Natural gas consumption                  0\n",
       "  Oil consumption                          0\n",
       "  Population                               0\n",
       " Public debt                              35\n",
       " Railways                                 24\n",
       "  Reserves of foreign exchange & gold      0\n",
       " Total fertility rate                      0\n",
       " Unemployment rate                        19\n",
       "continent                                  0\n",
       "dtype: int64"
      ]
     },
     "execution_count": 149,
     "metadata": {},
     "output_type": "execute_result"
    }
   ],
   "source": [
    "df.isnull().sum()"
   ]
  },
  {
   "cell_type": "code",
   "execution_count": 150,
   "id": "8ac9351d",
   "metadata": {},
   "outputs": [
    {
     "data": {
      "text/html": [
       "<div>\n",
       "<style scoped>\n",
       "    .dataframe tbody tr th:only-of-type {\n",
       "        vertical-align: middle;\n",
       "    }\n",
       "\n",
       "    .dataframe tbody tr th {\n",
       "        vertical-align: top;\n",
       "    }\n",
       "\n",
       "    .dataframe thead th {\n",
       "        text-align: right;\n",
       "    }\n",
       "</style>\n",
       "<table border=\"1\" class=\"dataframe\">\n",
       "  <thead>\n",
       "    <tr style=\"text-align: right;\">\n",
       "      <th></th>\n",
       "      <th>count</th>\n",
       "      <th>mean</th>\n",
       "      <th>std</th>\n",
       "      <th>min</th>\n",
       "      <th>25%</th>\n",
       "      <th>50%</th>\n",
       "      <th>75%</th>\n",
       "      <th>max</th>\n",
       "    </tr>\n",
       "  </thead>\n",
       "  <tbody>\n",
       "    <tr>\n",
       "      <th>Birth rate</th>\n",
       "      <td>129.0</td>\n",
       "      <td>22.008140</td>\n",
       "      <td>11.176338</td>\n",
       "      <td>7.23</td>\n",
       "      <td>11.76</td>\n",
       "      <td>18.88</td>\n",
       "      <td>29.95</td>\n",
       "      <td>47.39</td>\n",
       "    </tr>\n",
       "    <tr>\n",
       "      <th>Death rate</th>\n",
       "      <td>129.0</td>\n",
       "      <td>9.874109</td>\n",
       "      <td>5.280599</td>\n",
       "      <td>2.42</td>\n",
       "      <td>6.25</td>\n",
       "      <td>8.53</td>\n",
       "      <td>11.72</td>\n",
       "      <td>29.36</td>\n",
       "    </tr>\n",
       "    <tr>\n",
       "      <th>GDP real growth rate</th>\n",
       "      <td>129.0</td>\n",
       "      <td>5.343411</td>\n",
       "      <td>5.963350</td>\n",
       "      <td>-8.20</td>\n",
       "      <td>2.90</td>\n",
       "      <td>4.80</td>\n",
       "      <td>6.00</td>\n",
       "      <td>52.30</td>\n",
       "    </tr>\n",
       "    <tr>\n",
       "      <th>Infant mortality rate</th>\n",
       "      <td>129.0</td>\n",
       "      <td>35.674729</td>\n",
       "      <td>33.398660</td>\n",
       "      <td>2.29</td>\n",
       "      <td>8.51</td>\n",
       "      <td>24.18</td>\n",
       "      <td>61.47</td>\n",
       "      <td>191.19</td>\n",
       "    </tr>\n",
       "    <tr>\n",
       "      <th>Inflation rate</th>\n",
       "      <td>129.0</td>\n",
       "      <td>6.966667</td>\n",
       "      <td>13.265559</td>\n",
       "      <td>-0.30</td>\n",
       "      <td>2.30</td>\n",
       "      <td>4.00</td>\n",
       "      <td>7.50</td>\n",
       "      <td>133.00</td>\n",
       "    </tr>\n",
       "    <tr>\n",
       "      <th>Life expectancy at birth</th>\n",
       "      <td>129.0</td>\n",
       "      <td>67.075271</td>\n",
       "      <td>12.597677</td>\n",
       "      <td>33.87</td>\n",
       "      <td>61.75</td>\n",
       "      <td>71.72</td>\n",
       "      <td>76.29</td>\n",
       "      <td>81.62</td>\n",
       "    </tr>\n",
       "    <tr>\n",
       "      <th>Total fertility rate</th>\n",
       "      <td>129.0</td>\n",
       "      <td>2.909380</td>\n",
       "      <td>1.549454</td>\n",
       "      <td>0.91</td>\n",
       "      <td>1.72</td>\n",
       "      <td>2.45</td>\n",
       "      <td>3.93</td>\n",
       "      <td>6.74</td>\n",
       "    </tr>\n",
       "  </tbody>\n",
       "</table>\n",
       "</div>"
      ],
      "text/plain": [
       "                           count       mean        std    min    25%    50%  \\\n",
       " Birth rate                129.0  22.008140  11.176338   7.23  11.76  18.88   \n",
       " Death rate                129.0   9.874109   5.280599   2.42   6.25   8.53   \n",
       " GDP real growth rate      129.0   5.343411   5.963350  -8.20   2.90   4.80   \n",
       " Infant mortality rate     129.0  35.674729  33.398660   2.29   8.51  24.18   \n",
       " Inflation rate            129.0   6.966667  13.265559  -0.30   2.30   4.00   \n",
       " Life expectancy at birth  129.0  67.075271  12.597677  33.87  61.75  71.72   \n",
       " Total fertility rate      129.0   2.909380   1.549454   0.91   1.72   2.45   \n",
       "\n",
       "                             75%     max  \n",
       " Birth rate                29.95   47.39  \n",
       " Death rate                11.72   29.36  \n",
       " GDP real growth rate       6.00   52.30  \n",
       " Infant mortality rate     61.47  191.19  \n",
       " Inflation rate             7.50  133.00  \n",
       " Life expectancy at birth  76.29   81.62  \n",
       " Total fertility rate       3.93    6.74  "
      ]
     },
     "execution_count": 150,
     "metadata": {},
     "output_type": "execute_result"
    }
   ],
   "source": [
    "df.describe().T"
   ]
  },
  {
   "cell_type": "code",
   "execution_count": 151,
   "id": "e0492c74",
   "metadata": {},
   "outputs": [
    {
     "data": {
      "text/html": [
       "<div>\n",
       "<style scoped>\n",
       "    .dataframe tbody tr th:only-of-type {\n",
       "        vertical-align: middle;\n",
       "    }\n",
       "\n",
       "    .dataframe tbody tr th {\n",
       "        vertical-align: top;\n",
       "    }\n",
       "\n",
       "    .dataframe thead th {\n",
       "        text-align: right;\n",
       "    }\n",
       "</style>\n",
       "<table border=\"1\" class=\"dataframe\">\n",
       "  <thead>\n",
       "    <tr style=\"text-align: right;\">\n",
       "      <th></th>\n",
       "      <th>count</th>\n",
       "      <th>unique</th>\n",
       "      <th>top</th>\n",
       "      <th>freq</th>\n",
       "    </tr>\n",
       "  </thead>\n",
       "  <tbody>\n",
       "    <tr>\n",
       "      <th>Country</th>\n",
       "      <td>129</td>\n",
       "      <td>129</td>\n",
       "      <td>Japan</td>\n",
       "      <td>1</td>\n",
       "    </tr>\n",
       "    <tr>\n",
       "      <th>Area</th>\n",
       "      <td>129</td>\n",
       "      <td>129</td>\n",
       "      <td>377,835</td>\n",
       "      <td>1</td>\n",
       "    </tr>\n",
       "    <tr>\n",
       "      <th>Current account balance</th>\n",
       "      <td>129</td>\n",
       "      <td>129</td>\n",
       "      <td>$170,200,000,000.00</td>\n",
       "      <td>1</td>\n",
       "    </tr>\n",
       "    <tr>\n",
       "      <th>Electricity consumption</th>\n",
       "      <td>129</td>\n",
       "      <td>128</td>\n",
       "      <td>75,580,000,000</td>\n",
       "      <td>2</td>\n",
       "    </tr>\n",
       "    <tr>\n",
       "      <th>Electricity production</th>\n",
       "      <td>129</td>\n",
       "      <td>127</td>\n",
       "      <td>81,270,000,000.00</td>\n",
       "      <td>2</td>\n",
       "    </tr>\n",
       "    <tr>\n",
       "      <th>Exports</th>\n",
       "      <td>129</td>\n",
       "      <td>128</td>\n",
       "      <td>$15,500,000,000.00</td>\n",
       "      <td>2</td>\n",
       "    </tr>\n",
       "    <tr>\n",
       "      <th>GDP</th>\n",
       "      <td>129</td>\n",
       "      <td>129</td>\n",
       "      <td>$3,745,000,000,000.00</td>\n",
       "      <td>1</td>\n",
       "    </tr>\n",
       "    <tr>\n",
       "      <th>GDP per capita</th>\n",
       "      <td>129</td>\n",
       "      <td>92</td>\n",
       "      <td>$1,200.00</td>\n",
       "      <td>4</td>\n",
       "    </tr>\n",
       "    <tr>\n",
       "      <th>Highways</th>\n",
       "      <td>129</td>\n",
       "      <td>129</td>\n",
       "      <td>1,171,647</td>\n",
       "      <td>1</td>\n",
       "    </tr>\n",
       "    <tr>\n",
       "      <th>Imports</th>\n",
       "      <td>129</td>\n",
       "      <td>128</td>\n",
       "      <td>$1,300,000,000.00</td>\n",
       "      <td>2</td>\n",
       "    </tr>\n",
       "    <tr>\n",
       "      <th>Industrial production growth rate</th>\n",
       "      <td>117</td>\n",
       "      <td>77</td>\n",
       "      <td>4</td>\n",
       "      <td>5</td>\n",
       "    </tr>\n",
       "    <tr>\n",
       "      <th>Internet users</th>\n",
       "      <td>129</td>\n",
       "      <td>105</td>\n",
       "      <td>400,000.00</td>\n",
       "      <td>4</td>\n",
       "    </tr>\n",
       "    <tr>\n",
       "      <th>Investment</th>\n",
       "      <td>125</td>\n",
       "      <td>95</td>\n",
       "      <td>22.4</td>\n",
       "      <td>4</td>\n",
       "    </tr>\n",
       "    <tr>\n",
       "      <th>Labor force</th>\n",
       "      <td>129</td>\n",
       "      <td>121</td>\n",
       "      <td></td>\n",
       "      <td>7</td>\n",
       "    </tr>\n",
       "    <tr>\n",
       "      <th>Military expenditures</th>\n",
       "      <td>126</td>\n",
       "      <td>55</td>\n",
       "      <td>1.40</td>\n",
       "      <td>7</td>\n",
       "    </tr>\n",
       "    <tr>\n",
       "      <th>Natural gas consumption</th>\n",
       "      <td>129</td>\n",
       "      <td>86</td>\n",
       "      <td></td>\n",
       "      <td>42</td>\n",
       "    </tr>\n",
       "    <tr>\n",
       "      <th>Oil consumption</th>\n",
       "      <td>129</td>\n",
       "      <td>116</td>\n",
       "      <td>20,000</td>\n",
       "      <td>4</td>\n",
       "    </tr>\n",
       "    <tr>\n",
       "      <th>Population</th>\n",
       "      <td>129</td>\n",
       "      <td>129</td>\n",
       "      <td>127,417,244</td>\n",
       "      <td>1</td>\n",
       "    </tr>\n",
       "    <tr>\n",
       "      <th>Public debt</th>\n",
       "      <td>94</td>\n",
       "      <td>92</td>\n",
       "      <td>41.7</td>\n",
       "      <td>2</td>\n",
       "    </tr>\n",
       "    <tr>\n",
       "      <th>Railways</th>\n",
       "      <td>105</td>\n",
       "      <td>105</td>\n",
       "      <td>23705</td>\n",
       "      <td>1</td>\n",
       "    </tr>\n",
       "    <tr>\n",
       "      <th>Reserves of foreign exchange &amp; gold</th>\n",
       "      <td>129</td>\n",
       "      <td>127</td>\n",
       "      <td>1,206,000,000.00</td>\n",
       "      <td>2</td>\n",
       "    </tr>\n",
       "    <tr>\n",
       "      <th>Unemployment rate</th>\n",
       "      <td>110</td>\n",
       "      <td>83</td>\n",
       "      <td>30</td>\n",
       "      <td>4</td>\n",
       "    </tr>\n",
       "    <tr>\n",
       "      <th>continent</th>\n",
       "      <td>129</td>\n",
       "      <td>5</td>\n",
       "      <td>Africa</td>\n",
       "      <td>37</td>\n",
       "    </tr>\n",
       "  </tbody>\n",
       "</table>\n",
       "</div>"
      ],
      "text/plain": [
       "                                       count unique                      top  \\\n",
       "Country                                  129    129                    Japan   \n",
       " Area                                    129    129                  377,835   \n",
       "  Current account balance                129    129     $170,200,000,000.00    \n",
       " Electricity consumption                 129    128           75,580,000,000   \n",
       "  Electricity production                 129    127       81,270,000,000.00    \n",
       "  Exports                                129    128      $15,500,000,000.00    \n",
       "  GDP                                    129    129   $3,745,000,000,000.00    \n",
       "  GDP per capita                         129     92               $1,200.00    \n",
       "  Highways                               129    129               1,171,647    \n",
       "  Imports                                129    128       $1,300,000,000.00    \n",
       " Industrial production growth rate       117     77                        4   \n",
       "  Internet users                         129    105              400,000.00    \n",
       " Investment                              125     95                     22.4   \n",
       "  Labor force                            129    121                            \n",
       " Military expenditures                   126     55                     1.40   \n",
       "  Natural gas consumption                129     86                            \n",
       "  Oil consumption                        129    116                  20,000    \n",
       "  Population                             129    129             127,417,244    \n",
       " Public debt                              94     92                     41.7   \n",
       " Railways                                105    105                    23705   \n",
       "  Reserves of foreign exchange & gold    129    127        1,206,000,000.00    \n",
       " Unemployment rate                       110     83                       30   \n",
       "continent                                129      5                   Africa   \n",
       "\n",
       "                                       freq  \n",
       "Country                                   1  \n",
       " Area                                     1  \n",
       "  Current account balance                 1  \n",
       " Electricity consumption                  2  \n",
       "  Electricity production                  2  \n",
       "  Exports                                 2  \n",
       "  GDP                                     1  \n",
       "  GDP per capita                          4  \n",
       "  Highways                                1  \n",
       "  Imports                                 2  \n",
       " Industrial production growth rate        5  \n",
       "  Internet users                          4  \n",
       " Investment                               4  \n",
       "  Labor force                             7  \n",
       " Military expenditures                    7  \n",
       "  Natural gas consumption                42  \n",
       "  Oil consumption                         4  \n",
       "  Population                              1  \n",
       " Public debt                              2  \n",
       " Railways                                 1  \n",
       "  Reserves of foreign exchange & gold     2  \n",
       " Unemployment rate                        4  \n",
       "continent                                37  "
      ]
     },
     "execution_count": 151,
     "metadata": {},
     "output_type": "execute_result"
    }
   ],
   "source": [
    "df.describe(include=['O']).T"
   ]
  },
  {
   "cell_type": "code",
   "execution_count": 152,
   "id": "d0942c73",
   "metadata": {},
   "outputs": [],
   "source": [
    "df.dropna(subset=[' Industrial production growth rate'], inplace=True)\n",
    "df[' Industrial production growth rate']=df[' Industrial production growth rate'].astype(float)"
   ]
  },
  {
   "cell_type": "code",
   "execution_count": 153,
   "id": "182f9ddb",
   "metadata": {},
   "outputs": [],
   "source": [
    "df[' Unemployment rate'] = df[' Unemployment rate'].astype(float)"
   ]
  },
  {
   "cell_type": "code",
   "execution_count": 154,
   "id": "cfc96149",
   "metadata": {},
   "outputs": [],
   "source": [
    "df.dropna(subset=['  Reserves of foreign exchange & gold '], inplace=True)"
   ]
  },
  {
   "cell_type": "code",
   "execution_count": 155,
   "id": "772e074a",
   "metadata": {},
   "outputs": [],
   "source": [
    "df[' Public debt'] = df[' Public debt'].astype(float)\n",
    "df[' Public debt'].fillna(df[' Public debt'].mean(), inplace=True)"
   ]
  },
  {
   "cell_type": "code",
   "execution_count": 156,
   "id": "2d7afe91",
   "metadata": {},
   "outputs": [
    {
     "data": {
      "text/plain": [
       "Country                                    0\n",
       " Area                                      0\n",
       " Birth rate                                0\n",
       "  Current account balance                  0\n",
       " Death rate                                0\n",
       " Electricity consumption                   0\n",
       "  Electricity production                   0\n",
       "  Exports                                  0\n",
       "  GDP                                      0\n",
       "  GDP per capita                           0\n",
       " GDP real growth rate                      0\n",
       "  Highways                                 0\n",
       "  Imports                                  0\n",
       " Industrial production growth rate         0\n",
       " Infant mortality rate                     0\n",
       " Inflation rate                            0\n",
       "  Internet users                           0\n",
       " Investment                                2\n",
       "  Labor force                              0\n",
       " Life expectancy at birth                  0\n",
       " Military expenditures                     2\n",
       "  Natural gas consumption                  0\n",
       "  Oil consumption                          0\n",
       "  Population                               0\n",
       " Public debt                               0\n",
       " Railways                                 18\n",
       "  Reserves of foreign exchange & gold      0\n",
       " Total fertility rate                      0\n",
       " Unemployment rate                        13\n",
       "continent                                  0\n",
       "dtype: int64"
      ]
     },
     "execution_count": 156,
     "metadata": {},
     "output_type": "execute_result"
    }
   ],
   "source": [
    "df.isnull().sum()"
   ]
  },
  {
   "cell_type": "code",
   "execution_count": 157,
   "id": "7c62cbce",
   "metadata": {},
   "outputs": [],
   "source": [
    "df['  Population '] = pd.to_numeric(df['  Population '].str.replace(',', ''))\n",
    "df['  Population '] = df['  Population '].apply(lambda x: '{:,}'.format(round(x)))\n",
    "df['  Population '] = df['  Population '] .str.replace(',', '')\n",
    "df['  Population '] = df['  Population '].astype(float)"
   ]
  },
  {
   "cell_type": "code",
   "execution_count": 158,
   "id": "47e430c5",
   "metadata": {},
   "outputs": [],
   "source": [
    "df[' Electricity consumption'] = pd.to_numeric(df[' Electricity consumption'].str.replace(',', '')).astype(float)\n",
    "df['  Electricity production '] = pd.to_numeric(df['  Electricity production '].str.replace(',', '')).astype(float)"
   ]
  },
  {
   "cell_type": "code",
   "execution_count": 159,
   "id": "3f0edd77",
   "metadata": {},
   "outputs": [
    {
     "name": "stderr",
     "output_type": "stream",
     "text": [
      "C:\\Users\\xdead\\AppData\\Local\\Temp\\ipykernel_16772\\728185837.py:1: FutureWarning:\n",
      "\n",
      "The default value of regex will change from True to False in a future version. In addition, single character regular expressions will *not* be treated as literal strings when regex=True.\n",
      "\n",
      "C:\\Users\\xdead\\AppData\\Local\\Temp\\ipykernel_16772\\728185837.py:2: FutureWarning:\n",
      "\n",
      "The default value of regex will change from True to False in a future version. In addition, single character regular expressions will *not* be treated as literal strings when regex=True.\n",
      "\n"
     ]
    }
   ],
   "source": [
    "df['  Imports '] = df['  Imports '].str.replace(',', '').str.replace('$', '').astype(float).apply(lambda x: '{:.0f}'.format(x))\n",
    "df['  Exports '] = df['  Exports '].str.replace(',', '').str.replace('$', '').astype(float).apply(lambda x: '{:.0f}'.format(x))"
   ]
  },
  {
   "cell_type": "code",
   "execution_count": 160,
   "id": "ddb81773",
   "metadata": {},
   "outputs": [
    {
     "name": "stderr",
     "output_type": "stream",
     "text": [
      "C:\\Users\\xdead\\AppData\\Local\\Temp\\ipykernel_16772\\622776134.py:1: FutureWarning:\n",
      "\n",
      "The default value of regex will change from True to False in a future version. In addition, single character regular expressions will *not* be treated as literal strings when regex=True.\n",
      "\n"
     ]
    }
   ],
   "source": [
    "df['  GDP '] = df['  GDP '].str.replace(',', '').str.replace('$', '').astype(float).apply(lambda x: '{:.0f}'.format(x))"
   ]
  },
  {
   "attachments": {},
   "cell_type": "markdown",
   "id": "f3a26be8",
   "metadata": {},
   "source": [
    "## Visualisasi"
   ]
  },
  {
   "attachments": {},
   "cell_type": "markdown",
   "id": "e7132c9e",
   "metadata": {},
   "source": [
    "Dibuat visualisasi yang diperlukan berdasarkan dataset yang disajikan dari purdue university. Dibuat bermacam-macam visualisasi berdasarkan data tersebut termasuk bubble chart, bar chart, map plot, dan pie chart."
   ]
  },
  {
   "attachments": {},
   "cell_type": "markdown",
   "id": "f62bd4f6",
   "metadata": {},
   "source": [
    "### Visualisasi Berdasarkan GDP percapita, Life expectancy at birth, dan Population"
   ]
  },
  {
   "attachments": {},
   "cell_type": "markdown",
   "id": "c8947421",
   "metadata": {},
   "source": [
    "* Visualisasi Bubble Chart"
   ]
  },
  {
   "cell_type": "code",
   "execution_count": 161,
   "id": "c669b41c",
   "metadata": {},
   "outputs": [
    {
     "data": {
      "application/vnd.plotly.v1+json": {
       "config": {
        "plotlyServerURL": "https://plot.ly"
       },
       "data": [
        {
         "hovertemplate": "<b>%{hovertext}</b><br><br>continent=Asia<br>  GDP per capita =%{x}<br> Life expectancy at birth=%{y}<br>  Population =%{marker.size}<extra></extra>",
         "hovertext": [
          "Japan",
          "Saudi Arabia",
          "China",
          "Hong Kong",
          "Kuwait",
          "Malaysia",
          "Singapore",
          "Indonesia",
          "Thailand",
          "United Arab Emirates",
          "Qatar",
          "India",
          "Philippines",
          "Oman",
          "Pakistan",
          "Bahrain",
          "Uzbekistan",
          "Yemen",
          "Bangladesh",
          "Israel",
          "Jordan",
          "Turkmenistan",
          "Kazakhstan",
          "Tajikistan",
          "Kyrgyzstan",
          "Armenia",
          "Cambodia",
          "Sri Lanka",
          "Cyprus",
          "Georgia",
          "Azerbaijan",
          "Turkey"
         ],
         "legendgroup": "Asia",
         "marker": {
          "color": "#636efa",
          "size": [
           127417244,
           26417599,
           1306313812,
           6898686,
           2335648,
           23953136,
           4425720,
           241973879,
           65444371,
           2563212,
           863051,
           1080264388,
           87857473,
           3001583,
           162419946,
           688345,
           26851195,
           20727063,
           144319628,
           6276883,
           5759732,
           4952081,
           15185844,
           7163506,
           5146281,
           2982904,
           13607069,
           20064776,
           780133,
           4677401,
           7911974,
           69660559
          ],
          "sizemode": "area",
          "sizeref": 362864.9477777778,
          "symbol": "circle"
         },
         "mode": "markers",
         "name": "Asia",
         "orientation": "v",
         "showlegend": true,
         "type": "scatter",
         "x": [
          " $29,400.00 ",
          " $12,000.00 ",
          " $5,600.00 ",
          " $34,200.00 ",
          " $21,300.00 ",
          " $9,700.00 ",
          " $27,800.00 ",
          " $3,500.00 ",
          " $8,100.00 ",
          " $25,200.00 ",
          " $23,200.00 ",
          " $3,100.00 ",
          " $5,000.00 ",
          " $13,100.00 ",
          " $2,200.00 ",
          " $19,200.00 ",
          " $1,800.00 ",
          " $800.00 ",
          " $2,000.00 ",
          " $20,800.00 ",
          " $4,500.00 ",
          " $5,700.00 ",
          " $7,800.00 ",
          " $1,100.00 ",
          " $1,700.00 ",
          " $4,600.00 ",
          " $2,000.00 ",
          " $4,000.00 ",
          " $7,135.00 ",
          " $3,100.00 ",
          " $3,800.00 ",
          " $7,400.00 "
         ],
         "xaxis": "x",
         "y": [
          81.15,
          75.46,
          72.27,
          81.39,
          77.03,
          72.24,
          81.62,
          69.57,
          71.57,
          75.24,
          73.67,
          64.35,
          69.91,
          73.13,
          63,
          74.23,
          64.19,
          61.75,
          62.08,
          79.32,
          78.24,
          61.39,
          66.55,
          64.56,
          68.16,
          71.55,
          58.87,
          73.17,
          77.65,
          75.88,
          63.35,
          72.36
         ],
         "yaxis": "y"
        },
        {
         "hovertemplate": "<b>%{hovertext}</b><br><br>continent=Europe<br>  GDP per capita =%{x}<br> Life expectancy at birth=%{y}<br>  Population =%{marker.size}<extra></extra>",
         "hovertext": [
          "Germany",
          "Switzerland",
          "Norway",
          "Sweden",
          "Netherlands",
          "Belgium",
          "Finland",
          "Denmark",
          "Ukraine",
          "Bulgaria",
          "Slovenia",
          "France",
          "Albania",
          "Iceland",
          "Belarus",
          "Estonia",
          "Latvia",
          "Slovakia",
          "Lithuania",
          "Croatia",
          "Bosnia and Herzegovina",
          "Ireland",
          "Austria",
          "Romania",
          "Poland",
          "Czech Republic",
          "Hungary",
          "Greece",
          "Portugal",
          "Italy",
          "Spain"
         ],
         "legendgroup": "Europe",
         "marker": {
          "color": "#EF553B",
          "size": [
           82431390,
           7489370,
           4593041,
           9001774,
           16407491,
           10364388,
           5223442,
           5432335,
           47425336,
           7450349,
           2011070,
           60656178,
           3563112,
           296737,
           10300483,
           1332893,
           2290237,
           5431363,
           3596617,
           4495904,
           4025476,
           4015676,
           8184691,
           22329977,
           38635144,
           10241138,
           10006835,
           10668354,
           10566212,
           58103033,
           40341462
          ],
          "sizemode": "area",
          "sizeref": 362864.9477777778,
          "symbol": "circle"
         },
         "mode": "markers",
         "name": "Europe",
         "orientation": "v",
         "showlegend": true,
         "type": "scatter",
         "x": [
          " $28,700.00 ",
          " $33,800.00 ",
          " $40,000.00 ",
          " $28,400.00 ",
          " $29,500.00 ",
          " $30,600.00 ",
          " $29,000.00 ",
          " $32,200.00 ",
          " $6,300.00 ",
          " $8,200.00 ",
          " $19,600.00 ",
          " $28,700.00 ",
          " $4,900.00 ",
          " $31,900.00 ",
          " $6,800.00 ",
          " $14,300.00 ",
          " $11,500.00 ",
          " $14,500.00 ",
          " $12,500.00 ",
          " $11,200.00 ",
          " $6,500.00 ",
          " $31,900.00 ",
          " $31,300.00 ",
          " $7,700.00 ",
          " $12,000.00 ",
          " $16,800.00 ",
          " $14,900.00 ",
          " $21,300.00 ",
          " $17,900.00 ",
          " $27,700.00 ",
          " $23,300.00 "
         ],
         "xaxis": "x",
         "y": [
          78.65,
          80.39,
          79.4,
          80.4,
          78.81,
          78.62,
          78.35,
          77.62,
          66.85,
          72.03,
          76.14,
          79.6,
          77.24,
          80.19,
          68.72,
          71.77,
          71.05,
          74.5,
          73.97,
          74.45,
          72.85,
          77.56,
          78.92,
          71.35,
          74.41,
          76.02,
          72.4,
          79.09,
          77.53,
          79.68,
          79.52
         ],
         "yaxis": "y"
        },
        {
         "hovertemplate": "<b>%{hovertext}</b><br><br>continent=Americas<br>  GDP per capita =%{x}<br> Life expectancy at birth=%{y}<br>  Population =%{marker.size}<extra></extra>",
         "hovertext": [
          "Canada",
          "Brazil",
          "Argentina",
          "Chile",
          "Trinidad and Tobago",
          "Dominican Republic",
          "Ecuador",
          "Honduras",
          "Uruguay",
          "Peru",
          "Paraguay",
          "Belize",
          "Guyana",
          "Cuba",
          "Panama",
          "Jamaica",
          "Nicaragua",
          "El Salvador",
          "Costa Rica",
          "Guatemala",
          "Colombia",
          "Mexico"
         ],
         "legendgroup": "Americas",
         "marker": {
          "color": "#00cc96",
          "size": [
           32805041,
           186112794,
           39537943,
           15980912,
           1088644,
           8950034,
           13363593,
           6975204,
           3415920,
           27925628,
           6347884,
           279457,
           765283,
           11346670,
           3039150,
           2731832,
           5465100,
           6704932,
           4016173,
           14655189,
           42954279,
           106202903
          ],
          "sizemode": "area",
          "sizeref": 362864.9477777778,
          "symbol": "circle"
         },
         "mode": "markers",
         "name": "Americas",
         "orientation": "v",
         "showlegend": true,
         "type": "scatter",
         "x": [
          " $31,500.00 ",
          " $8,100.00 ",
          " $12,400.00 ",
          " $10,700.00 ",
          " $10,500.00 ",
          " $6,300.00 ",
          " $3,700.00 ",
          " $2,800.00 ",
          " $14,500.00 ",
          " $5,600.00 ",
          " $4,800.00 ",
          " $6,500.00 ",
          " $3,800.00 ",
          " $3,000.00 ",
          " $6,900.00 ",
          " $4,100.00 ",
          " $2,300.00 ",
          " $4,900.00 ",
          " $9,600.00 ",
          " $4,200.00 ",
          " $6,600.00 ",
          " $9,600.00 "
         ],
         "xaxis": "x",
         "y": [
          80.1,
          71.69,
          75.91,
          76.58,
          68.91,
          67.26,
          76.21,
          65.6,
          76.13,
          69.53,
          74.89,
          67.49,
          65.5,
          77.23,
          71.94,
          76.29,
          70.33,
          71.22,
          76.84,
          65.14,
          71.72,
          75.19
         ],
         "yaxis": "y"
        },
        {
         "hovertemplate": "<b>%{hovertext}</b><br><br>continent=Africa<br>  GDP per capita =%{x}<br> Life expectancy at birth=%{y}<br>  Population =%{marker.size}<extra></extra>",
         "hovertext": [
          "Algeria",
          "Nigeria",
          "Egypt",
          "Botswana",
          "Chad",
          "Mauritius",
          "Gabon",
          "Ghana",
          "Tunisia",
          "Angola",
          "Malawi",
          "Burundi",
          "Swaziland",
          "Mozambique",
          "Lesotho",
          "Cameroon",
          "Benin",
          "Zambia",
          "Rwanda",
          "Zimbabwe",
          "Madagascar",
          "Guinea",
          "Kenya",
          "Ethiopia",
          "Burkina Faso",
          "Senegal",
          "Equatorial Guinea",
          "Uganda",
          "Sudan",
          "South Africa"
         ],
         "legendgroup": "Africa",
         "marker": {
          "color": "#ab63fa",
          "size": [
           32531853,
           128771988,
           77505756,
           1640115,
           9826419,
           1230602,
           1389201,
           21029853,
           10074951,
           11190786,
           12158924,
           6370609,
           1173900,
           19406703,
           1867035,
           16380005,
           7460025,
           11261795,
           8440820,
           12746990,
           18040341,
           9467866,
           33829590,
           73053286,
           13925313,
           11126832,
           535881,
           27269482,
           40187486,
           44344136
          ],
          "sizemode": "area",
          "sizeref": 362864.9477777778,
          "symbol": "circle"
         },
         "mode": "markers",
         "name": "Africa",
         "orientation": "v",
         "showlegend": true,
         "type": "scatter",
         "x": [
          " $6,600.00 ",
          " $1,000.00 ",
          " $4,200.00 ",
          " $9,200.00 ",
          " $1,600.00 ",
          " $12,800.00 ",
          " $5,900.00 ",
          " $2,300.00 ",
          " $7,100.00 ",
          " $2,100.00 ",
          " $600.00 ",
          " $600.00 ",
          " $5,100.00 ",
          " $1,200.00 ",
          " $3,200.00 ",
          " $1,900.00 ",
          " $1,200.00 ",
          " $900.00 ",
          " $1,300.00 ",
          " $1,900.00 ",
          " $800.00 ",
          " $2,100.00 ",
          " $1,100.00 ",
          " $800.00 ",
          " $1,200.00 ",
          " $1,700.00 ",
          " $2,700.00 ",
          " $1,500.00 ",
          " $1,900.00 ",
          " $11,100.00 "
         ],
         "xaxis": "x",
         "y": [
          73,
          46.74,
          71,
          33.87,
          47.94,
          72.38,
          55.75,
          56,
          74.89,
          36.61,
          36.97,
          43.5,
          35.65,
          40.32,
          36.68,
          47.84,
          50.51,
          39.7,
          46.96,
          36.67,
          56.95,
          49.86,
          47.99,
          48.83,
          43.92,
          56.75,
          55.56,
          51.59,
          58.54,
          43.27
         ],
         "yaxis": "y"
        },
        {
         "hovertemplate": "<b>%{hovertext}</b><br><br>continent=Oceania<br>  GDP per capita =%{x}<br> Life expectancy at birth=%{y}<br>  Population =%{marker.size}<extra></extra>",
         "hovertext": [
          "New Zealand",
          "Australia"
         ],
         "legendgroup": "Oceania",
         "marker": {
          "color": "#FFA15A",
          "size": [
           4035461,
           20090437
          ],
          "sizemode": "area",
          "sizeref": 362864.9477777778,
          "symbol": "circle"
         },
         "mode": "markers",
         "name": "Oceania",
         "orientation": "v",
         "showlegend": true,
         "type": "scatter",
         "x": [
          " $23,200.00 ",
          " $30,700.00 "
         ],
         "xaxis": "x",
         "y": [
          78.66,
          80.39
         ],
         "yaxis": "y"
        }
       ],
       "layout": {
        "legend": {
         "itemsizing": "constant",
         "title": {
          "text": "continent"
         },
         "tracegroupgap": 0
        },
        "margin": {
         "t": 60
        },
        "template": {
         "data": {
          "bar": [
           {
            "error_x": {
             "color": "#2a3f5f"
            },
            "error_y": {
             "color": "#2a3f5f"
            },
            "marker": {
             "line": {
              "color": "#E5ECF6",
              "width": 0.5
             },
             "pattern": {
              "fillmode": "overlay",
              "size": 10,
              "solidity": 0.2
             }
            },
            "type": "bar"
           }
          ],
          "barpolar": [
           {
            "marker": {
             "line": {
              "color": "#E5ECF6",
              "width": 0.5
             },
             "pattern": {
              "fillmode": "overlay",
              "size": 10,
              "solidity": 0.2
             }
            },
            "type": "barpolar"
           }
          ],
          "carpet": [
           {
            "aaxis": {
             "endlinecolor": "#2a3f5f",
             "gridcolor": "white",
             "linecolor": "white",
             "minorgridcolor": "white",
             "startlinecolor": "#2a3f5f"
            },
            "baxis": {
             "endlinecolor": "#2a3f5f",
             "gridcolor": "white",
             "linecolor": "white",
             "minorgridcolor": "white",
             "startlinecolor": "#2a3f5f"
            },
            "type": "carpet"
           }
          ],
          "choropleth": [
           {
            "colorbar": {
             "outlinewidth": 0,
             "ticks": ""
            },
            "type": "choropleth"
           }
          ],
          "contour": [
           {
            "colorbar": {
             "outlinewidth": 0,
             "ticks": ""
            },
            "colorscale": [
             [
              0,
              "#0d0887"
             ],
             [
              0.1111111111111111,
              "#46039f"
             ],
             [
              0.2222222222222222,
              "#7201a8"
             ],
             [
              0.3333333333333333,
              "#9c179e"
             ],
             [
              0.4444444444444444,
              "#bd3786"
             ],
             [
              0.5555555555555556,
              "#d8576b"
             ],
             [
              0.6666666666666666,
              "#ed7953"
             ],
             [
              0.7777777777777778,
              "#fb9f3a"
             ],
             [
              0.8888888888888888,
              "#fdca26"
             ],
             [
              1,
              "#f0f921"
             ]
            ],
            "type": "contour"
           }
          ],
          "contourcarpet": [
           {
            "colorbar": {
             "outlinewidth": 0,
             "ticks": ""
            },
            "type": "contourcarpet"
           }
          ],
          "heatmap": [
           {
            "colorbar": {
             "outlinewidth": 0,
             "ticks": ""
            },
            "colorscale": [
             [
              0,
              "#0d0887"
             ],
             [
              0.1111111111111111,
              "#46039f"
             ],
             [
              0.2222222222222222,
              "#7201a8"
             ],
             [
              0.3333333333333333,
              "#9c179e"
             ],
             [
              0.4444444444444444,
              "#bd3786"
             ],
             [
              0.5555555555555556,
              "#d8576b"
             ],
             [
              0.6666666666666666,
              "#ed7953"
             ],
             [
              0.7777777777777778,
              "#fb9f3a"
             ],
             [
              0.8888888888888888,
              "#fdca26"
             ],
             [
              1,
              "#f0f921"
             ]
            ],
            "type": "heatmap"
           }
          ],
          "heatmapgl": [
           {
            "colorbar": {
             "outlinewidth": 0,
             "ticks": ""
            },
            "colorscale": [
             [
              0,
              "#0d0887"
             ],
             [
              0.1111111111111111,
              "#46039f"
             ],
             [
              0.2222222222222222,
              "#7201a8"
             ],
             [
              0.3333333333333333,
              "#9c179e"
             ],
             [
              0.4444444444444444,
              "#bd3786"
             ],
             [
              0.5555555555555556,
              "#d8576b"
             ],
             [
              0.6666666666666666,
              "#ed7953"
             ],
             [
              0.7777777777777778,
              "#fb9f3a"
             ],
             [
              0.8888888888888888,
              "#fdca26"
             ],
             [
              1,
              "#f0f921"
             ]
            ],
            "type": "heatmapgl"
           }
          ],
          "histogram": [
           {
            "marker": {
             "pattern": {
              "fillmode": "overlay",
              "size": 10,
              "solidity": 0.2
             }
            },
            "type": "histogram"
           }
          ],
          "histogram2d": [
           {
            "colorbar": {
             "outlinewidth": 0,
             "ticks": ""
            },
            "colorscale": [
             [
              0,
              "#0d0887"
             ],
             [
              0.1111111111111111,
              "#46039f"
             ],
             [
              0.2222222222222222,
              "#7201a8"
             ],
             [
              0.3333333333333333,
              "#9c179e"
             ],
             [
              0.4444444444444444,
              "#bd3786"
             ],
             [
              0.5555555555555556,
              "#d8576b"
             ],
             [
              0.6666666666666666,
              "#ed7953"
             ],
             [
              0.7777777777777778,
              "#fb9f3a"
             ],
             [
              0.8888888888888888,
              "#fdca26"
             ],
             [
              1,
              "#f0f921"
             ]
            ],
            "type": "histogram2d"
           }
          ],
          "histogram2dcontour": [
           {
            "colorbar": {
             "outlinewidth": 0,
             "ticks": ""
            },
            "colorscale": [
             [
              0,
              "#0d0887"
             ],
             [
              0.1111111111111111,
              "#46039f"
             ],
             [
              0.2222222222222222,
              "#7201a8"
             ],
             [
              0.3333333333333333,
              "#9c179e"
             ],
             [
              0.4444444444444444,
              "#bd3786"
             ],
             [
              0.5555555555555556,
              "#d8576b"
             ],
             [
              0.6666666666666666,
              "#ed7953"
             ],
             [
              0.7777777777777778,
              "#fb9f3a"
             ],
             [
              0.8888888888888888,
              "#fdca26"
             ],
             [
              1,
              "#f0f921"
             ]
            ],
            "type": "histogram2dcontour"
           }
          ],
          "mesh3d": [
           {
            "colorbar": {
             "outlinewidth": 0,
             "ticks": ""
            },
            "type": "mesh3d"
           }
          ],
          "parcoords": [
           {
            "line": {
             "colorbar": {
              "outlinewidth": 0,
              "ticks": ""
             }
            },
            "type": "parcoords"
           }
          ],
          "pie": [
           {
            "automargin": true,
            "type": "pie"
           }
          ],
          "scatter": [
           {
            "fillpattern": {
             "fillmode": "overlay",
             "size": 10,
             "solidity": 0.2
            },
            "type": "scatter"
           }
          ],
          "scatter3d": [
           {
            "line": {
             "colorbar": {
              "outlinewidth": 0,
              "ticks": ""
             }
            },
            "marker": {
             "colorbar": {
              "outlinewidth": 0,
              "ticks": ""
             }
            },
            "type": "scatter3d"
           }
          ],
          "scattercarpet": [
           {
            "marker": {
             "colorbar": {
              "outlinewidth": 0,
              "ticks": ""
             }
            },
            "type": "scattercarpet"
           }
          ],
          "scattergeo": [
           {
            "marker": {
             "colorbar": {
              "outlinewidth": 0,
              "ticks": ""
             }
            },
            "type": "scattergeo"
           }
          ],
          "scattergl": [
           {
            "marker": {
             "colorbar": {
              "outlinewidth": 0,
              "ticks": ""
             }
            },
            "type": "scattergl"
           }
          ],
          "scattermapbox": [
           {
            "marker": {
             "colorbar": {
              "outlinewidth": 0,
              "ticks": ""
             }
            },
            "type": "scattermapbox"
           }
          ],
          "scatterpolar": [
           {
            "marker": {
             "colorbar": {
              "outlinewidth": 0,
              "ticks": ""
             }
            },
            "type": "scatterpolar"
           }
          ],
          "scatterpolargl": [
           {
            "marker": {
             "colorbar": {
              "outlinewidth": 0,
              "ticks": ""
             }
            },
            "type": "scatterpolargl"
           }
          ],
          "scatterternary": [
           {
            "marker": {
             "colorbar": {
              "outlinewidth": 0,
              "ticks": ""
             }
            },
            "type": "scatterternary"
           }
          ],
          "surface": [
           {
            "colorbar": {
             "outlinewidth": 0,
             "ticks": ""
            },
            "colorscale": [
             [
              0,
              "#0d0887"
             ],
             [
              0.1111111111111111,
              "#46039f"
             ],
             [
              0.2222222222222222,
              "#7201a8"
             ],
             [
              0.3333333333333333,
              "#9c179e"
             ],
             [
              0.4444444444444444,
              "#bd3786"
             ],
             [
              0.5555555555555556,
              "#d8576b"
             ],
             [
              0.6666666666666666,
              "#ed7953"
             ],
             [
              0.7777777777777778,
              "#fb9f3a"
             ],
             [
              0.8888888888888888,
              "#fdca26"
             ],
             [
              1,
              "#f0f921"
             ]
            ],
            "type": "surface"
           }
          ],
          "table": [
           {
            "cells": {
             "fill": {
              "color": "#EBF0F8"
             },
             "line": {
              "color": "white"
             }
            },
            "header": {
             "fill": {
              "color": "#C8D4E3"
             },
             "line": {
              "color": "white"
             }
            },
            "type": "table"
           }
          ]
         },
         "layout": {
          "annotationdefaults": {
           "arrowcolor": "#2a3f5f",
           "arrowhead": 0,
           "arrowwidth": 1
          },
          "autotypenumbers": "strict",
          "coloraxis": {
           "colorbar": {
            "outlinewidth": 0,
            "ticks": ""
           }
          },
          "colorscale": {
           "diverging": [
            [
             0,
             "#8e0152"
            ],
            [
             0.1,
             "#c51b7d"
            ],
            [
             0.2,
             "#de77ae"
            ],
            [
             0.3,
             "#f1b6da"
            ],
            [
             0.4,
             "#fde0ef"
            ],
            [
             0.5,
             "#f7f7f7"
            ],
            [
             0.6,
             "#e6f5d0"
            ],
            [
             0.7,
             "#b8e186"
            ],
            [
             0.8,
             "#7fbc41"
            ],
            [
             0.9,
             "#4d9221"
            ],
            [
             1,
             "#276419"
            ]
           ],
           "sequential": [
            [
             0,
             "#0d0887"
            ],
            [
             0.1111111111111111,
             "#46039f"
            ],
            [
             0.2222222222222222,
             "#7201a8"
            ],
            [
             0.3333333333333333,
             "#9c179e"
            ],
            [
             0.4444444444444444,
             "#bd3786"
            ],
            [
             0.5555555555555556,
             "#d8576b"
            ],
            [
             0.6666666666666666,
             "#ed7953"
            ],
            [
             0.7777777777777778,
             "#fb9f3a"
            ],
            [
             0.8888888888888888,
             "#fdca26"
            ],
            [
             1,
             "#f0f921"
            ]
           ],
           "sequentialminus": [
            [
             0,
             "#0d0887"
            ],
            [
             0.1111111111111111,
             "#46039f"
            ],
            [
             0.2222222222222222,
             "#7201a8"
            ],
            [
             0.3333333333333333,
             "#9c179e"
            ],
            [
             0.4444444444444444,
             "#bd3786"
            ],
            [
             0.5555555555555556,
             "#d8576b"
            ],
            [
             0.6666666666666666,
             "#ed7953"
            ],
            [
             0.7777777777777778,
             "#fb9f3a"
            ],
            [
             0.8888888888888888,
             "#fdca26"
            ],
            [
             1,
             "#f0f921"
            ]
           ]
          },
          "colorway": [
           "#636efa",
           "#EF553B",
           "#00cc96",
           "#ab63fa",
           "#FFA15A",
           "#19d3f3",
           "#FF6692",
           "#B6E880",
           "#FF97FF",
           "#FECB52"
          ],
          "font": {
           "color": "#2a3f5f"
          },
          "geo": {
           "bgcolor": "white",
           "lakecolor": "white",
           "landcolor": "#E5ECF6",
           "showlakes": true,
           "showland": true,
           "subunitcolor": "white"
          },
          "hoverlabel": {
           "align": "left"
          },
          "hovermode": "closest",
          "mapbox": {
           "style": "light"
          },
          "paper_bgcolor": "white",
          "plot_bgcolor": "#E5ECF6",
          "polar": {
           "angularaxis": {
            "gridcolor": "white",
            "linecolor": "white",
            "ticks": ""
           },
           "bgcolor": "#E5ECF6",
           "radialaxis": {
            "gridcolor": "white",
            "linecolor": "white",
            "ticks": ""
           }
          },
          "scene": {
           "xaxis": {
            "backgroundcolor": "#E5ECF6",
            "gridcolor": "white",
            "gridwidth": 2,
            "linecolor": "white",
            "showbackground": true,
            "ticks": "",
            "zerolinecolor": "white"
           },
           "yaxis": {
            "backgroundcolor": "#E5ECF6",
            "gridcolor": "white",
            "gridwidth": 2,
            "linecolor": "white",
            "showbackground": true,
            "ticks": "",
            "zerolinecolor": "white"
           },
           "zaxis": {
            "backgroundcolor": "#E5ECF6",
            "gridcolor": "white",
            "gridwidth": 2,
            "linecolor": "white",
            "showbackground": true,
            "ticks": "",
            "zerolinecolor": "white"
           }
          },
          "shapedefaults": {
           "line": {
            "color": "#2a3f5f"
           }
          },
          "ternary": {
           "aaxis": {
            "gridcolor": "white",
            "linecolor": "white",
            "ticks": ""
           },
           "baxis": {
            "gridcolor": "white",
            "linecolor": "white",
            "ticks": ""
           },
           "bgcolor": "#E5ECF6",
           "caxis": {
            "gridcolor": "white",
            "linecolor": "white",
            "ticks": ""
           }
          },
          "title": {
           "x": 0.05
          },
          "xaxis": {
           "automargin": true,
           "gridcolor": "white",
           "linecolor": "white",
           "ticks": "",
           "title": {
            "standoff": 15
           },
           "zerolinecolor": "white",
           "zerolinewidth": 2
          },
          "yaxis": {
           "automargin": true,
           "gridcolor": "white",
           "linecolor": "white",
           "ticks": "",
           "title": {
            "standoff": 15
           },
           "zerolinecolor": "white",
           "zerolinewidth": 2
          }
         }
        },
        "title": {
         "text": "GDP, Life Expectancy, and birth rate by Country"
        },
        "xaxis": {
         "anchor": "y",
         "domain": [
          0,
          1
         ],
         "title": {
          "text": "GDP ($ per capita)"
         },
         "type": "log"
        },
        "yaxis": {
         "anchor": "x",
         "domain": [
          0,
          1
         ],
         "title": {
          "text": "Life expectancy at birth (years)"
         }
        }
       }
      }
     },
     "metadata": {},
     "output_type": "display_data"
    }
   ],
   "source": [
    "# create bubble chart\n",
    "fig = px.scatter(df, x='  GDP per capita ', y=' Life expectancy at birth', size='  Population ', color='continent', hover_name='Country', log_x=True, size_max=60)\n",
    "# set layout\n",
    "fig.update_layout(title='GDP, Life Expectancy, and birth rate by Country', xaxis_title='GDP ($ per capita)', yaxis_title='Life expectancy at birth (years)')\n",
    "fig.show()\n"
   ]
  },
  {
   "cell_type": "code",
   "execution_count": 162,
   "id": "abf23782",
   "metadata": {},
   "outputs": [
    {
     "data": {
      "application/vnd.plotly.v1+json": {
       "config": {
        "plotlyServerURL": "https://plot.ly"
       },
       "data": [
        {
         "hovertemplate": "<b>%{hovertext}</b><br><br>continent=Asia<br> Death rate=%{x}<br> Birth rate=%{y}<br> Infant mortality rate=%{marker.size}<extra></extra>",
         "hovertext": [
          "Japan",
          "Saudi Arabia",
          "China",
          "Hong Kong",
          "Kuwait",
          "Malaysia",
          "Singapore",
          "Indonesia",
          "Thailand",
          "United Arab Emirates",
          "Qatar",
          "India",
          "Philippines",
          "Oman",
          "Pakistan",
          "Bahrain",
          "Uzbekistan",
          "Yemen",
          "Bangladesh",
          "Israel",
          "Jordan",
          "Turkmenistan",
          "Kazakhstan",
          "Tajikistan",
          "Kyrgyzstan",
          "Armenia",
          "Cambodia",
          "Sri Lanka",
          "Cyprus",
          "Georgia",
          "Azerbaijan",
          "Turkey"
         ],
         "legendgroup": "Asia",
         "marker": {
          "color": "#636efa",
          "size": [
           3.26,
           13.24,
           24.18,
           2.97,
           9.95,
           17.7,
           2.29,
           35.6,
           20.48,
           14.51,
           18.61,
           56.29,
           23.51,
           19.51,
           72.44,
           17.27,
           71.1,
           61.5,
           62.6,
           7.03,
           17.35,
           73.08,
           29.21,
           110.76,
           35.64,
           23.28,
           71.48,
           14.35,
           7.18,
           18.59,
           81.74,
           41.04
          ],
          "sizemode": "area",
          "sizeref": 0.477975,
          "symbol": "circle"
         },
         "mode": "markers",
         "name": "Asia",
         "orientation": "v",
         "showlegend": true,
         "type": "scatter",
         "x": [
          8.95,
          2.62,
          6.94,
          5.98,
          2.42,
          5.06,
          4.16,
          6.25,
          7.02,
          4.26,
          4.61,
          8.28,
          5.47,
          3.86,
          8.45,
          4.08,
          7.95,
          8.53,
          8.4,
          6.18,
          2.63,
          8.78,
          9.46,
          8.39,
          7.13,
          8.16,
          8.97,
          6.49,
          7.64,
          9.09,
          9.86,
          5.96
         ],
         "xaxis": "x",
         "y": [
          9.47,
          29.56,
          13.14,
          7.23,
          21.88,
          23.07,
          9.49,
          20.71,
          15.7,
          18.78,
          15.54,
          22.32,
          25.31,
          36.73,
          30.42,
          18.1,
          26.22,
          43.07,
          30.01,
          18.21,
          21.76,
          27.68,
          15.78,
          32.58,
          22.48,
          11.76,
          27.08,
          15.63,
          12.57,
          10.25,
          20.4,
          16.83
         ],
         "yaxis": "y"
        },
        {
         "hovertemplate": "<b>%{hovertext}</b><br><br>continent=Europe<br> Death rate=%{x}<br> Birth rate=%{y}<br> Infant mortality rate=%{marker.size}<extra></extra>",
         "hovertext": [
          "Germany",
          "Switzerland",
          "Norway",
          "Sweden",
          "Netherlands",
          "Belgium",
          "Finland",
          "Denmark",
          "Ukraine",
          "Bulgaria",
          "Slovenia",
          "France",
          "Albania",
          "Iceland",
          "Belarus",
          "Estonia",
          "Latvia",
          "Slovakia",
          "Lithuania",
          "Croatia",
          "Bosnia and Herzegovina",
          "Ireland",
          "Austria",
          "Romania",
          "Poland",
          "Czech Republic",
          "Hungary",
          "Greece",
          "Portugal",
          "Italy",
          "Spain"
         ],
         "legendgroup": "Europe",
         "marker": {
          "color": "#EF553B",
          "size": [
           4.16,
           4.39,
           3.7,
           2.77,
           5.04,
           4.68,
           3.57,
           4.56,
           20.34,
           20.55,
           4.45,
           4.26,
           21.52,
           3.31,
           13.37,
           7.87,
           9.55,
           7.41,
           6.89,
           6.84,
           21.05,
           5.39,
           4.66,
           26.43,
           8.51,
           3.93,
           8.57,
           5.53,
           5.05,
           5.94,
           4.42
          ],
          "sizemode": "area",
          "sizeref": 0.477975,
          "symbol": "circle"
         },
         "mode": "markers",
         "name": "Europe",
         "orientation": "v",
         "showlegend": true,
         "type": "scatter",
         "x": [
          10.55,
          8.48,
          9.45,
          10.36,
          8.68,
          10.22,
          9.79,
          10.43,
          16.42,
          14.26,
          10.22,
          9.08,
          5.12,
          6.68,
          14.15,
          13.21,
          13.7,
          9.43,
          10.92,
          11.38,
          8.44,
          7.85,
          9.7,
          11.74,
          10.01,
          10.54,
          13.19,
          10.15,
          10.43,
          10.3,
          9.63
         ],
         "xaxis": "x",
         "y": [
          8.33,
          9.77,
          11.67,
          10.36,
          11.14,
          10.48,
          10.5,
          11.36,
          10.49,
          9.66,
          8.95,
          12.15,
          15.08,
          13.73,
          10.83,
          9.91,
          9.04,
          10.62,
          8.62,
          9.57,
          12.49,
          14.47,
          8.81,
          10.7,
          10.78,
          9.07,
          9.76,
          9.72,
          10.82,
          8.89,
          10.1
         ],
         "yaxis": "y"
        },
        {
         "hovertemplate": "<b>%{hovertext}</b><br><br>continent=Americas<br> Death rate=%{x}<br> Birth rate=%{y}<br> Infant mortality rate=%{marker.size}<extra></extra>",
         "hovertext": [
          "Canada",
          "Brazil",
          "Argentina",
          "Chile",
          "Trinidad and Tobago",
          "Dominican Republic",
          "Ecuador",
          "Honduras",
          "Uruguay",
          "Peru",
          "Paraguay",
          "Belize",
          "Guyana",
          "Cuba",
          "Panama",
          "Jamaica",
          "Nicaragua",
          "El Salvador",
          "Costa Rica",
          "Guatemala",
          "Colombia",
          "Mexico"
         ],
         "legendgroup": "Americas",
         "marker": {
          "color": "#00cc96",
          "size": [
           4.75,
           29.61,
           15.18,
           8.8,
           24.31,
           32.38,
           23.66,
           29.32,
           11.95,
           31.94,
           25.63,
           25.69,
           33.26,
           6.33,
           20.47,
           12.36,
           29.11,
           25.1,
           9.95,
           35.93,
           20.97,
           20.91
          ],
          "sizemode": "area",
          "sizeref": 0.477975,
          "symbol": "circle"
         },
         "mode": "markers",
         "name": "Americas",
         "orientation": "v",
         "showlegend": true,
         "type": "scatter",
         "x": [
          7.73,
          6.15,
          7.56,
          5.76,
          9.37,
          7.35,
          4.24,
          6.87,
          9.06,
          6.26,
          4.53,
          6.04,
          8.32,
          7.19,
          6.54,
          5.37,
          4.49,
          5.85,
          4.33,
          6.81,
          5.59,
          4.73
         ],
         "xaxis": "x",
         "y": [
          10.84,
          16.83,
          16.9,
          15.44,
          12.81,
          23.28,
          22.67,
          30.38,
          14.09,
          20.87,
          29.43,
          29.34,
          18.45,
          12.03,
          19.96,
          16.56,
          24.88,
          27.04,
          18.6,
          34.11,
          20.82,
          21.01
         ],
         "yaxis": "y"
        },
        {
         "hovertemplate": "<b>%{hovertext}</b><br><br>continent=Africa<br> Death rate=%{x}<br> Birth rate=%{y}<br> Infant mortality rate=%{marker.size}<extra></extra>",
         "hovertext": [
          "Algeria",
          "Nigeria",
          "Egypt",
          "Botswana",
          "Chad",
          "Mauritius",
          "Gabon",
          "Ghana",
          "Tunisia",
          "Angola",
          "Malawi",
          "Burundi",
          "Swaziland",
          "Mozambique",
          "Lesotho",
          "Cameroon",
          "Benin",
          "Zambia",
          "Rwanda",
          "Zimbabwe",
          "Madagascar",
          "Guinea",
          "Kenya",
          "Ethiopia",
          "Burkina Faso",
          "Senegal",
          "Equatorial Guinea",
          "Uganda",
          "Sudan",
          "South Africa"
         ],
         "legendgroup": "Africa",
         "marker": {
          "color": "#ab63fa",
          "size": [
           31,
           98.8,
           32.59,
           54.58,
           93.82,
           15.03,
           53.64,
           51.43,
           24.77,
           191.19,
           103.32,
           69.29,
           69.27,
           130.79,
           84.23,
           68.26,
           85,
           88.29,
           91.23,
           67.69,
           76.83,
           90.37,
           61.47,
           95.32,
           97.57,
           55.51,
           85.13,
           67.83,
           62.5,
           61.81
          ],
          "sizemode": "area",
          "sizeref": 0.477975,
          "symbol": "circle"
         },
         "mode": "markers",
         "name": "Africa",
         "orientation": "v",
         "showlegend": true,
         "type": "scatter",
         "x": [
          4.6,
          17.18,
          5.26,
          29.36,
          16.41,
          6.83,
          11.72,
          10.84,
          5.09,
          25.9,
          23.39,
          17.43,
          25.26,
          20.99,
          25.03,
          15.4,
          13.76,
          20.23,
          16.32,
          24.66,
          11.35,
          15.38,
          14.65,
          15.06,
          18.86,
          10.6,
          12,
          12.8,
          9.16,
          21.32
         ],
         "xaxis": "x",
         "y": [
          17.13,
          40.65,
          23.32,
          23.33,
          45.98,
          15.62,
          36.24,
          23.97,
          15.5,
          44.64,
          43.95,
          39.66,
          27.72,
          35.79,
          26.53,
          34.67,
          41.99,
          41.38,
          40.6,
          29.74,
          41.66,
          42.03,
          40.13,
          38.61,
          44.17,
          35.21,
          36.18,
          47.39,
          35.17,
          18.48
         ],
         "yaxis": "y"
        },
        {
         "hovertemplate": "<b>%{hovertext}</b><br><br>continent=Oceania<br> Death rate=%{x}<br> Birth rate=%{y}<br> Infant mortality rate=%{marker.size}<extra></extra>",
         "hovertext": [
          "New Zealand",
          "Australia"
         ],
         "legendgroup": "Oceania",
         "marker": {
          "color": "#FFA15A",
          "size": [
           5.85,
           4.69
          ],
          "sizemode": "area",
          "sizeref": 0.477975,
          "symbol": "circle"
         },
         "mode": "markers",
         "name": "Oceania",
         "orientation": "v",
         "showlegend": true,
         "type": "scatter",
         "x": [
          7.53,
          7.44
         ],
         "xaxis": "x",
         "y": [
          13.9,
          12.26
         ],
         "yaxis": "y"
        }
       ],
       "layout": {
        "legend": {
         "itemsizing": "constant",
         "title": {
          "text": "continent"
         },
         "tracegroupgap": 0
        },
        "margin": {
         "t": 60
        },
        "template": {
         "data": {
          "bar": [
           {
            "error_x": {
             "color": "#2a3f5f"
            },
            "error_y": {
             "color": "#2a3f5f"
            },
            "marker": {
             "line": {
              "color": "#E5ECF6",
              "width": 0.5
             },
             "pattern": {
              "fillmode": "overlay",
              "size": 10,
              "solidity": 0.2
             }
            },
            "type": "bar"
           }
          ],
          "barpolar": [
           {
            "marker": {
             "line": {
              "color": "#E5ECF6",
              "width": 0.5
             },
             "pattern": {
              "fillmode": "overlay",
              "size": 10,
              "solidity": 0.2
             }
            },
            "type": "barpolar"
           }
          ],
          "carpet": [
           {
            "aaxis": {
             "endlinecolor": "#2a3f5f",
             "gridcolor": "white",
             "linecolor": "white",
             "minorgridcolor": "white",
             "startlinecolor": "#2a3f5f"
            },
            "baxis": {
             "endlinecolor": "#2a3f5f",
             "gridcolor": "white",
             "linecolor": "white",
             "minorgridcolor": "white",
             "startlinecolor": "#2a3f5f"
            },
            "type": "carpet"
           }
          ],
          "choropleth": [
           {
            "colorbar": {
             "outlinewidth": 0,
             "ticks": ""
            },
            "type": "choropleth"
           }
          ],
          "contour": [
           {
            "colorbar": {
             "outlinewidth": 0,
             "ticks": ""
            },
            "colorscale": [
             [
              0,
              "#0d0887"
             ],
             [
              0.1111111111111111,
              "#46039f"
             ],
             [
              0.2222222222222222,
              "#7201a8"
             ],
             [
              0.3333333333333333,
              "#9c179e"
             ],
             [
              0.4444444444444444,
              "#bd3786"
             ],
             [
              0.5555555555555556,
              "#d8576b"
             ],
             [
              0.6666666666666666,
              "#ed7953"
             ],
             [
              0.7777777777777778,
              "#fb9f3a"
             ],
             [
              0.8888888888888888,
              "#fdca26"
             ],
             [
              1,
              "#f0f921"
             ]
            ],
            "type": "contour"
           }
          ],
          "contourcarpet": [
           {
            "colorbar": {
             "outlinewidth": 0,
             "ticks": ""
            },
            "type": "contourcarpet"
           }
          ],
          "heatmap": [
           {
            "colorbar": {
             "outlinewidth": 0,
             "ticks": ""
            },
            "colorscale": [
             [
              0,
              "#0d0887"
             ],
             [
              0.1111111111111111,
              "#46039f"
             ],
             [
              0.2222222222222222,
              "#7201a8"
             ],
             [
              0.3333333333333333,
              "#9c179e"
             ],
             [
              0.4444444444444444,
              "#bd3786"
             ],
             [
              0.5555555555555556,
              "#d8576b"
             ],
             [
              0.6666666666666666,
              "#ed7953"
             ],
             [
              0.7777777777777778,
              "#fb9f3a"
             ],
             [
              0.8888888888888888,
              "#fdca26"
             ],
             [
              1,
              "#f0f921"
             ]
            ],
            "type": "heatmap"
           }
          ],
          "heatmapgl": [
           {
            "colorbar": {
             "outlinewidth": 0,
             "ticks": ""
            },
            "colorscale": [
             [
              0,
              "#0d0887"
             ],
             [
              0.1111111111111111,
              "#46039f"
             ],
             [
              0.2222222222222222,
              "#7201a8"
             ],
             [
              0.3333333333333333,
              "#9c179e"
             ],
             [
              0.4444444444444444,
              "#bd3786"
             ],
             [
              0.5555555555555556,
              "#d8576b"
             ],
             [
              0.6666666666666666,
              "#ed7953"
             ],
             [
              0.7777777777777778,
              "#fb9f3a"
             ],
             [
              0.8888888888888888,
              "#fdca26"
             ],
             [
              1,
              "#f0f921"
             ]
            ],
            "type": "heatmapgl"
           }
          ],
          "histogram": [
           {
            "marker": {
             "pattern": {
              "fillmode": "overlay",
              "size": 10,
              "solidity": 0.2
             }
            },
            "type": "histogram"
           }
          ],
          "histogram2d": [
           {
            "colorbar": {
             "outlinewidth": 0,
             "ticks": ""
            },
            "colorscale": [
             [
              0,
              "#0d0887"
             ],
             [
              0.1111111111111111,
              "#46039f"
             ],
             [
              0.2222222222222222,
              "#7201a8"
             ],
             [
              0.3333333333333333,
              "#9c179e"
             ],
             [
              0.4444444444444444,
              "#bd3786"
             ],
             [
              0.5555555555555556,
              "#d8576b"
             ],
             [
              0.6666666666666666,
              "#ed7953"
             ],
             [
              0.7777777777777778,
              "#fb9f3a"
             ],
             [
              0.8888888888888888,
              "#fdca26"
             ],
             [
              1,
              "#f0f921"
             ]
            ],
            "type": "histogram2d"
           }
          ],
          "histogram2dcontour": [
           {
            "colorbar": {
             "outlinewidth": 0,
             "ticks": ""
            },
            "colorscale": [
             [
              0,
              "#0d0887"
             ],
             [
              0.1111111111111111,
              "#46039f"
             ],
             [
              0.2222222222222222,
              "#7201a8"
             ],
             [
              0.3333333333333333,
              "#9c179e"
             ],
             [
              0.4444444444444444,
              "#bd3786"
             ],
             [
              0.5555555555555556,
              "#d8576b"
             ],
             [
              0.6666666666666666,
              "#ed7953"
             ],
             [
              0.7777777777777778,
              "#fb9f3a"
             ],
             [
              0.8888888888888888,
              "#fdca26"
             ],
             [
              1,
              "#f0f921"
             ]
            ],
            "type": "histogram2dcontour"
           }
          ],
          "mesh3d": [
           {
            "colorbar": {
             "outlinewidth": 0,
             "ticks": ""
            },
            "type": "mesh3d"
           }
          ],
          "parcoords": [
           {
            "line": {
             "colorbar": {
              "outlinewidth": 0,
              "ticks": ""
             }
            },
            "type": "parcoords"
           }
          ],
          "pie": [
           {
            "automargin": true,
            "type": "pie"
           }
          ],
          "scatter": [
           {
            "fillpattern": {
             "fillmode": "overlay",
             "size": 10,
             "solidity": 0.2
            },
            "type": "scatter"
           }
          ],
          "scatter3d": [
           {
            "line": {
             "colorbar": {
              "outlinewidth": 0,
              "ticks": ""
             }
            },
            "marker": {
             "colorbar": {
              "outlinewidth": 0,
              "ticks": ""
             }
            },
            "type": "scatter3d"
           }
          ],
          "scattercarpet": [
           {
            "marker": {
             "colorbar": {
              "outlinewidth": 0,
              "ticks": ""
             }
            },
            "type": "scattercarpet"
           }
          ],
          "scattergeo": [
           {
            "marker": {
             "colorbar": {
              "outlinewidth": 0,
              "ticks": ""
             }
            },
            "type": "scattergeo"
           }
          ],
          "scattergl": [
           {
            "marker": {
             "colorbar": {
              "outlinewidth": 0,
              "ticks": ""
             }
            },
            "type": "scattergl"
           }
          ],
          "scattermapbox": [
           {
            "marker": {
             "colorbar": {
              "outlinewidth": 0,
              "ticks": ""
             }
            },
            "type": "scattermapbox"
           }
          ],
          "scatterpolar": [
           {
            "marker": {
             "colorbar": {
              "outlinewidth": 0,
              "ticks": ""
             }
            },
            "type": "scatterpolar"
           }
          ],
          "scatterpolargl": [
           {
            "marker": {
             "colorbar": {
              "outlinewidth": 0,
              "ticks": ""
             }
            },
            "type": "scatterpolargl"
           }
          ],
          "scatterternary": [
           {
            "marker": {
             "colorbar": {
              "outlinewidth": 0,
              "ticks": ""
             }
            },
            "type": "scatterternary"
           }
          ],
          "surface": [
           {
            "colorbar": {
             "outlinewidth": 0,
             "ticks": ""
            },
            "colorscale": [
             [
              0,
              "#0d0887"
             ],
             [
              0.1111111111111111,
              "#46039f"
             ],
             [
              0.2222222222222222,
              "#7201a8"
             ],
             [
              0.3333333333333333,
              "#9c179e"
             ],
             [
              0.4444444444444444,
              "#bd3786"
             ],
             [
              0.5555555555555556,
              "#d8576b"
             ],
             [
              0.6666666666666666,
              "#ed7953"
             ],
             [
              0.7777777777777778,
              "#fb9f3a"
             ],
             [
              0.8888888888888888,
              "#fdca26"
             ],
             [
              1,
              "#f0f921"
             ]
            ],
            "type": "surface"
           }
          ],
          "table": [
           {
            "cells": {
             "fill": {
              "color": "#EBF0F8"
             },
             "line": {
              "color": "white"
             }
            },
            "header": {
             "fill": {
              "color": "#C8D4E3"
             },
             "line": {
              "color": "white"
             }
            },
            "type": "table"
           }
          ]
         },
         "layout": {
          "annotationdefaults": {
           "arrowcolor": "#2a3f5f",
           "arrowhead": 0,
           "arrowwidth": 1
          },
          "autotypenumbers": "strict",
          "coloraxis": {
           "colorbar": {
            "outlinewidth": 0,
            "ticks": ""
           }
          },
          "colorscale": {
           "diverging": [
            [
             0,
             "#8e0152"
            ],
            [
             0.1,
             "#c51b7d"
            ],
            [
             0.2,
             "#de77ae"
            ],
            [
             0.3,
             "#f1b6da"
            ],
            [
             0.4,
             "#fde0ef"
            ],
            [
             0.5,
             "#f7f7f7"
            ],
            [
             0.6,
             "#e6f5d0"
            ],
            [
             0.7,
             "#b8e186"
            ],
            [
             0.8,
             "#7fbc41"
            ],
            [
             0.9,
             "#4d9221"
            ],
            [
             1,
             "#276419"
            ]
           ],
           "sequential": [
            [
             0,
             "#0d0887"
            ],
            [
             0.1111111111111111,
             "#46039f"
            ],
            [
             0.2222222222222222,
             "#7201a8"
            ],
            [
             0.3333333333333333,
             "#9c179e"
            ],
            [
             0.4444444444444444,
             "#bd3786"
            ],
            [
             0.5555555555555556,
             "#d8576b"
            ],
            [
             0.6666666666666666,
             "#ed7953"
            ],
            [
             0.7777777777777778,
             "#fb9f3a"
            ],
            [
             0.8888888888888888,
             "#fdca26"
            ],
            [
             1,
             "#f0f921"
            ]
           ],
           "sequentialminus": [
            [
             0,
             "#0d0887"
            ],
            [
             0.1111111111111111,
             "#46039f"
            ],
            [
             0.2222222222222222,
             "#7201a8"
            ],
            [
             0.3333333333333333,
             "#9c179e"
            ],
            [
             0.4444444444444444,
             "#bd3786"
            ],
            [
             0.5555555555555556,
             "#d8576b"
            ],
            [
             0.6666666666666666,
             "#ed7953"
            ],
            [
             0.7777777777777778,
             "#fb9f3a"
            ],
            [
             0.8888888888888888,
             "#fdca26"
            ],
            [
             1,
             "#f0f921"
            ]
           ]
          },
          "colorway": [
           "#636efa",
           "#EF553B",
           "#00cc96",
           "#ab63fa",
           "#FFA15A",
           "#19d3f3",
           "#FF6692",
           "#B6E880",
           "#FF97FF",
           "#FECB52"
          ],
          "font": {
           "color": "#2a3f5f"
          },
          "geo": {
           "bgcolor": "white",
           "lakecolor": "white",
           "landcolor": "#E5ECF6",
           "showlakes": true,
           "showland": true,
           "subunitcolor": "white"
          },
          "hoverlabel": {
           "align": "left"
          },
          "hovermode": "closest",
          "mapbox": {
           "style": "light"
          },
          "paper_bgcolor": "white",
          "plot_bgcolor": "#E5ECF6",
          "polar": {
           "angularaxis": {
            "gridcolor": "white",
            "linecolor": "white",
            "ticks": ""
           },
           "bgcolor": "#E5ECF6",
           "radialaxis": {
            "gridcolor": "white",
            "linecolor": "white",
            "ticks": ""
           }
          },
          "scene": {
           "xaxis": {
            "backgroundcolor": "#E5ECF6",
            "gridcolor": "white",
            "gridwidth": 2,
            "linecolor": "white",
            "showbackground": true,
            "ticks": "",
            "zerolinecolor": "white"
           },
           "yaxis": {
            "backgroundcolor": "#E5ECF6",
            "gridcolor": "white",
            "gridwidth": 2,
            "linecolor": "white",
            "showbackground": true,
            "ticks": "",
            "zerolinecolor": "white"
           },
           "zaxis": {
            "backgroundcolor": "#E5ECF6",
            "gridcolor": "white",
            "gridwidth": 2,
            "linecolor": "white",
            "showbackground": true,
            "ticks": "",
            "zerolinecolor": "white"
           }
          },
          "shapedefaults": {
           "line": {
            "color": "#2a3f5f"
           }
          },
          "ternary": {
           "aaxis": {
            "gridcolor": "white",
            "linecolor": "white",
            "ticks": ""
           },
           "baxis": {
            "gridcolor": "white",
            "linecolor": "white",
            "ticks": ""
           },
           "bgcolor": "#E5ECF6",
           "caxis": {
            "gridcolor": "white",
            "linecolor": "white",
            "ticks": ""
           }
          },
          "title": {
           "x": 0.05
          },
          "xaxis": {
           "automargin": true,
           "gridcolor": "white",
           "linecolor": "white",
           "ticks": "",
           "title": {
            "standoff": 15
           },
           "zerolinecolor": "white",
           "zerolinewidth": 2
          },
          "yaxis": {
           "automargin": true,
           "gridcolor": "white",
           "linecolor": "white",
           "ticks": "",
           "title": {
            "standoff": 15
           },
           "zerolinecolor": "white",
           "zerolinewidth": 2
          }
         }
        },
        "title": {
         "text": "Birth and Death Ratio"
        },
        "xaxis": {
         "anchor": "y",
         "domain": [
          0,
          1
         ],
         "title": {
          "text": "Death Rate"
         },
         "type": "log"
        },
        "yaxis": {
         "anchor": "x",
         "domain": [
          0,
          1
         ],
         "title": {
          "text": "Birth Rate"
         }
        }
       }
      }
     },
     "metadata": {},
     "output_type": "display_data"
    }
   ],
   "source": [
    "# create bubble chart\n",
    "fig = px.scatter(df, x=' Death rate', y=' Birth rate', size=' Infant mortality rate', color='continent', hover_name='Country', log_x=True, size_max=20)\n",
    "# set layout\n",
    "fig.update_layout(title='Birth and Death Ratio', xaxis_title='Death Rate', yaxis_title='Birth Rate')\n",
    "fig.show()"
   ]
  },
  {
   "attachments": {},
   "cell_type": "markdown",
   "id": "6beac5a1",
   "metadata": {},
   "source": [
    "* Visualisasi Bar Chart"
   ]
  },
  {
   "cell_type": "code",
   "execution_count": 163,
   "id": "03b6194c",
   "metadata": {},
   "outputs": [
    {
     "data": {
      "application/vnd.plotly.v1+json": {
       "config": {
        "plotlyServerURL": "https://plot.ly"
       },
       "data": [
        {
         "alignmentgroup": "True",
         "hovertemplate": "continent=Asia<br>Country=%{x}<br> Public debt=%{y}<extra></extra>",
         "legendgroup": "Asia",
         "marker": {
          "color": "#636efa",
          "pattern": {
           "shape": ""
          }
         },
         "name": "Asia",
         "offsetgroup": "Asia",
         "orientation": "v",
         "showlegend": true,
         "textposition": "auto",
         "type": "bar",
         "x": [
          "Japan",
          "Saudi Arabia",
          "China",
          "Hong Kong",
          "Kuwait",
          "Malaysia",
          "Singapore",
          "Indonesia",
          "Thailand",
          "United Arab Emirates",
          "Qatar",
          "India",
          "Philippines",
          "Oman",
          "Pakistan",
          "Bahrain",
          "Uzbekistan",
          "Yemen",
          "Bangladesh",
          "Israel",
          "Jordan",
          "Turkmenistan",
          "Kazakhstan",
          "Tajikistan",
          "Kyrgyzstan",
          "Armenia",
          "Cambodia",
          "Sri Lanka",
          "Cyprus",
          "Georgia",
          "Azerbaijan",
          "Turkey"
         ],
         "xaxis": "x",
         "y": [
          164.3,
          75,
          31.4,
          2.1,
          29.6,
          45.4,
          102.5,
          56.2,
          47.6,
          17.6,
          56.38181818181818,
          59.7,
          74.2,
          10.3,
          71.4,
          63.8,
          41.5,
          46.4,
          43,
          104.5,
          85.8,
          56.38181818181818,
          13.7,
          56.38181818181818,
          56.38181818181818,
          56.38181818181818,
          56.38181818181818,
          104.3,
          74.9,
          56.38181818181818,
          18.9,
          74.3
         ],
         "yaxis": "y"
        },
        {
         "alignmentgroup": "True",
         "hovertemplate": "continent=Europe<br>Country=%{x}<br> Public debt=%{y}<extra></extra>",
         "legendgroup": "Europe",
         "marker": {
          "color": "#EF553B",
          "pattern": {
           "shape": ""
          }
         },
         "name": "Europe",
         "offsetgroup": "Europe",
         "orientation": "v",
         "showlegend": true,
         "textposition": "auto",
         "type": "bar",
         "x": [
          "Germany",
          "Switzerland",
          "Norway",
          "Sweden",
          "Netherlands",
          "Belgium",
          "Finland",
          "Denmark",
          "Ukraine",
          "Bulgaria",
          "Slovenia",
          "France",
          "Albania",
          "Iceland",
          "Belarus",
          "Estonia",
          "Latvia",
          "Slovakia",
          "Lithuania",
          "Croatia",
          "Bosnia and Herzegovina",
          "Ireland",
          "Austria",
          "Romania",
          "Poland",
          "Czech Republic",
          "Hungary",
          "Greece",
          "Portugal",
          "Italy",
          "Spain"
         ],
         "xaxis": "x",
         "y": [
          65.8,
          57.2,
          33.1,
          51.6,
          55.8,
          96.2,
          46.8,
          42.5,
          24.7,
          41.9,
          31.5,
          67.7,
          56.38181818181818,
          35.9,
          56.38181818181818,
          5.4,
          11.8,
          46.6,
          25.2,
          41.7,
          56.38181818181818,
          31.2,
          64.2,
          23.6,
          49.9,
          33.5,
          58.3,
          112,
          61.5,
          105.6,
          53.2
         ],
         "yaxis": "y"
        },
        {
         "alignmentgroup": "True",
         "hovertemplate": "continent=Americas<br>Country=%{x}<br> Public debt=%{y}<extra></extra>",
         "legendgroup": "Americas",
         "marker": {
          "color": "#00cc96",
          "pattern": {
           "shape": ""
          }
         },
         "name": "Americas",
         "offsetgroup": "Americas",
         "orientation": "v",
         "showlegend": true,
         "textposition": "auto",
         "type": "bar",
         "x": [
          "Canada",
          "Brazil",
          "Argentina",
          "Chile",
          "Trinidad and Tobago",
          "Dominican Republic",
          "Ecuador",
          "Honduras",
          "Uruguay",
          "Peru",
          "Paraguay",
          "Belize",
          "Guyana",
          "Cuba",
          "Panama",
          "Jamaica",
          "Nicaragua",
          "El Salvador",
          "Costa Rica",
          "Guatemala",
          "Colombia",
          "Mexico"
         ],
         "xaxis": "x",
         "y": [
          56.38181818181818,
          52,
          118,
          12.8,
          54.4,
          61.1,
          49.2,
          74.1,
          56.38181818181818,
          44.1,
          39.2,
          56.38181818181818,
          56.38181818181818,
          56.38181818181818,
          69.2,
          146.1,
          69.5,
          41.7,
          58,
          32,
          51.8,
          23.5
         ],
         "yaxis": "y"
        },
        {
         "alignmentgroup": "True",
         "hovertemplate": "continent=Africa<br>Country=%{x}<br> Public debt=%{y}<extra></extra>",
         "legendgroup": "Africa",
         "marker": {
          "color": "#ab63fa",
          "pattern": {
           "shape": ""
          }
         },
         "name": "Africa",
         "offsetgroup": "Africa",
         "orientation": "v",
         "showlegend": true,
         "textposition": "auto",
         "type": "bar",
         "x": [
          "Algeria",
          "Nigeria",
          "Egypt",
          "Botswana",
          "Chad",
          "Mauritius",
          "Gabon",
          "Ghana",
          "Tunisia",
          "Angola",
          "Malawi",
          "Burundi",
          "Swaziland",
          "Mozambique",
          "Lesotho",
          "Cameroon",
          "Benin",
          "Zambia",
          "Rwanda",
          "Zimbabwe",
          "Madagascar",
          "Guinea",
          "Kenya",
          "Ethiopia",
          "Burkina Faso",
          "Senegal",
          "Equatorial Guinea",
          "Uganda",
          "Sudan",
          "South Africa"
         ],
         "xaxis": "x",
         "y": [
          37.4,
          20,
          102.7,
          8.6,
          56.38181818181818,
          29.2,
          29.3,
          56.38181818181818,
          59.2,
          56.38181818181818,
          228.3,
          56.38181818181818,
          56.38181818181818,
          56.38181818181818,
          56.38181818181818,
          69.1,
          56.38181818181818,
          127.5,
          56.38181818181818,
          52.3,
          56.38181818181818,
          56.38181818181818,
          74.3,
          56.38181818181818,
          56.38181818181818,
          55.2,
          56.38181818181818,
          73.9,
          79.7,
          45.9
         ],
         "yaxis": "y"
        },
        {
         "alignmentgroup": "True",
         "hovertemplate": "continent=Oceania<br>Country=%{x}<br> Public debt=%{y}<extra></extra>",
         "legendgroup": "Oceania",
         "marker": {
          "color": "#FFA15A",
          "pattern": {
           "shape": ""
          }
         },
         "name": "Oceania",
         "offsetgroup": "Oceania",
         "orientation": "v",
         "showlegend": true,
         "textposition": "auto",
         "type": "bar",
         "x": [
          "New Zealand",
          "Australia"
         ],
         "xaxis": "x",
         "y": [
          22.1,
          17.4
         ],
         "yaxis": "y"
        }
       ],
       "layout": {
        "barmode": "relative",
        "legend": {
         "title": {
          "text": "continent"
         },
         "tracegroupgap": 0
        },
        "template": {
         "data": {
          "bar": [
           {
            "error_x": {
             "color": "#2a3f5f"
            },
            "error_y": {
             "color": "#2a3f5f"
            },
            "marker": {
             "line": {
              "color": "#E5ECF6",
              "width": 0.5
             },
             "pattern": {
              "fillmode": "overlay",
              "size": 10,
              "solidity": 0.2
             }
            },
            "type": "bar"
           }
          ],
          "barpolar": [
           {
            "marker": {
             "line": {
              "color": "#E5ECF6",
              "width": 0.5
             },
             "pattern": {
              "fillmode": "overlay",
              "size": 10,
              "solidity": 0.2
             }
            },
            "type": "barpolar"
           }
          ],
          "carpet": [
           {
            "aaxis": {
             "endlinecolor": "#2a3f5f",
             "gridcolor": "white",
             "linecolor": "white",
             "minorgridcolor": "white",
             "startlinecolor": "#2a3f5f"
            },
            "baxis": {
             "endlinecolor": "#2a3f5f",
             "gridcolor": "white",
             "linecolor": "white",
             "minorgridcolor": "white",
             "startlinecolor": "#2a3f5f"
            },
            "type": "carpet"
           }
          ],
          "choropleth": [
           {
            "colorbar": {
             "outlinewidth": 0,
             "ticks": ""
            },
            "type": "choropleth"
           }
          ],
          "contour": [
           {
            "colorbar": {
             "outlinewidth": 0,
             "ticks": ""
            },
            "colorscale": [
             [
              0,
              "#0d0887"
             ],
             [
              0.1111111111111111,
              "#46039f"
             ],
             [
              0.2222222222222222,
              "#7201a8"
             ],
             [
              0.3333333333333333,
              "#9c179e"
             ],
             [
              0.4444444444444444,
              "#bd3786"
             ],
             [
              0.5555555555555556,
              "#d8576b"
             ],
             [
              0.6666666666666666,
              "#ed7953"
             ],
             [
              0.7777777777777778,
              "#fb9f3a"
             ],
             [
              0.8888888888888888,
              "#fdca26"
             ],
             [
              1,
              "#f0f921"
             ]
            ],
            "type": "contour"
           }
          ],
          "contourcarpet": [
           {
            "colorbar": {
             "outlinewidth": 0,
             "ticks": ""
            },
            "type": "contourcarpet"
           }
          ],
          "heatmap": [
           {
            "colorbar": {
             "outlinewidth": 0,
             "ticks": ""
            },
            "colorscale": [
             [
              0,
              "#0d0887"
             ],
             [
              0.1111111111111111,
              "#46039f"
             ],
             [
              0.2222222222222222,
              "#7201a8"
             ],
             [
              0.3333333333333333,
              "#9c179e"
             ],
             [
              0.4444444444444444,
              "#bd3786"
             ],
             [
              0.5555555555555556,
              "#d8576b"
             ],
             [
              0.6666666666666666,
              "#ed7953"
             ],
             [
              0.7777777777777778,
              "#fb9f3a"
             ],
             [
              0.8888888888888888,
              "#fdca26"
             ],
             [
              1,
              "#f0f921"
             ]
            ],
            "type": "heatmap"
           }
          ],
          "heatmapgl": [
           {
            "colorbar": {
             "outlinewidth": 0,
             "ticks": ""
            },
            "colorscale": [
             [
              0,
              "#0d0887"
             ],
             [
              0.1111111111111111,
              "#46039f"
             ],
             [
              0.2222222222222222,
              "#7201a8"
             ],
             [
              0.3333333333333333,
              "#9c179e"
             ],
             [
              0.4444444444444444,
              "#bd3786"
             ],
             [
              0.5555555555555556,
              "#d8576b"
             ],
             [
              0.6666666666666666,
              "#ed7953"
             ],
             [
              0.7777777777777778,
              "#fb9f3a"
             ],
             [
              0.8888888888888888,
              "#fdca26"
             ],
             [
              1,
              "#f0f921"
             ]
            ],
            "type": "heatmapgl"
           }
          ],
          "histogram": [
           {
            "marker": {
             "pattern": {
              "fillmode": "overlay",
              "size": 10,
              "solidity": 0.2
             }
            },
            "type": "histogram"
           }
          ],
          "histogram2d": [
           {
            "colorbar": {
             "outlinewidth": 0,
             "ticks": ""
            },
            "colorscale": [
             [
              0,
              "#0d0887"
             ],
             [
              0.1111111111111111,
              "#46039f"
             ],
             [
              0.2222222222222222,
              "#7201a8"
             ],
             [
              0.3333333333333333,
              "#9c179e"
             ],
             [
              0.4444444444444444,
              "#bd3786"
             ],
             [
              0.5555555555555556,
              "#d8576b"
             ],
             [
              0.6666666666666666,
              "#ed7953"
             ],
             [
              0.7777777777777778,
              "#fb9f3a"
             ],
             [
              0.8888888888888888,
              "#fdca26"
             ],
             [
              1,
              "#f0f921"
             ]
            ],
            "type": "histogram2d"
           }
          ],
          "histogram2dcontour": [
           {
            "colorbar": {
             "outlinewidth": 0,
             "ticks": ""
            },
            "colorscale": [
             [
              0,
              "#0d0887"
             ],
             [
              0.1111111111111111,
              "#46039f"
             ],
             [
              0.2222222222222222,
              "#7201a8"
             ],
             [
              0.3333333333333333,
              "#9c179e"
             ],
             [
              0.4444444444444444,
              "#bd3786"
             ],
             [
              0.5555555555555556,
              "#d8576b"
             ],
             [
              0.6666666666666666,
              "#ed7953"
             ],
             [
              0.7777777777777778,
              "#fb9f3a"
             ],
             [
              0.8888888888888888,
              "#fdca26"
             ],
             [
              1,
              "#f0f921"
             ]
            ],
            "type": "histogram2dcontour"
           }
          ],
          "mesh3d": [
           {
            "colorbar": {
             "outlinewidth": 0,
             "ticks": ""
            },
            "type": "mesh3d"
           }
          ],
          "parcoords": [
           {
            "line": {
             "colorbar": {
              "outlinewidth": 0,
              "ticks": ""
             }
            },
            "type": "parcoords"
           }
          ],
          "pie": [
           {
            "automargin": true,
            "type": "pie"
           }
          ],
          "scatter": [
           {
            "fillpattern": {
             "fillmode": "overlay",
             "size": 10,
             "solidity": 0.2
            },
            "type": "scatter"
           }
          ],
          "scatter3d": [
           {
            "line": {
             "colorbar": {
              "outlinewidth": 0,
              "ticks": ""
             }
            },
            "marker": {
             "colorbar": {
              "outlinewidth": 0,
              "ticks": ""
             }
            },
            "type": "scatter3d"
           }
          ],
          "scattercarpet": [
           {
            "marker": {
             "colorbar": {
              "outlinewidth": 0,
              "ticks": ""
             }
            },
            "type": "scattercarpet"
           }
          ],
          "scattergeo": [
           {
            "marker": {
             "colorbar": {
              "outlinewidth": 0,
              "ticks": ""
             }
            },
            "type": "scattergeo"
           }
          ],
          "scattergl": [
           {
            "marker": {
             "colorbar": {
              "outlinewidth": 0,
              "ticks": ""
             }
            },
            "type": "scattergl"
           }
          ],
          "scattermapbox": [
           {
            "marker": {
             "colorbar": {
              "outlinewidth": 0,
              "ticks": ""
             }
            },
            "type": "scattermapbox"
           }
          ],
          "scatterpolar": [
           {
            "marker": {
             "colorbar": {
              "outlinewidth": 0,
              "ticks": ""
             }
            },
            "type": "scatterpolar"
           }
          ],
          "scatterpolargl": [
           {
            "marker": {
             "colorbar": {
              "outlinewidth": 0,
              "ticks": ""
             }
            },
            "type": "scatterpolargl"
           }
          ],
          "scatterternary": [
           {
            "marker": {
             "colorbar": {
              "outlinewidth": 0,
              "ticks": ""
             }
            },
            "type": "scatterternary"
           }
          ],
          "surface": [
           {
            "colorbar": {
             "outlinewidth": 0,
             "ticks": ""
            },
            "colorscale": [
             [
              0,
              "#0d0887"
             ],
             [
              0.1111111111111111,
              "#46039f"
             ],
             [
              0.2222222222222222,
              "#7201a8"
             ],
             [
              0.3333333333333333,
              "#9c179e"
             ],
             [
              0.4444444444444444,
              "#bd3786"
             ],
             [
              0.5555555555555556,
              "#d8576b"
             ],
             [
              0.6666666666666666,
              "#ed7953"
             ],
             [
              0.7777777777777778,
              "#fb9f3a"
             ],
             [
              0.8888888888888888,
              "#fdca26"
             ],
             [
              1,
              "#f0f921"
             ]
            ],
            "type": "surface"
           }
          ],
          "table": [
           {
            "cells": {
             "fill": {
              "color": "#EBF0F8"
             },
             "line": {
              "color": "white"
             }
            },
            "header": {
             "fill": {
              "color": "#C8D4E3"
             },
             "line": {
              "color": "white"
             }
            },
            "type": "table"
           }
          ]
         },
         "layout": {
          "annotationdefaults": {
           "arrowcolor": "#2a3f5f",
           "arrowhead": 0,
           "arrowwidth": 1
          },
          "autotypenumbers": "strict",
          "coloraxis": {
           "colorbar": {
            "outlinewidth": 0,
            "ticks": ""
           }
          },
          "colorscale": {
           "diverging": [
            [
             0,
             "#8e0152"
            ],
            [
             0.1,
             "#c51b7d"
            ],
            [
             0.2,
             "#de77ae"
            ],
            [
             0.3,
             "#f1b6da"
            ],
            [
             0.4,
             "#fde0ef"
            ],
            [
             0.5,
             "#f7f7f7"
            ],
            [
             0.6,
             "#e6f5d0"
            ],
            [
             0.7,
             "#b8e186"
            ],
            [
             0.8,
             "#7fbc41"
            ],
            [
             0.9,
             "#4d9221"
            ],
            [
             1,
             "#276419"
            ]
           ],
           "sequential": [
            [
             0,
             "#0d0887"
            ],
            [
             0.1111111111111111,
             "#46039f"
            ],
            [
             0.2222222222222222,
             "#7201a8"
            ],
            [
             0.3333333333333333,
             "#9c179e"
            ],
            [
             0.4444444444444444,
             "#bd3786"
            ],
            [
             0.5555555555555556,
             "#d8576b"
            ],
            [
             0.6666666666666666,
             "#ed7953"
            ],
            [
             0.7777777777777778,
             "#fb9f3a"
            ],
            [
             0.8888888888888888,
             "#fdca26"
            ],
            [
             1,
             "#f0f921"
            ]
           ],
           "sequentialminus": [
            [
             0,
             "#0d0887"
            ],
            [
             0.1111111111111111,
             "#46039f"
            ],
            [
             0.2222222222222222,
             "#7201a8"
            ],
            [
             0.3333333333333333,
             "#9c179e"
            ],
            [
             0.4444444444444444,
             "#bd3786"
            ],
            [
             0.5555555555555556,
             "#d8576b"
            ],
            [
             0.6666666666666666,
             "#ed7953"
            ],
            [
             0.7777777777777778,
             "#fb9f3a"
            ],
            [
             0.8888888888888888,
             "#fdca26"
            ],
            [
             1,
             "#f0f921"
            ]
           ]
          },
          "colorway": [
           "#636efa",
           "#EF553B",
           "#00cc96",
           "#ab63fa",
           "#FFA15A",
           "#19d3f3",
           "#FF6692",
           "#B6E880",
           "#FF97FF",
           "#FECB52"
          ],
          "font": {
           "color": "#2a3f5f"
          },
          "geo": {
           "bgcolor": "white",
           "lakecolor": "white",
           "landcolor": "#E5ECF6",
           "showlakes": true,
           "showland": true,
           "subunitcolor": "white"
          },
          "hoverlabel": {
           "align": "left"
          },
          "hovermode": "closest",
          "mapbox": {
           "style": "light"
          },
          "paper_bgcolor": "white",
          "plot_bgcolor": "#E5ECF6",
          "polar": {
           "angularaxis": {
            "gridcolor": "white",
            "linecolor": "white",
            "ticks": ""
           },
           "bgcolor": "#E5ECF6",
           "radialaxis": {
            "gridcolor": "white",
            "linecolor": "white",
            "ticks": ""
           }
          },
          "scene": {
           "xaxis": {
            "backgroundcolor": "#E5ECF6",
            "gridcolor": "white",
            "gridwidth": 2,
            "linecolor": "white",
            "showbackground": true,
            "ticks": "",
            "zerolinecolor": "white"
           },
           "yaxis": {
            "backgroundcolor": "#E5ECF6",
            "gridcolor": "white",
            "gridwidth": 2,
            "linecolor": "white",
            "showbackground": true,
            "ticks": "",
            "zerolinecolor": "white"
           },
           "zaxis": {
            "backgroundcolor": "#E5ECF6",
            "gridcolor": "white",
            "gridwidth": 2,
            "linecolor": "white",
            "showbackground": true,
            "ticks": "",
            "zerolinecolor": "white"
           }
          },
          "shapedefaults": {
           "line": {
            "color": "#2a3f5f"
           }
          },
          "ternary": {
           "aaxis": {
            "gridcolor": "white",
            "linecolor": "white",
            "ticks": ""
           },
           "baxis": {
            "gridcolor": "white",
            "linecolor": "white",
            "ticks": ""
           },
           "bgcolor": "#E5ECF6",
           "caxis": {
            "gridcolor": "white",
            "linecolor": "white",
            "ticks": ""
           }
          },
          "title": {
           "x": 0.05
          },
          "xaxis": {
           "automargin": true,
           "gridcolor": "white",
           "linecolor": "white",
           "ticks": "",
           "title": {
            "standoff": 15
           },
           "zerolinecolor": "white",
           "zerolinewidth": 2
          },
          "yaxis": {
           "automargin": true,
           "gridcolor": "white",
           "linecolor": "white",
           "ticks": "",
           "title": {
            "standoff": 15
           },
           "zerolinecolor": "white",
           "zerolinewidth": 2
          }
         }
        },
        "title": {
         "text": "Comparison of public debt every country"
        },
        "xaxis": {
         "anchor": "y",
         "domain": [
          0,
          1
         ],
         "title": {
          "font": {
           "size": 5
          },
          "text": "Sepal Width"
         }
        },
        "yaxis": {
         "anchor": "x",
         "domain": [
          0,
          1
         ],
         "title": {
          "font": {
           "size": 5
          },
          "text": "Sepal Length"
         }
        }
       }
      }
     },
     "metadata": {},
     "output_type": "display_data"
    }
   ],
   "source": [
    "fig = px.bar(df, x='Country', y=' Public debt', color='continent', title=\"Comparison of public debt every country\")\n",
    "\n",
    "fig.update_layout(xaxis=dict(title=dict(text=\"Sepal Width\", font=dict(size=5))),\n",
    "                  yaxis=dict(title=dict(text=\"Sepal Length\", font=dict(size=5))))\n",
    "\n",
    "fig.show()"
   ]
  },
  {
   "cell_type": "code",
   "execution_count": null,
   "id": "01b03f67",
   "metadata": {},
   "outputs": [],
   "source": []
  },
  {
   "cell_type": "code",
   "execution_count": 164,
   "id": "e7a7811f",
   "metadata": {},
   "outputs": [
    {
     "data": {
      "application/vnd.plotly.v1+json": {
       "config": {
        "plotlyServerURL": "https://plot.ly"
       },
       "data": [
        {
         "alignmentgroup": "True",
         "hovertemplate": "continent=Asia<br>Country=%{x}<br> Unemployment rate=%{y}<extra></extra>",
         "legendgroup": "Asia",
         "marker": {
          "color": "#636efa",
          "pattern": {
           "shape": ""
          }
         },
         "name": "Asia",
         "offsetgroup": "Asia",
         "orientation": "v",
         "showlegend": true,
         "textposition": "auto",
         "type": "bar",
         "x": [
          "Japan",
          "Saudi Arabia",
          "China",
          "Hong Kong",
          "Kuwait",
          "Malaysia",
          "Singapore",
          "Indonesia",
          "Thailand",
          "United Arab Emirates",
          "Qatar",
          "India",
          "Philippines",
          "Oman",
          "Pakistan",
          "Bahrain",
          "Uzbekistan",
          "Yemen",
          "Bangladesh",
          "Israel",
          "Jordan",
          "Turkmenistan",
          "Kazakhstan",
          "Tajikistan",
          "Kyrgyzstan",
          "Armenia",
          "Cambodia",
          "Sri Lanka",
          "Cyprus",
          "Georgia",
          "Azerbaijan",
          "Turkey"
         ],
         "xaxis": "x",
         "y": [
          4.7,
          25,
          9.8,
          6.7,
          2.2,
          3,
          3.4,
          9.2,
          1.5,
          2.4,
          2.7,
          9.2,
          11.7,
          15,
          8.3,
          15,
          0.6,
          35,
          40,
          10.7,
          15,
          60,
          8,
          40,
          18,
          30,
          2.5,
          7.8,
          3.2,
          17,
          1.2,
          9.3
         ],
         "yaxis": "y"
        },
        {
         "alignmentgroup": "True",
         "hovertemplate": "continent=Europe<br>Country=%{x}<br> Unemployment rate=%{y}<extra></extra>",
         "legendgroup": "Europe",
         "marker": {
          "color": "#EF553B",
          "pattern": {
           "shape": ""
          }
         },
         "name": "Europe",
         "offsetgroup": "Europe",
         "orientation": "v",
         "showlegend": true,
         "textposition": "auto",
         "type": "bar",
         "x": [
          "Germany",
          "Switzerland",
          "Norway",
          "Sweden",
          "Netherlands",
          "Belgium",
          "Finland",
          "Denmark",
          "Ukraine",
          "Bulgaria",
          "Slovenia",
          "France",
          "Albania",
          "Iceland",
          "Belarus",
          "Estonia",
          "Latvia",
          "Slovakia",
          "Lithuania",
          "Croatia",
          "Bosnia and Herzegovina",
          "Ireland",
          "Austria",
          "Romania",
          "Poland",
          "Czech Republic",
          "Hungary",
          "Greece",
          "Portugal",
          "Italy",
          "Spain"
         ],
         "xaxis": "x",
         "y": [
          10.6,
          3.4,
          4.3,
          5.6,
          6,
          12,
          8.9,
          6.2,
          3.5,
          12.7,
          6.4,
          10.1,
          14.8,
          3.1,
          2,
          9.6,
          8.8,
          13.1,
          8,
          13.8,
          44,
          4.3,
          4.4,
          6.3,
          19.5,
          10.6,
          5.9,
          10,
          6.5,
          8.6,
          10.4
         ],
         "yaxis": "y"
        },
        {
         "alignmentgroup": "True",
         "hovertemplate": "continent=Americas<br>Country=%{x}<br> Unemployment rate=%{y}<extra></extra>",
         "legendgroup": "Americas",
         "marker": {
          "color": "#00cc96",
          "pattern": {
           "shape": ""
          }
         },
         "name": "Americas",
         "offsetgroup": "Americas",
         "orientation": "v",
         "showlegend": true,
         "textposition": "auto",
         "type": "bar",
         "x": [
          "Canada",
          "Brazil",
          "Argentina",
          "Chile",
          "Trinidad and Tobago",
          "Dominican Republic",
          "Ecuador",
          "Honduras",
          "Uruguay",
          "Peru",
          "Paraguay",
          "Belize",
          "Guyana",
          "Cuba",
          "Panama",
          "Jamaica",
          "Nicaragua",
          "El Salvador",
          "Costa Rica",
          "Guatemala",
          "Colombia",
          "Mexico"
         ],
         "xaxis": "x",
         "y": [
          7,
          11.5,
          14.8,
          8.5,
          10.4,
          17,
          11.1,
          28.5,
          13,
          9.6,
          15.1,
          12.9,
          null,
          2.5,
          12.6,
          15,
          7.8,
          6.3,
          6.6,
          7.5,
          13.6,
          3.2
         ],
         "yaxis": "y"
        },
        {
         "alignmentgroup": "True",
         "hovertemplate": "continent=Africa<br>Country=%{x}<br> Unemployment rate=%{y}<extra></extra>",
         "legendgroup": "Africa",
         "marker": {
          "color": "#ab63fa",
          "pattern": {
           "shape": ""
          }
         },
         "name": "Africa",
         "offsetgroup": "Africa",
         "orientation": "v",
         "showlegend": true,
         "textposition": "auto",
         "type": "bar",
         "x": [
          "Algeria",
          "Nigeria",
          "Egypt",
          "Botswana",
          "Chad",
          "Mauritius",
          "Gabon",
          "Ghana",
          "Tunisia",
          "Angola",
          "Malawi",
          "Burundi",
          "Swaziland",
          "Mozambique",
          "Lesotho",
          "Cameroon",
          "Benin",
          "Zambia",
          "Rwanda",
          "Zimbabwe",
          "Madagascar",
          "Guinea",
          "Kenya",
          "Ethiopia",
          "Burkina Faso",
          "Senegal",
          "Equatorial Guinea",
          "Uganda",
          "Sudan",
          "South Africa"
         ],
         "xaxis": "x",
         "y": [
          25.4,
          null,
          10.9,
          23.8,
          null,
          10.8,
          21,
          20,
          13.8,
          null,
          null,
          null,
          34,
          21,
          45,
          30,
          null,
          50,
          null,
          70,
          null,
          null,
          40,
          null,
          null,
          48,
          30,
          null,
          18.7,
          26.2
         ],
         "yaxis": "y"
        },
        {
         "alignmentgroup": "True",
         "hovertemplate": "continent=Oceania<br>Country=%{x}<br> Unemployment rate=%{y}<extra></extra>",
         "legendgroup": "Oceania",
         "marker": {
          "color": "#FFA15A",
          "pattern": {
           "shape": ""
          }
         },
         "name": "Oceania",
         "offsetgroup": "Oceania",
         "orientation": "v",
         "showlegend": true,
         "textposition": "auto",
         "type": "bar",
         "x": [
          "New Zealand",
          "Australia"
         ],
         "xaxis": "x",
         "y": [
          4.2,
          5.1
         ],
         "yaxis": "y"
        }
       ],
       "layout": {
        "barmode": "relative",
        "legend": {
         "title": {
          "text": "continent"
         },
         "tracegroupgap": 0
        },
        "template": {
         "data": {
          "bar": [
           {
            "error_x": {
             "color": "#2a3f5f"
            },
            "error_y": {
             "color": "#2a3f5f"
            },
            "marker": {
             "line": {
              "color": "#E5ECF6",
              "width": 0.5
             },
             "pattern": {
              "fillmode": "overlay",
              "size": 10,
              "solidity": 0.2
             }
            },
            "type": "bar"
           }
          ],
          "barpolar": [
           {
            "marker": {
             "line": {
              "color": "#E5ECF6",
              "width": 0.5
             },
             "pattern": {
              "fillmode": "overlay",
              "size": 10,
              "solidity": 0.2
             }
            },
            "type": "barpolar"
           }
          ],
          "carpet": [
           {
            "aaxis": {
             "endlinecolor": "#2a3f5f",
             "gridcolor": "white",
             "linecolor": "white",
             "minorgridcolor": "white",
             "startlinecolor": "#2a3f5f"
            },
            "baxis": {
             "endlinecolor": "#2a3f5f",
             "gridcolor": "white",
             "linecolor": "white",
             "minorgridcolor": "white",
             "startlinecolor": "#2a3f5f"
            },
            "type": "carpet"
           }
          ],
          "choropleth": [
           {
            "colorbar": {
             "outlinewidth": 0,
             "ticks": ""
            },
            "type": "choropleth"
           }
          ],
          "contour": [
           {
            "colorbar": {
             "outlinewidth": 0,
             "ticks": ""
            },
            "colorscale": [
             [
              0,
              "#0d0887"
             ],
             [
              0.1111111111111111,
              "#46039f"
             ],
             [
              0.2222222222222222,
              "#7201a8"
             ],
             [
              0.3333333333333333,
              "#9c179e"
             ],
             [
              0.4444444444444444,
              "#bd3786"
             ],
             [
              0.5555555555555556,
              "#d8576b"
             ],
             [
              0.6666666666666666,
              "#ed7953"
             ],
             [
              0.7777777777777778,
              "#fb9f3a"
             ],
             [
              0.8888888888888888,
              "#fdca26"
             ],
             [
              1,
              "#f0f921"
             ]
            ],
            "type": "contour"
           }
          ],
          "contourcarpet": [
           {
            "colorbar": {
             "outlinewidth": 0,
             "ticks": ""
            },
            "type": "contourcarpet"
           }
          ],
          "heatmap": [
           {
            "colorbar": {
             "outlinewidth": 0,
             "ticks": ""
            },
            "colorscale": [
             [
              0,
              "#0d0887"
             ],
             [
              0.1111111111111111,
              "#46039f"
             ],
             [
              0.2222222222222222,
              "#7201a8"
             ],
             [
              0.3333333333333333,
              "#9c179e"
             ],
             [
              0.4444444444444444,
              "#bd3786"
             ],
             [
              0.5555555555555556,
              "#d8576b"
             ],
             [
              0.6666666666666666,
              "#ed7953"
             ],
             [
              0.7777777777777778,
              "#fb9f3a"
             ],
             [
              0.8888888888888888,
              "#fdca26"
             ],
             [
              1,
              "#f0f921"
             ]
            ],
            "type": "heatmap"
           }
          ],
          "heatmapgl": [
           {
            "colorbar": {
             "outlinewidth": 0,
             "ticks": ""
            },
            "colorscale": [
             [
              0,
              "#0d0887"
             ],
             [
              0.1111111111111111,
              "#46039f"
             ],
             [
              0.2222222222222222,
              "#7201a8"
             ],
             [
              0.3333333333333333,
              "#9c179e"
             ],
             [
              0.4444444444444444,
              "#bd3786"
             ],
             [
              0.5555555555555556,
              "#d8576b"
             ],
             [
              0.6666666666666666,
              "#ed7953"
             ],
             [
              0.7777777777777778,
              "#fb9f3a"
             ],
             [
              0.8888888888888888,
              "#fdca26"
             ],
             [
              1,
              "#f0f921"
             ]
            ],
            "type": "heatmapgl"
           }
          ],
          "histogram": [
           {
            "marker": {
             "pattern": {
              "fillmode": "overlay",
              "size": 10,
              "solidity": 0.2
             }
            },
            "type": "histogram"
           }
          ],
          "histogram2d": [
           {
            "colorbar": {
             "outlinewidth": 0,
             "ticks": ""
            },
            "colorscale": [
             [
              0,
              "#0d0887"
             ],
             [
              0.1111111111111111,
              "#46039f"
             ],
             [
              0.2222222222222222,
              "#7201a8"
             ],
             [
              0.3333333333333333,
              "#9c179e"
             ],
             [
              0.4444444444444444,
              "#bd3786"
             ],
             [
              0.5555555555555556,
              "#d8576b"
             ],
             [
              0.6666666666666666,
              "#ed7953"
             ],
             [
              0.7777777777777778,
              "#fb9f3a"
             ],
             [
              0.8888888888888888,
              "#fdca26"
             ],
             [
              1,
              "#f0f921"
             ]
            ],
            "type": "histogram2d"
           }
          ],
          "histogram2dcontour": [
           {
            "colorbar": {
             "outlinewidth": 0,
             "ticks": ""
            },
            "colorscale": [
             [
              0,
              "#0d0887"
             ],
             [
              0.1111111111111111,
              "#46039f"
             ],
             [
              0.2222222222222222,
              "#7201a8"
             ],
             [
              0.3333333333333333,
              "#9c179e"
             ],
             [
              0.4444444444444444,
              "#bd3786"
             ],
             [
              0.5555555555555556,
              "#d8576b"
             ],
             [
              0.6666666666666666,
              "#ed7953"
             ],
             [
              0.7777777777777778,
              "#fb9f3a"
             ],
             [
              0.8888888888888888,
              "#fdca26"
             ],
             [
              1,
              "#f0f921"
             ]
            ],
            "type": "histogram2dcontour"
           }
          ],
          "mesh3d": [
           {
            "colorbar": {
             "outlinewidth": 0,
             "ticks": ""
            },
            "type": "mesh3d"
           }
          ],
          "parcoords": [
           {
            "line": {
             "colorbar": {
              "outlinewidth": 0,
              "ticks": ""
             }
            },
            "type": "parcoords"
           }
          ],
          "pie": [
           {
            "automargin": true,
            "type": "pie"
           }
          ],
          "scatter": [
           {
            "fillpattern": {
             "fillmode": "overlay",
             "size": 10,
             "solidity": 0.2
            },
            "type": "scatter"
           }
          ],
          "scatter3d": [
           {
            "line": {
             "colorbar": {
              "outlinewidth": 0,
              "ticks": ""
             }
            },
            "marker": {
             "colorbar": {
              "outlinewidth": 0,
              "ticks": ""
             }
            },
            "type": "scatter3d"
           }
          ],
          "scattercarpet": [
           {
            "marker": {
             "colorbar": {
              "outlinewidth": 0,
              "ticks": ""
             }
            },
            "type": "scattercarpet"
           }
          ],
          "scattergeo": [
           {
            "marker": {
             "colorbar": {
              "outlinewidth": 0,
              "ticks": ""
             }
            },
            "type": "scattergeo"
           }
          ],
          "scattergl": [
           {
            "marker": {
             "colorbar": {
              "outlinewidth": 0,
              "ticks": ""
             }
            },
            "type": "scattergl"
           }
          ],
          "scattermapbox": [
           {
            "marker": {
             "colorbar": {
              "outlinewidth": 0,
              "ticks": ""
             }
            },
            "type": "scattermapbox"
           }
          ],
          "scatterpolar": [
           {
            "marker": {
             "colorbar": {
              "outlinewidth": 0,
              "ticks": ""
             }
            },
            "type": "scatterpolar"
           }
          ],
          "scatterpolargl": [
           {
            "marker": {
             "colorbar": {
              "outlinewidth": 0,
              "ticks": ""
             }
            },
            "type": "scatterpolargl"
           }
          ],
          "scatterternary": [
           {
            "marker": {
             "colorbar": {
              "outlinewidth": 0,
              "ticks": ""
             }
            },
            "type": "scatterternary"
           }
          ],
          "surface": [
           {
            "colorbar": {
             "outlinewidth": 0,
             "ticks": ""
            },
            "colorscale": [
             [
              0,
              "#0d0887"
             ],
             [
              0.1111111111111111,
              "#46039f"
             ],
             [
              0.2222222222222222,
              "#7201a8"
             ],
             [
              0.3333333333333333,
              "#9c179e"
             ],
             [
              0.4444444444444444,
              "#bd3786"
             ],
             [
              0.5555555555555556,
              "#d8576b"
             ],
             [
              0.6666666666666666,
              "#ed7953"
             ],
             [
              0.7777777777777778,
              "#fb9f3a"
             ],
             [
              0.8888888888888888,
              "#fdca26"
             ],
             [
              1,
              "#f0f921"
             ]
            ],
            "type": "surface"
           }
          ],
          "table": [
           {
            "cells": {
             "fill": {
              "color": "#EBF0F8"
             },
             "line": {
              "color": "white"
             }
            },
            "header": {
             "fill": {
              "color": "#C8D4E3"
             },
             "line": {
              "color": "white"
             }
            },
            "type": "table"
           }
          ]
         },
         "layout": {
          "annotationdefaults": {
           "arrowcolor": "#2a3f5f",
           "arrowhead": 0,
           "arrowwidth": 1
          },
          "autotypenumbers": "strict",
          "coloraxis": {
           "colorbar": {
            "outlinewidth": 0,
            "ticks": ""
           }
          },
          "colorscale": {
           "diverging": [
            [
             0,
             "#8e0152"
            ],
            [
             0.1,
             "#c51b7d"
            ],
            [
             0.2,
             "#de77ae"
            ],
            [
             0.3,
             "#f1b6da"
            ],
            [
             0.4,
             "#fde0ef"
            ],
            [
             0.5,
             "#f7f7f7"
            ],
            [
             0.6,
             "#e6f5d0"
            ],
            [
             0.7,
             "#b8e186"
            ],
            [
             0.8,
             "#7fbc41"
            ],
            [
             0.9,
             "#4d9221"
            ],
            [
             1,
             "#276419"
            ]
           ],
           "sequential": [
            [
             0,
             "#0d0887"
            ],
            [
             0.1111111111111111,
             "#46039f"
            ],
            [
             0.2222222222222222,
             "#7201a8"
            ],
            [
             0.3333333333333333,
             "#9c179e"
            ],
            [
             0.4444444444444444,
             "#bd3786"
            ],
            [
             0.5555555555555556,
             "#d8576b"
            ],
            [
             0.6666666666666666,
             "#ed7953"
            ],
            [
             0.7777777777777778,
             "#fb9f3a"
            ],
            [
             0.8888888888888888,
             "#fdca26"
            ],
            [
             1,
             "#f0f921"
            ]
           ],
           "sequentialminus": [
            [
             0,
             "#0d0887"
            ],
            [
             0.1111111111111111,
             "#46039f"
            ],
            [
             0.2222222222222222,
             "#7201a8"
            ],
            [
             0.3333333333333333,
             "#9c179e"
            ],
            [
             0.4444444444444444,
             "#bd3786"
            ],
            [
             0.5555555555555556,
             "#d8576b"
            ],
            [
             0.6666666666666666,
             "#ed7953"
            ],
            [
             0.7777777777777778,
             "#fb9f3a"
            ],
            [
             0.8888888888888888,
             "#fdca26"
            ],
            [
             1,
             "#f0f921"
            ]
           ]
          },
          "colorway": [
           "#636efa",
           "#EF553B",
           "#00cc96",
           "#ab63fa",
           "#FFA15A",
           "#19d3f3",
           "#FF6692",
           "#B6E880",
           "#FF97FF",
           "#FECB52"
          ],
          "font": {
           "color": "#2a3f5f"
          },
          "geo": {
           "bgcolor": "white",
           "lakecolor": "white",
           "landcolor": "#E5ECF6",
           "showlakes": true,
           "showland": true,
           "subunitcolor": "white"
          },
          "hoverlabel": {
           "align": "left"
          },
          "hovermode": "closest",
          "mapbox": {
           "style": "light"
          },
          "paper_bgcolor": "white",
          "plot_bgcolor": "#E5ECF6",
          "polar": {
           "angularaxis": {
            "gridcolor": "white",
            "linecolor": "white",
            "ticks": ""
           },
           "bgcolor": "#E5ECF6",
           "radialaxis": {
            "gridcolor": "white",
            "linecolor": "white",
            "ticks": ""
           }
          },
          "scene": {
           "xaxis": {
            "backgroundcolor": "#E5ECF6",
            "gridcolor": "white",
            "gridwidth": 2,
            "linecolor": "white",
            "showbackground": true,
            "ticks": "",
            "zerolinecolor": "white"
           },
           "yaxis": {
            "backgroundcolor": "#E5ECF6",
            "gridcolor": "white",
            "gridwidth": 2,
            "linecolor": "white",
            "showbackground": true,
            "ticks": "",
            "zerolinecolor": "white"
           },
           "zaxis": {
            "backgroundcolor": "#E5ECF6",
            "gridcolor": "white",
            "gridwidth": 2,
            "linecolor": "white",
            "showbackground": true,
            "ticks": "",
            "zerolinecolor": "white"
           }
          },
          "shapedefaults": {
           "line": {
            "color": "#2a3f5f"
           }
          },
          "ternary": {
           "aaxis": {
            "gridcolor": "white",
            "linecolor": "white",
            "ticks": ""
           },
           "baxis": {
            "gridcolor": "white",
            "linecolor": "white",
            "ticks": ""
           },
           "bgcolor": "#E5ECF6",
           "caxis": {
            "gridcolor": "white",
            "linecolor": "white",
            "ticks": ""
           }
          },
          "title": {
           "x": 0.05
          },
          "xaxis": {
           "automargin": true,
           "gridcolor": "white",
           "linecolor": "white",
           "ticks": "",
           "title": {
            "standoff": 15
           },
           "zerolinecolor": "white",
           "zerolinewidth": 2
          },
          "yaxis": {
           "automargin": true,
           "gridcolor": "white",
           "linecolor": "white",
           "ticks": "",
           "title": {
            "standoff": 15
           },
           "zerolinecolor": "white",
           "zerolinewidth": 2
          }
         }
        },
        "title": {
         "text": "Comparison of unemployement rate every country"
        },
        "xaxis": {
         "anchor": "y",
         "domain": [
          0,
          1
         ],
         "title": {
          "font": {
           "size": 5
          },
          "text": "Sepal Width"
         }
        },
        "yaxis": {
         "anchor": "x",
         "domain": [
          0,
          1
         ],
         "title": {
          "font": {
           "size": 5
          },
          "text": "Sepal Length"
         }
        }
       }
      }
     },
     "metadata": {},
     "output_type": "display_data"
    }
   ],
   "source": [
    "fig = px.bar(df, x='Country', y=' Unemployment rate', color='continent', title=\"Comparison of unemployement rate every country\")\n",
    "\n",
    "fig.update_layout(xaxis=dict(title=dict(text=\"Sepal Width\", font=dict(size=5))),\n",
    "                  yaxis=dict(title=dict(text=\"Sepal Length\", font=dict(size=5))))\n",
    "\n",
    "fig.show()"
   ]
  },
  {
   "attachments": {},
   "cell_type": "markdown",
   "id": "b117137a",
   "metadata": {},
   "source": [
    "* Visualisasi Map"
   ]
  },
  {
   "cell_type": "code",
   "execution_count": 165,
   "id": "3e513c2d",
   "metadata": {},
   "outputs": [
    {
     "data": {
      "application/vnd.plotly.v1+json": {
       "config": {
        "plotlyServerURL": "https://plot.ly"
       },
       "data": [
        {
         "colorscale": [
          [
           0,
           "#636efa"
          ],
          [
           1,
           "#636efa"
          ]
         ],
         "geo": "geo",
         "hovertemplate": "continent=Asia<br>Country=%{location}<extra></extra>",
         "locationmode": "country names",
         "locations": [
          "Japan",
          "Saudi Arabia",
          "China",
          "Hong Kong",
          "Kuwait",
          "Malaysia",
          "Singapore",
          "Indonesia",
          "Thailand",
          "United Arab Emirates",
          "Qatar",
          "India",
          "Philippines",
          "Oman",
          "Pakistan",
          "Bahrain",
          "Uzbekistan",
          "Yemen",
          "Bangladesh",
          "Israel",
          "Jordan",
          "Turkmenistan",
          "Kazakhstan",
          "Tajikistan",
          "Kyrgyzstan",
          "Armenia",
          "Cambodia",
          "Sri Lanka",
          "Cyprus",
          "Georgia",
          "Azerbaijan",
          "Turkey"
         ],
         "name": "Asia",
         "showlegend": true,
         "showscale": false,
         "type": "choropleth",
         "z": [
          1,
          1,
          1,
          1,
          1,
          1,
          1,
          1,
          1,
          1,
          1,
          1,
          1,
          1,
          1,
          1,
          1,
          1,
          1,
          1,
          1,
          1,
          1,
          1,
          1,
          1,
          1,
          1,
          1,
          1,
          1,
          1
         ]
        },
        {
         "colorscale": [
          [
           0,
           "#EF553B"
          ],
          [
           1,
           "#EF553B"
          ]
         ],
         "geo": "geo",
         "hovertemplate": "continent=Europe<br>Country=%{location}<extra></extra>",
         "locationmode": "country names",
         "locations": [
          "Germany",
          "Switzerland",
          "Norway",
          "Sweden",
          "Netherlands",
          "Belgium",
          "Finland",
          "Denmark",
          "Ukraine",
          "Bulgaria",
          "Slovenia",
          "France",
          "Albania",
          "Iceland",
          "Belarus",
          "Estonia",
          "Latvia",
          "Slovakia",
          "Lithuania",
          "Croatia",
          "Bosnia and Herzegovina",
          "Ireland",
          "Austria",
          "Romania",
          "Poland",
          "Czech Republic",
          "Hungary",
          "Greece",
          "Portugal",
          "Italy",
          "Spain"
         ],
         "name": "Europe",
         "showlegend": true,
         "showscale": false,
         "type": "choropleth",
         "z": [
          1,
          1,
          1,
          1,
          1,
          1,
          1,
          1,
          1,
          1,
          1,
          1,
          1,
          1,
          1,
          1,
          1,
          1,
          1,
          1,
          1,
          1,
          1,
          1,
          1,
          1,
          1,
          1,
          1,
          1,
          1
         ]
        },
        {
         "colorscale": [
          [
           0,
           "#00cc96"
          ],
          [
           1,
           "#00cc96"
          ]
         ],
         "geo": "geo",
         "hovertemplate": "continent=Americas<br>Country=%{location}<extra></extra>",
         "locationmode": "country names",
         "locations": [
          "Canada",
          "Brazil",
          "Argentina",
          "Chile",
          "Trinidad and Tobago",
          "Dominican Republic",
          "Ecuador",
          "Honduras",
          "Uruguay",
          "Peru",
          "Paraguay",
          "Belize",
          "Guyana",
          "Cuba",
          "Panama",
          "Jamaica",
          "Nicaragua",
          "El Salvador",
          "Costa Rica",
          "Guatemala",
          "Colombia",
          "Mexico"
         ],
         "name": "Americas",
         "showlegend": true,
         "showscale": false,
         "type": "choropleth",
         "z": [
          1,
          1,
          1,
          1,
          1,
          1,
          1,
          1,
          1,
          1,
          1,
          1,
          1,
          1,
          1,
          1,
          1,
          1,
          1,
          1,
          1,
          1
         ]
        },
        {
         "colorscale": [
          [
           0,
           "#ab63fa"
          ],
          [
           1,
           "#ab63fa"
          ]
         ],
         "geo": "geo",
         "hovertemplate": "continent=Africa<br>Country=%{location}<extra></extra>",
         "locationmode": "country names",
         "locations": [
          "Algeria",
          "Nigeria",
          "Egypt",
          "Botswana",
          "Chad",
          "Mauritius",
          "Gabon",
          "Ghana",
          "Tunisia",
          "Angola",
          "Malawi",
          "Burundi",
          "Swaziland",
          "Mozambique",
          "Lesotho",
          "Cameroon",
          "Benin",
          "Zambia",
          "Rwanda",
          "Zimbabwe",
          "Madagascar",
          "Guinea",
          "Kenya",
          "Ethiopia",
          "Burkina Faso",
          "Senegal",
          "Equatorial Guinea",
          "Uganda",
          "Sudan",
          "South Africa"
         ],
         "name": "Africa",
         "showlegend": true,
         "showscale": false,
         "type": "choropleth",
         "z": [
          1,
          1,
          1,
          1,
          1,
          1,
          1,
          1,
          1,
          1,
          1,
          1,
          1,
          1,
          1,
          1,
          1,
          1,
          1,
          1,
          1,
          1,
          1,
          1,
          1,
          1,
          1,
          1,
          1,
          1
         ]
        },
        {
         "colorscale": [
          [
           0,
           "#FFA15A"
          ],
          [
           1,
           "#FFA15A"
          ]
         ],
         "geo": "geo",
         "hovertemplate": "continent=Oceania<br>Country=%{location}<extra></extra>",
         "locationmode": "country names",
         "locations": [
          "New Zealand",
          "Australia"
         ],
         "name": "Oceania",
         "showlegend": true,
         "showscale": false,
         "type": "choropleth",
         "z": [
          1,
          1
         ]
        }
       ],
       "layout": {
        "geo": {
         "center": {},
         "domain": {
          "x": [
           0,
           1
          ],
          "y": [
           0,
           1
          ]
         }
        },
        "legend": {
         "title": {
          "text": "continent"
         },
         "tracegroupgap": 0
        },
        "margin": {
         "t": 60
        },
        "template": {
         "data": {
          "bar": [
           {
            "error_x": {
             "color": "#2a3f5f"
            },
            "error_y": {
             "color": "#2a3f5f"
            },
            "marker": {
             "line": {
              "color": "#E5ECF6",
              "width": 0.5
             },
             "pattern": {
              "fillmode": "overlay",
              "size": 10,
              "solidity": 0.2
             }
            },
            "type": "bar"
           }
          ],
          "barpolar": [
           {
            "marker": {
             "line": {
              "color": "#E5ECF6",
              "width": 0.5
             },
             "pattern": {
              "fillmode": "overlay",
              "size": 10,
              "solidity": 0.2
             }
            },
            "type": "barpolar"
           }
          ],
          "carpet": [
           {
            "aaxis": {
             "endlinecolor": "#2a3f5f",
             "gridcolor": "white",
             "linecolor": "white",
             "minorgridcolor": "white",
             "startlinecolor": "#2a3f5f"
            },
            "baxis": {
             "endlinecolor": "#2a3f5f",
             "gridcolor": "white",
             "linecolor": "white",
             "minorgridcolor": "white",
             "startlinecolor": "#2a3f5f"
            },
            "type": "carpet"
           }
          ],
          "choropleth": [
           {
            "colorbar": {
             "outlinewidth": 0,
             "ticks": ""
            },
            "type": "choropleth"
           }
          ],
          "contour": [
           {
            "colorbar": {
             "outlinewidth": 0,
             "ticks": ""
            },
            "colorscale": [
             [
              0,
              "#0d0887"
             ],
             [
              0.1111111111111111,
              "#46039f"
             ],
             [
              0.2222222222222222,
              "#7201a8"
             ],
             [
              0.3333333333333333,
              "#9c179e"
             ],
             [
              0.4444444444444444,
              "#bd3786"
             ],
             [
              0.5555555555555556,
              "#d8576b"
             ],
             [
              0.6666666666666666,
              "#ed7953"
             ],
             [
              0.7777777777777778,
              "#fb9f3a"
             ],
             [
              0.8888888888888888,
              "#fdca26"
             ],
             [
              1,
              "#f0f921"
             ]
            ],
            "type": "contour"
           }
          ],
          "contourcarpet": [
           {
            "colorbar": {
             "outlinewidth": 0,
             "ticks": ""
            },
            "type": "contourcarpet"
           }
          ],
          "heatmap": [
           {
            "colorbar": {
             "outlinewidth": 0,
             "ticks": ""
            },
            "colorscale": [
             [
              0,
              "#0d0887"
             ],
             [
              0.1111111111111111,
              "#46039f"
             ],
             [
              0.2222222222222222,
              "#7201a8"
             ],
             [
              0.3333333333333333,
              "#9c179e"
             ],
             [
              0.4444444444444444,
              "#bd3786"
             ],
             [
              0.5555555555555556,
              "#d8576b"
             ],
             [
              0.6666666666666666,
              "#ed7953"
             ],
             [
              0.7777777777777778,
              "#fb9f3a"
             ],
             [
              0.8888888888888888,
              "#fdca26"
             ],
             [
              1,
              "#f0f921"
             ]
            ],
            "type": "heatmap"
           }
          ],
          "heatmapgl": [
           {
            "colorbar": {
             "outlinewidth": 0,
             "ticks": ""
            },
            "colorscale": [
             [
              0,
              "#0d0887"
             ],
             [
              0.1111111111111111,
              "#46039f"
             ],
             [
              0.2222222222222222,
              "#7201a8"
             ],
             [
              0.3333333333333333,
              "#9c179e"
             ],
             [
              0.4444444444444444,
              "#bd3786"
             ],
             [
              0.5555555555555556,
              "#d8576b"
             ],
             [
              0.6666666666666666,
              "#ed7953"
             ],
             [
              0.7777777777777778,
              "#fb9f3a"
             ],
             [
              0.8888888888888888,
              "#fdca26"
             ],
             [
              1,
              "#f0f921"
             ]
            ],
            "type": "heatmapgl"
           }
          ],
          "histogram": [
           {
            "marker": {
             "pattern": {
              "fillmode": "overlay",
              "size": 10,
              "solidity": 0.2
             }
            },
            "type": "histogram"
           }
          ],
          "histogram2d": [
           {
            "colorbar": {
             "outlinewidth": 0,
             "ticks": ""
            },
            "colorscale": [
             [
              0,
              "#0d0887"
             ],
             [
              0.1111111111111111,
              "#46039f"
             ],
             [
              0.2222222222222222,
              "#7201a8"
             ],
             [
              0.3333333333333333,
              "#9c179e"
             ],
             [
              0.4444444444444444,
              "#bd3786"
             ],
             [
              0.5555555555555556,
              "#d8576b"
             ],
             [
              0.6666666666666666,
              "#ed7953"
             ],
             [
              0.7777777777777778,
              "#fb9f3a"
             ],
             [
              0.8888888888888888,
              "#fdca26"
             ],
             [
              1,
              "#f0f921"
             ]
            ],
            "type": "histogram2d"
           }
          ],
          "histogram2dcontour": [
           {
            "colorbar": {
             "outlinewidth": 0,
             "ticks": ""
            },
            "colorscale": [
             [
              0,
              "#0d0887"
             ],
             [
              0.1111111111111111,
              "#46039f"
             ],
             [
              0.2222222222222222,
              "#7201a8"
             ],
             [
              0.3333333333333333,
              "#9c179e"
             ],
             [
              0.4444444444444444,
              "#bd3786"
             ],
             [
              0.5555555555555556,
              "#d8576b"
             ],
             [
              0.6666666666666666,
              "#ed7953"
             ],
             [
              0.7777777777777778,
              "#fb9f3a"
             ],
             [
              0.8888888888888888,
              "#fdca26"
             ],
             [
              1,
              "#f0f921"
             ]
            ],
            "type": "histogram2dcontour"
           }
          ],
          "mesh3d": [
           {
            "colorbar": {
             "outlinewidth": 0,
             "ticks": ""
            },
            "type": "mesh3d"
           }
          ],
          "parcoords": [
           {
            "line": {
             "colorbar": {
              "outlinewidth": 0,
              "ticks": ""
             }
            },
            "type": "parcoords"
           }
          ],
          "pie": [
           {
            "automargin": true,
            "type": "pie"
           }
          ],
          "scatter": [
           {
            "fillpattern": {
             "fillmode": "overlay",
             "size": 10,
             "solidity": 0.2
            },
            "type": "scatter"
           }
          ],
          "scatter3d": [
           {
            "line": {
             "colorbar": {
              "outlinewidth": 0,
              "ticks": ""
             }
            },
            "marker": {
             "colorbar": {
              "outlinewidth": 0,
              "ticks": ""
             }
            },
            "type": "scatter3d"
           }
          ],
          "scattercarpet": [
           {
            "marker": {
             "colorbar": {
              "outlinewidth": 0,
              "ticks": ""
             }
            },
            "type": "scattercarpet"
           }
          ],
          "scattergeo": [
           {
            "marker": {
             "colorbar": {
              "outlinewidth": 0,
              "ticks": ""
             }
            },
            "type": "scattergeo"
           }
          ],
          "scattergl": [
           {
            "marker": {
             "colorbar": {
              "outlinewidth": 0,
              "ticks": ""
             }
            },
            "type": "scattergl"
           }
          ],
          "scattermapbox": [
           {
            "marker": {
             "colorbar": {
              "outlinewidth": 0,
              "ticks": ""
             }
            },
            "type": "scattermapbox"
           }
          ],
          "scatterpolar": [
           {
            "marker": {
             "colorbar": {
              "outlinewidth": 0,
              "ticks": ""
             }
            },
            "type": "scatterpolar"
           }
          ],
          "scatterpolargl": [
           {
            "marker": {
             "colorbar": {
              "outlinewidth": 0,
              "ticks": ""
             }
            },
            "type": "scatterpolargl"
           }
          ],
          "scatterternary": [
           {
            "marker": {
             "colorbar": {
              "outlinewidth": 0,
              "ticks": ""
             }
            },
            "type": "scatterternary"
           }
          ],
          "surface": [
           {
            "colorbar": {
             "outlinewidth": 0,
             "ticks": ""
            },
            "colorscale": [
             [
              0,
              "#0d0887"
             ],
             [
              0.1111111111111111,
              "#46039f"
             ],
             [
              0.2222222222222222,
              "#7201a8"
             ],
             [
              0.3333333333333333,
              "#9c179e"
             ],
             [
              0.4444444444444444,
              "#bd3786"
             ],
             [
              0.5555555555555556,
              "#d8576b"
             ],
             [
              0.6666666666666666,
              "#ed7953"
             ],
             [
              0.7777777777777778,
              "#fb9f3a"
             ],
             [
              0.8888888888888888,
              "#fdca26"
             ],
             [
              1,
              "#f0f921"
             ]
            ],
            "type": "surface"
           }
          ],
          "table": [
           {
            "cells": {
             "fill": {
              "color": "#EBF0F8"
             },
             "line": {
              "color": "white"
             }
            },
            "header": {
             "fill": {
              "color": "#C8D4E3"
             },
             "line": {
              "color": "white"
             }
            },
            "type": "table"
           }
          ]
         },
         "layout": {
          "annotationdefaults": {
           "arrowcolor": "#2a3f5f",
           "arrowhead": 0,
           "arrowwidth": 1
          },
          "autotypenumbers": "strict",
          "coloraxis": {
           "colorbar": {
            "outlinewidth": 0,
            "ticks": ""
           }
          },
          "colorscale": {
           "diverging": [
            [
             0,
             "#8e0152"
            ],
            [
             0.1,
             "#c51b7d"
            ],
            [
             0.2,
             "#de77ae"
            ],
            [
             0.3,
             "#f1b6da"
            ],
            [
             0.4,
             "#fde0ef"
            ],
            [
             0.5,
             "#f7f7f7"
            ],
            [
             0.6,
             "#e6f5d0"
            ],
            [
             0.7,
             "#b8e186"
            ],
            [
             0.8,
             "#7fbc41"
            ],
            [
             0.9,
             "#4d9221"
            ],
            [
             1,
             "#276419"
            ]
           ],
           "sequential": [
            [
             0,
             "#0d0887"
            ],
            [
             0.1111111111111111,
             "#46039f"
            ],
            [
             0.2222222222222222,
             "#7201a8"
            ],
            [
             0.3333333333333333,
             "#9c179e"
            ],
            [
             0.4444444444444444,
             "#bd3786"
            ],
            [
             0.5555555555555556,
             "#d8576b"
            ],
            [
             0.6666666666666666,
             "#ed7953"
            ],
            [
             0.7777777777777778,
             "#fb9f3a"
            ],
            [
             0.8888888888888888,
             "#fdca26"
            ],
            [
             1,
             "#f0f921"
            ]
           ],
           "sequentialminus": [
            [
             0,
             "#0d0887"
            ],
            [
             0.1111111111111111,
             "#46039f"
            ],
            [
             0.2222222222222222,
             "#7201a8"
            ],
            [
             0.3333333333333333,
             "#9c179e"
            ],
            [
             0.4444444444444444,
             "#bd3786"
            ],
            [
             0.5555555555555556,
             "#d8576b"
            ],
            [
             0.6666666666666666,
             "#ed7953"
            ],
            [
             0.7777777777777778,
             "#fb9f3a"
            ],
            [
             0.8888888888888888,
             "#fdca26"
            ],
            [
             1,
             "#f0f921"
            ]
           ]
          },
          "colorway": [
           "#636efa",
           "#EF553B",
           "#00cc96",
           "#ab63fa",
           "#FFA15A",
           "#19d3f3",
           "#FF6692",
           "#B6E880",
           "#FF97FF",
           "#FECB52"
          ],
          "font": {
           "color": "#2a3f5f"
          },
          "geo": {
           "bgcolor": "white",
           "lakecolor": "white",
           "landcolor": "#E5ECF6",
           "showlakes": true,
           "showland": true,
           "subunitcolor": "white"
          },
          "hoverlabel": {
           "align": "left"
          },
          "hovermode": "closest",
          "mapbox": {
           "style": "light"
          },
          "paper_bgcolor": "white",
          "plot_bgcolor": "#E5ECF6",
          "polar": {
           "angularaxis": {
            "gridcolor": "white",
            "linecolor": "white",
            "ticks": ""
           },
           "bgcolor": "#E5ECF6",
           "radialaxis": {
            "gridcolor": "white",
            "linecolor": "white",
            "ticks": ""
           }
          },
          "scene": {
           "xaxis": {
            "backgroundcolor": "#E5ECF6",
            "gridcolor": "white",
            "gridwidth": 2,
            "linecolor": "white",
            "showbackground": true,
            "ticks": "",
            "zerolinecolor": "white"
           },
           "yaxis": {
            "backgroundcolor": "#E5ECF6",
            "gridcolor": "white",
            "gridwidth": 2,
            "linecolor": "white",
            "showbackground": true,
            "ticks": "",
            "zerolinecolor": "white"
           },
           "zaxis": {
            "backgroundcolor": "#E5ECF6",
            "gridcolor": "white",
            "gridwidth": 2,
            "linecolor": "white",
            "showbackground": true,
            "ticks": "",
            "zerolinecolor": "white"
           }
          },
          "shapedefaults": {
           "line": {
            "color": "#2a3f5f"
           }
          },
          "ternary": {
           "aaxis": {
            "gridcolor": "white",
            "linecolor": "white",
            "ticks": ""
           },
           "baxis": {
            "gridcolor": "white",
            "linecolor": "white",
            "ticks": ""
           },
           "bgcolor": "#E5ECF6",
           "caxis": {
            "gridcolor": "white",
            "linecolor": "white",
            "ticks": ""
           }
          },
          "title": {
           "x": 0.05
          },
          "xaxis": {
           "automargin": true,
           "gridcolor": "white",
           "linecolor": "white",
           "ticks": "",
           "title": {
            "standoff": 15
           },
           "zerolinecolor": "white",
           "zerolinewidth": 2
          },
          "yaxis": {
           "automargin": true,
           "gridcolor": "white",
           "linecolor": "white",
           "ticks": "",
           "title": {
            "standoff": 15
           },
           "zerolinecolor": "white",
           "zerolinewidth": 2
          }
         }
        }
       }
      }
     },
     "metadata": {},
     "output_type": "display_data"
    }
   ],
   "source": [
    "fig = px.choropleth(df, locations='Country', locationmode='country names', color='continent')\n",
    "fig.show()"
   ]
  },
  {
   "attachments": {},
   "cell_type": "markdown",
   "id": "3333fe3f",
   "metadata": {},
   "source": [
    "## Transformasi "
   ]
  },
  {
   "attachments": {},
   "cell_type": "markdown",
   "id": "8a839ae3",
   "metadata": {},
   "source": [
    "* Trade Balance (Neraca Perdagangan)"
   ]
  },
  {
   "cell_type": "code",
   "execution_count": 166,
   "id": "7e7246bd",
   "metadata": {},
   "outputs": [],
   "source": [
    "df['  Exports '] = df['  Exports '].astype(float)\n",
    "df['  Imports '] = df['  Imports '].astype(float)\n",
    "df['trade_balance'] = df['  Exports '] - df['  Imports ']"
   ]
  },
  {
   "attachments": {},
   "cell_type": "markdown",
   "id": "520dd01b",
   "metadata": {},
   "source": [
    "* Rasio Hutang Publik"
   ]
  },
  {
   "cell_type": "code",
   "execution_count": 167,
   "id": "134fa9ca",
   "metadata": {},
   "outputs": [
    {
     "data": {
      "text/plain": [
       "Index(['Country', ' Area', ' Birth rate', '  Current account balance ',\n",
       "       ' Death rate', ' Electricity consumption', '  Electricity production ',\n",
       "       '  Exports ', '  GDP ', '  GDP per capita ', ' GDP real growth rate',\n",
       "       '  Highways ', '  Imports ', ' Industrial production growth rate',\n",
       "       ' Infant mortality rate', ' Inflation rate ', '  Internet users ',\n",
       "       ' Investment', '  Labor force ', ' Life expectancy at birth',\n",
       "       ' Military expenditures', '  Natural gas consumption ',\n",
       "       '  Oil consumption ', '  Population ', ' Public debt', ' Railways',\n",
       "       '  Reserves of foreign exchange & gold ', ' Total fertility rate',\n",
       "       ' Unemployment rate', 'continent', 'trade_balance'],\n",
       "      dtype='object')"
      ]
     },
     "execution_count": 167,
     "metadata": {},
     "output_type": "execute_result"
    }
   ],
   "source": [
    "df.columns"
   ]
  },
  {
   "cell_type": "code",
   "execution_count": null,
   "id": "55167f2f",
   "metadata": {},
   "outputs": [],
   "source": []
  }
 ],
 "metadata": {
  "kernelspec": {
   "display_name": "Python 3",
   "language": "python",
   "name": "python3"
  },
  "language_info": {
   "codemirror_mode": {
    "name": "ipython",
    "version": 3
   },
   "file_extension": ".py",
   "mimetype": "text/x-python",
   "name": "python",
   "nbconvert_exporter": "python",
   "pygments_lexer": "ipython3",
   "version": "3.10.11"
  }
 },
 "nbformat": 4,
 "nbformat_minor": 5
}
